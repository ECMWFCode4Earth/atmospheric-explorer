{
 "cells": [
  {
   "cell_type": "code",
   "execution_count": 1,
   "metadata": {},
   "outputs": [],
   "source": [
    "from atmospheric_explorer.api.shape_selection.shapefile import ShapefilesDownloader\n",
    "from atmospheric_explorer.api.shape_selection.shape_selection import dissolve_shapefile_level, EntitySelection\n",
    "from atmospheric_explorer.api.shape_selection.config import SelectionLevel"
   ]
  },
  {
   "cell_type": "code",
   "execution_count": 2,
   "metadata": {},
   "outputs": [
    {
     "name": "stderr",
     "output_type": "stream",
     "text": [
      "2023-09-01 16:27:45,701 DEBUG Attempting to create ShapefilesDownloader object with attributes\n",
      "resolution: 50m\n",
      "map_type: cultural\n",
      "info_type: admin\n",
      "depth: 0\n",
      "instance: map_subunits\n",
      "\n",
      "2023-09-01 16:27:45,702 INFO Created folder /home/luigi/.atmospheric_explorer/shapefiles to save shapefiles\n",
      "2023-09-01 16:27:45,702 DEBUG Created ShapefilesDownloader object with attributes\n",
      "resolution: 50m\n",
      "map_type: cultural\n",
      "info_type: admin\n",
      "depth: 0\n",
      "instance: map_subunits\n",
      "timeout: 10\n",
      "dst_dir: /home/luigi/.atmospheric_explorer/shapefiles\n",
      "\n",
      "2023-09-01 16:27:45,703 INFO Shapefile not downloaded, downloading it from Natural Earth Data\n",
      "2023-09-01 16:27:45,703 INFO Downloading shapefiles from https://www.naturalearthdata.com/http//www.naturalearthdata.com/download/50m/cultural/ne_50m_admin_0_map_subunits.zip\n",
      "2023-09-01 16:27:46,891 INFO Shapefiles saved into file /home/luigi/.atmospheric_explorer/shapefiles/ne_50m_admin_0_map_subunits.zip\n",
      "2023-09-01 16:27:46,905 INFO Shapefile extracted to /home/luigi/.atmospheric_explorer/shapefiles/ne_50m_admin_0_map_subunits\n",
      "2023-09-01 16:27:46,905 INFO Removed file /home/luigi/.atmospheric_explorer/shapefiles/ne_50m_admin_0_map_subunits.zip\n",
      "2023-09-01 16:27:46,906 DEBUG Reading /home/luigi/.atmospheric_explorer/shapefiles/ne_50m_admin_0_map_subunits/ne_50m_admin_0_map_subunits.shp as dataframe\n"
     ]
    }
   ],
   "source": [
    "id1 = ShapefilesDownloader()\n",
    "df1 = id1.get_as_dataframe()"
   ]
  },
  {
   "cell_type": "code",
   "execution_count": 3,
   "metadata": {},
   "outputs": [
    {
     "name": "stderr",
     "output_type": "stream",
     "text": [
      "2023-09-01 16:27:47,868 DEBUG Attempting to create ShapefilesDownloader object with attributes\n",
      "resolution: 50m\n",
      "map_type: cultural\n",
      "info_type: admin\n",
      "depth: 0\n",
      "instance: map_subunits\n",
      "\n",
      "2023-09-01 16:27:47,869 DEBUG Found cached shapefile object\n",
      "2023-09-01 16:27:47,869 INFO Shapefile already downloaded in /home/luigi/.atmospheric_explorer/shapefiles/ne_50m_admin_0_map_subunits/ne_50m_admin_0_map_subunits.shp\n",
      "2023-09-01 16:27:47,870 DEBUG Reading /home/luigi/.atmospheric_explorer/shapefiles/ne_50m_admin_0_map_subunits/ne_50m_admin_0_map_subunits.shp as dataframe\n"
     ]
    }
   ],
   "source": [
    "id2 = ShapefilesDownloader()\n",
    "df2 = id2.get_as_dataframe()"
   ]
  },
  {
   "cell_type": "code",
   "execution_count": 4,
   "metadata": {},
   "outputs": [
    {
     "name": "stderr",
     "output_type": "stream",
     "text": [
      "2023-09-01 16:27:51,811 DEBUG Dissolve shapefile to level Continents\n",
      "2023-09-01 16:27:51,812 DEBUG Attempting to create ShapefilesDownloader object with attributes\n",
      "resolution: 50m\n",
      "map_type: cultural\n",
      "info_type: admin\n",
      "depth: 0\n",
      "instance: map_subunits\n",
      "\n",
      "2023-09-01 16:27:51,813 DEBUG Found cached shapefile object\n",
      "2023-09-01 16:27:51,813 INFO Shapefile already downloaded in /home/luigi/.atmospheric_explorer/shapefiles/ne_50m_admin_0_map_subunits/ne_50m_admin_0_map_subunits.shp\n",
      "2023-09-01 16:27:51,814 DEBUG Reading /home/luigi/.atmospheric_explorer/shapefiles/ne_50m_admin_0_map_subunits/ne_50m_admin_0_map_subunits.shp as dataframe\n"
     ]
    },
    {
     "data": {
      "text/html": [
       "<div>\n",
       "<style scoped>\n",
       "    .dataframe tbody tr th:only-of-type {\n",
       "        vertical-align: middle;\n",
       "    }\n",
       "\n",
       "    .dataframe tbody tr th {\n",
       "        vertical-align: top;\n",
       "    }\n",
       "\n",
       "    .dataframe thead th {\n",
       "        text-align: right;\n",
       "    }\n",
       "</style>\n",
       "<table border=\"1\" class=\"dataframe\">\n",
       "  <thead>\n",
       "    <tr style=\"text-align: right;\">\n",
       "      <th></th>\n",
       "      <th>label</th>\n",
       "      <th>geometry</th>\n",
       "    </tr>\n",
       "  </thead>\n",
       "  <tbody>\n",
       "    <tr>\n",
       "      <th>0</th>\n",
       "      <td>Africa</td>\n",
       "      <td>MULTIPOLYGON (((-16.14404 11.16685, -16.10479 ...</td>\n",
       "    </tr>\n",
       "    <tr>\n",
       "      <th>1</th>\n",
       "      <td>Antarctica</td>\n",
       "      <td>MULTIPOLYGON (((-163.60176 -82.96855, -163.602...</td>\n",
       "    </tr>\n",
       "    <tr>\n",
       "      <th>2</th>\n",
       "      <td>Asia</td>\n",
       "      <td>MULTIPOLYGON (((54.12949 12.36064, 53.71885 12...</td>\n",
       "    </tr>\n",
       "    <tr>\n",
       "      <th>3</th>\n",
       "      <td>Europe</td>\n",
       "      <td>MULTIPOLYGON (((1.49688 38.71191, 1.59268 38.7...</td>\n",
       "    </tr>\n",
       "    <tr>\n",
       "      <th>4</th>\n",
       "      <td>North America</td>\n",
       "      <td>MULTIPOLYGON (((-178.04512 51.80107, -178.1534...</td>\n",
       "    </tr>\n",
       "    <tr>\n",
       "      <th>5</th>\n",
       "      <td>Oceania</td>\n",
       "      <td>MULTIPOLYGON (((-176.22080 -44.33057, -176.214...</td>\n",
       "    </tr>\n",
       "    <tr>\n",
       "      <th>6</th>\n",
       "      <td>Seven seas (open ocean)</td>\n",
       "      <td>MULTIPOLYGON (((-45.21099 -60.64814, -45.18638...</td>\n",
       "    </tr>\n",
       "    <tr>\n",
       "      <th>7</th>\n",
       "      <td>South America</td>\n",
       "      <td>MULTIPOLYGON (((-73.78179 -53.05605, -73.65400...</td>\n",
       "    </tr>\n",
       "  </tbody>\n",
       "</table>\n",
       "</div>"
      ],
      "text/plain": [
       "                     label                                           geometry\n",
       "0                   Africa  MULTIPOLYGON (((-16.14404 11.16685, -16.10479 ...\n",
       "1               Antarctica  MULTIPOLYGON (((-163.60176 -82.96855, -163.602...\n",
       "2                     Asia  MULTIPOLYGON (((54.12949 12.36064, 53.71885 12...\n",
       "3                   Europe  MULTIPOLYGON (((1.49688 38.71191, 1.59268 38.7...\n",
       "4            North America  MULTIPOLYGON (((-178.04512 51.80107, -178.1534...\n",
       "5                  Oceania  MULTIPOLYGON (((-176.22080 -44.33057, -176.214...\n",
       "6  Seven seas (open ocean)  MULTIPOLYGON (((-45.21099 -60.64814, -45.18638...\n",
       "7            South America  MULTIPOLYGON (((-73.78179 -53.05605, -73.65400..."
      ]
     },
     "execution_count": 4,
     "metadata": {},
     "output_type": "execute_result"
    }
   ],
   "source": [
    "dissolve_shapefile_level(SelectionLevel.CONTINENTS)"
   ]
  },
  {
   "cell_type": "code",
   "execution_count": 5,
   "metadata": {},
   "outputs": [
    {
     "name": "stderr",
     "output_type": "stream",
     "text": [
      "2023-09-01 16:27:53,142 DEBUG Dissolve shapefile to level Continents\n",
      "2023-09-01 16:27:53,143 DEBUG Attempting to create ShapefilesDownloader object with attributes\n",
      "resolution: 50m\n",
      "map_type: cultural\n",
      "info_type: admin\n",
      "depth: 0\n",
      "instance: map_subunits\n",
      "\n",
      "2023-09-01 16:27:53,143 DEBUG Found cached shapefile object\n",
      "2023-09-01 16:27:53,143 INFO Shapefile already downloaded in /home/luigi/.atmospheric_explorer/shapefiles/ne_50m_admin_0_map_subunits/ne_50m_admin_0_map_subunits.shp\n",
      "2023-09-01 16:27:53,144 DEBUG Reading /home/luigi/.atmospheric_explorer/shapefiles/ne_50m_admin_0_map_subunits/ne_50m_admin_0_map_subunits.shp as dataframe\n"
     ]
    },
    {
     "data": {
      "text/html": [
       "<div>\n",
       "<style scoped>\n",
       "    .dataframe tbody tr th:only-of-type {\n",
       "        vertical-align: middle;\n",
       "    }\n",
       "\n",
       "    .dataframe tbody tr th {\n",
       "        vertical-align: top;\n",
       "    }\n",
       "\n",
       "    .dataframe thead th {\n",
       "        text-align: right;\n",
       "    }\n",
       "</style>\n",
       "<table border=\"1\" class=\"dataframe\">\n",
       "  <thead>\n",
       "    <tr style=\"text-align: right;\">\n",
       "      <th></th>\n",
       "      <th>label</th>\n",
       "      <th>geometry</th>\n",
       "    </tr>\n",
       "  </thead>\n",
       "  <tbody>\n",
       "    <tr>\n",
       "      <th>0</th>\n",
       "      <td>Africa</td>\n",
       "      <td>MULTIPOLYGON (((-16.14404 11.16685, -16.10479 ...</td>\n",
       "    </tr>\n",
       "    <tr>\n",
       "      <th>1</th>\n",
       "      <td>Antarctica</td>\n",
       "      <td>MULTIPOLYGON (((-163.60176 -82.96855, -163.602...</td>\n",
       "    </tr>\n",
       "    <tr>\n",
       "      <th>2</th>\n",
       "      <td>Asia</td>\n",
       "      <td>MULTIPOLYGON (((54.12949 12.36064, 53.71885 12...</td>\n",
       "    </tr>\n",
       "    <tr>\n",
       "      <th>3</th>\n",
       "      <td>Europe</td>\n",
       "      <td>MULTIPOLYGON (((1.49688 38.71191, 1.59268 38.7...</td>\n",
       "    </tr>\n",
       "    <tr>\n",
       "      <th>4</th>\n",
       "      <td>North America</td>\n",
       "      <td>MULTIPOLYGON (((-178.04512 51.80107, -178.1534...</td>\n",
       "    </tr>\n",
       "    <tr>\n",
       "      <th>5</th>\n",
       "      <td>Oceania</td>\n",
       "      <td>MULTIPOLYGON (((-176.22080 -44.33057, -176.214...</td>\n",
       "    </tr>\n",
       "    <tr>\n",
       "      <th>6</th>\n",
       "      <td>Seven seas (open ocean)</td>\n",
       "      <td>MULTIPOLYGON (((-45.21099 -60.64814, -45.18638...</td>\n",
       "    </tr>\n",
       "    <tr>\n",
       "      <th>7</th>\n",
       "      <td>South America</td>\n",
       "      <td>MULTIPOLYGON (((-73.78179 -53.05605, -73.65400...</td>\n",
       "    </tr>\n",
       "  </tbody>\n",
       "</table>\n",
       "</div>"
      ],
      "text/plain": [
       "                     label                                           geometry\n",
       "0                   Africa  MULTIPOLYGON (((-16.14404 11.16685, -16.10479 ...\n",
       "1               Antarctica  MULTIPOLYGON (((-163.60176 -82.96855, -163.602...\n",
       "2                     Asia  MULTIPOLYGON (((54.12949 12.36064, 53.71885 12...\n",
       "3                   Europe  MULTIPOLYGON (((1.49688 38.71191, 1.59268 38.7...\n",
       "4            North America  MULTIPOLYGON (((-178.04512 51.80107, -178.1534...\n",
       "5                  Oceania  MULTIPOLYGON (((-176.22080 -44.33057, -176.214...\n",
       "6  Seven seas (open ocean)  MULTIPOLYGON (((-45.21099 -60.64814, -45.18638...\n",
       "7            South America  MULTIPOLYGON (((-73.78179 -53.05605, -73.65400..."
      ]
     },
     "execution_count": 5,
     "metadata": {},
     "output_type": "execute_result"
    }
   ],
   "source": [
    "dissolve_shapefile_level(SelectionLevel.CONTINENTS)"
   ]
  },
  {
   "cell_type": "code",
   "execution_count": 6,
   "metadata": {},
   "outputs": [
    {
     "name": "stderr",
     "output_type": "stream",
     "text": [
      "2023-09-01 16:28:14,232 DEBUG Dissolve shapefile to level Continents\n",
      "2023-09-01 16:28:14,233 DEBUG Attempting to create ShapefilesDownloader object with attributes\n",
      "resolution: 50m\n",
      "map_type: cultural\n",
      "info_type: admin\n",
      "depth: 0\n",
      "instance: map_subunits\n",
      "\n",
      "2023-09-01 16:28:14,234 DEBUG Found cached shapefile object\n",
      "2023-09-01 16:28:14,234 INFO Shapefile already downloaded in /home/luigi/.atmospheric_explorer/shapefiles/ne_50m_admin_0_map_subunits/ne_50m_admin_0_map_subunits.shp\n",
      "2023-09-01 16:28:14,235 DEBUG Reading /home/luigi/.atmospheric_explorer/shapefiles/ne_50m_admin_0_map_subunits/ne_50m_admin_0_map_subunits.shp as dataframe\n"
     ]
    },
    {
     "data": {
      "text/plain": [
       "    label                                           geometry\n",
       "0  Africa  MULTIPOLYGON (((-16.14404 11.16685, -16.10479 ...\n",
       "3  Europe  MULTIPOLYGON (((1.49688 38.71191, 1.59268 38.7..."
      ]
     },
     "execution_count": 6,
     "metadata": {},
     "output_type": "execute_result"
    }
   ],
   "source": [
    "EntitySelection.from_entities_list([\"Europe\", \"Africa\"], level=SelectionLevel.CONTINENTS)"
   ]
  },
  {
   "cell_type": "code",
   "execution_count": null,
   "metadata": {},
   "outputs": [],
   "source": []
  }
 ],
 "metadata": {
  "kernelspec": {
   "display_name": "atmospheric-explorer",
   "language": "python",
   "name": "python3"
  },
  "language_info": {
   "codemirror_mode": {
    "name": "ipython",
    "version": 3
   },
   "file_extension": ".py",
   "mimetype": "text/x-python",
   "name": "python",
   "nbconvert_exporter": "python",
   "pygments_lexer": "ipython3",
   "version": "3.11.0"
  },
  "orig_nbformat": 4
 },
 "nbformat": 4,
 "nbformat_minor": 2
}
