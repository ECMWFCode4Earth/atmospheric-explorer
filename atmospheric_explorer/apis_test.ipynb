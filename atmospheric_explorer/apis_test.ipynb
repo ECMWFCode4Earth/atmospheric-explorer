{
 "cells": [
  {
   "cell_type": "code",
   "execution_count": null,
   "metadata": {},
   "outputs": [],
   "source": [
    "from atmospheric_explorer.utils import get_local_folder\n",
    "import os\n",
    "import shutil\n",
    "import plotly.express as px\n",
    "from atmospheric_explorer.plotting_apis import ghg_surface_satellite_yearly_plot, eac4_anomalies_plot, eac4_hovmoeller_latitude_plot, eac4_hovmoeller_levels_plot"
   ]
  },
  {
   "cell_type": "code",
   "execution_count": null,
   "metadata": {},
   "outputs": [],
   "source": [
    "# Remove previous data\n",
    "shutil.rmtree(os.path.join(get_local_folder(), 'data'))"
   ]
  },
  {
   "cell_type": "code",
   "execution_count": null,
   "metadata": {},
   "outputs": [],
   "source": [
    "# Remove previous data\n",
    "shutil.rmtree(os.path.join(get_local_folder(), 'shapefiles'))"
   ]
  },
  {
   "cell_type": "code",
   "execution_count": null,
   "metadata": {},
   "outputs": [],
   "source": [
    "years=[str(y) for y in range(2010, 2021)]\n",
    "months=[\n",
    "    '01', '02', '03',\n",
    "    '04', '05', '06',\n",
    "    '07', '08', '09',\n",
    "    '10', '11', '12'\n",
    "]\n",
    "countries = ['Italy', 'Russia', 'France', 'Spain', 'Germany', 'Finland']\n",
    "data_variable = 'carbon_dioxide'\n",
    "var_name = 'flux_foss'"
   ]
  },
  {
   "cell_type": "code",
   "execution_count": null,
   "metadata": {},
   "outputs": [],
   "source": [
    "fig = ghg_surface_satellite_yearly_plot(data_variable, countries, years, months, \"Fossil CO2 flux\", var_name)\n",
    "fig.show()"
   ]
  },
  {
   "cell_type": "code",
   "execution_count": null,
   "metadata": {},
   "outputs": [],
   "source": [
    "data_variable = \"total_column_nitrogen_dioxide\"\n",
    "var_name = \"tcno2\"\n",
    "countries = [\"Italy\"]\n",
    "dates_range = \"2018-01-01/2020-01-01\"\n",
    "time_values = \"00:00\"\n",
    "title = \"Total columns N02 above Italy (anomalies)\""
   ]
  },
  {
   "cell_type": "code",
   "execution_count": null,
   "metadata": {},
   "outputs": [],
   "source": [
    "fig = eac4_anomalies_plot(\n",
    "    data_variable,\n",
    "    var_name,\n",
    "    countries,\n",
    "    dates_range,\n",
    "    time_values,\n",
    "    title,\n",
    ")\n",
    "fig.show()"
   ]
  },
  {
   "cell_type": "code",
   "execution_count": null,
   "metadata": {},
   "outputs": [],
   "source": [
    "data_variable = 'total_column_ozone'\n",
    "var_name = 'gtco3'\n",
    "dates_range = '2020-01-01/2022-12-31'\n",
    "time_values = '00:00'\n",
    "title = 'O3 total column'"
   ]
  },
  {
   "cell_type": "code",
   "execution_count": null,
   "metadata": {},
   "outputs": [],
   "source": [
    "eac4_hovmoeller_latitude_plot(\n",
    "    data_variable,\n",
    "    var_name,\n",
    "    dates_range,\n",
    "    time_values,\n",
    "    title,\n",
    ")"
   ]
  },
  {
   "cell_type": "code",
   "execution_count": null,
   "metadata": {},
   "outputs": [],
   "source": [
    "data_variable = 'carbon_monoxide'\n",
    "var_name = 'co'\n",
    "dates_range = '2022-01-01/2022-12-31'\n",
    "time_values = '00:00'\n",
    "title = 'CO'"
   ]
  },
  {
   "cell_type": "code",
   "execution_count": null,
   "metadata": {},
   "outputs": [],
   "source": [
    "eac4_hovmoeller_levels_plot(\n",
    "    data_variable,\n",
    "    var_name,\n",
    "    dates_range,\n",
    "    time_values,\n",
    "    ['1', '10', '100'],\n",
    "    countries,\n",
    "    title,\n",
    ")"
   ]
  },
  {
   "cell_type": "code",
   "execution_count": null,
   "metadata": {},
   "outputs": [],
   "source": [
    "fig = px.imshow(\n",
    "    img = [[1,2], [3,4]],\n",
    "    x = ['A', 'B'],\n",
    "    y = [1, 2],\n",
    "    text_auto=True\n",
    ")\n",
    "fig.update_yaxes(type='log')"
   ]
  },
  {
   "cell_type": "markdown",
   "metadata": {},
   "source": [
    "# New modularized APIs test"
   ]
  },
  {
   "cell_type": "code",
   "execution_count": null,
   "metadata": {},
   "outputs": [],
   "source": [
    "from atmospheric_explorer.plotting_apis_new import TimeSeriesPlotInstance, DatasetName, EAC4Parameters"
   ]
  },
  {
   "cell_type": "code",
   "execution_count": null,
   "metadata": {},
   "outputs": [],
   "source": [
    "test = TimeSeriesPlotInstance(\n",
    "    DatasetName.eac4,\n",
    "    \"Test title\",\n",
    "    [\"Italy\"],\n",
    "    \"1MS\",\n",
    "    EAC4Parameters(\n",
    "        \"total_column_nitrogen_dioxide\",\n",
    "        \"tcno2\",\n",
    "        \"netcdf\",\n",
    "        \"2020-01-01/2020-07-01\",\n",
    "        \"00:00\",\n",
    "    ),\n",
    "    None,\n",
    ")\n",
    "\n",
    "test.download_data()\n",
    "test.transform_data()"
   ]
  },
  {
   "cell_type": "code",
   "execution_count": null,
   "metadata": {},
   "outputs": [],
   "source": [
    "test.plot()"
   ]
  }
 ],
 "metadata": {
  "kernelspec": {
   "display_name": "atmospheric-explorer",
   "language": "python",
   "name": "python3"
  },
  "language_info": {
   "codemirror_mode": {
    "name": "ipython",
    "version": 3
   },
   "file_extension": ".py",
   "mimetype": "text/x-python",
   "name": "python",
   "nbconvert_exporter": "python",
   "pygments_lexer": "ipython3",
   "version": "3.11.0"
  },
  "orig_nbformat": 4
 },
 "nbformat": 4,
 "nbformat_minor": 2
}
