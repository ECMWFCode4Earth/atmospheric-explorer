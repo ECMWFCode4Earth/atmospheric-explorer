{
 "cells": [
  {
   "cell_type": "code",
   "execution_count": 2,
   "metadata": {},
   "outputs": [
    {
     "name": "stderr",
     "output_type": "stream",
     "text": [
      "INFO|units_conversion: Loaded constants from file constants.cfg\n",
      "INFO|units_conversion: Evaluating arithmetic formulas in config\n",
      "DEBUG|units_conversion: Parsing 1\n",
      "DEBUG|units_conversion: Parsing 1\n",
      "DEBUG|units_conversion: Parsing 1\n",
      "DEBUG|units_conversion: Parsing 1\n",
      "DEBUG|units_conversion: Parsing 1\n",
      "DEBUG|units_conversion: Parsing 1\n",
      "DEBUG|units_conversion: Parsing 1\n",
      "DEBUG|units_conversion: Parsing 1\n",
      "DEBUG|units_conversion: Parsing 1\n",
      "DEBUG|units_conversion: Parsing 1\n",
      "DEBUG|units_conversion: Parsing 1\n",
      "DEBUG|units_conversion: Parsing 1\n",
      "DEBUG|units_conversion: Parsing 1\n",
      "DEBUG|units_conversion: Parsing 1\n",
      "DEBUG|units_conversion: Parsing 1\n",
      "DEBUG|units_conversion: Parsing 1\n",
      "DEBUG|units_conversion: Parsing 1\n",
      "DEBUG|units_conversion: Parsing 1\n",
      "DEBUG|units_conversion: Parsing 1\n",
      "DEBUG|units_conversion: Parsing 1\n",
      "DEBUG|units_conversion: Parsing 1\n",
      "DEBUG|units_conversion: Parsing 6.0221415e23*1e-18/(1e4*28.01e-3)\n",
      "DEBUG|units_conversion: Parsing 1\n",
      "DEBUG|units_conversion: Parsing 2004008\n",
      "DEBUG|units_conversion: Parsing 1\n",
      "DEBUG|units_conversion: Parsing 1\n",
      "DEBUG|units_conversion: Parsing 1\n",
      "DEBUG|units_conversion: Parsing 28.97 / 16.044 * 1e9\n",
      "DEBUG|units_conversion: Parsing 1\n",
      "DEBUG|units_conversion: Parsing 6.0221415e23*1e-15/(1e4*46.01e-3)\n",
      "DEBUG|units_conversion: Parsing 1\n",
      "DEBUG|units_conversion: Parsing 46698\n",
      "DEBUG|units_conversion: Parsing 1\n",
      "DEBUG|units_conversion: Parsing 1\n",
      "DEBUG|units_conversion: Parsing 939931.55923209002\n",
      "DEBUG|units_conversion: Parsing 1\n",
      "DEBUG|units_conversion: Parsing 28.97 / 28.011 * 1e9\n",
      "DEBUG|units_conversion: Parsing 1\n",
      "DEBUG|units_conversion: Parsing 1\n",
      "DEBUG|units_conversion: Parsing 1\n",
      "DEBUG|units_conversion: Parsing 1\n",
      "DEBUG|units_conversion: Parsing 28.97 / 30.03 * 1e9\n",
      "DEBUG|units_conversion: Parsing 1\n",
      "DEBUG|units_conversion: Parsing 1\n",
      "DEBUG|units_conversion: Parsing 1\n",
      "DEBUG|units_conversion: Parsing 1\n",
      "DEBUG|units_conversion: Parsing 1\n",
      "DEBUG|units_conversion: Parsing 1\n",
      "DEBUG|units_conversion: Parsing 1\n",
      "DEBUG|units_conversion: Parsing 1\n",
      "DEBUG|units_conversion: Parsing 28.97 / 46.0055 * 1e9\n",
      "DEBUG|units_conversion: Parsing 28.97 / 30.01 * 1e9\n",
      "DEBUG|units_conversion: Parsing 28.97 / 47.998 * 1e9\n",
      "DEBUG|units_conversion: Parsing 1\n",
      "DEBUG|units_conversion: Parsing 1\n",
      "DEBUG|units_conversion: Parsing 1\n",
      "DEBUG|units_conversion: Parsing 1\n",
      "DEBUG|units_conversion: Parsing 1\n",
      "DEBUG|units_conversion: Parsing 1\n",
      "DEBUG|units_conversion: Parsing 1\n",
      "DEBUG|units_conversion: Parsing 28.97 / 64.066 * 1e9\n",
      "DEBUG|units_conversion: Parsing 1\n",
      "DEBUG|units_conversion: Parsing 1\n",
      "DEBUG|units_conversion: Parsing 1\n",
      "DEBUG|units_conversion: Parsing 1\n",
      "DEBUG|units_conversion: Parsing 1\n",
      "DEBUG|units_conversion: Parsing 1\n",
      "DEBUG|units_conversion: Parsing 1\n",
      "DEBUG|units_conversion: Parsing 1\n",
      "DEBUG|units_conversion: Parsing 1\n",
      "DEBUG|units_conversion: Parsing 1\n",
      "DEBUG|units_conversion: Parsing 1\n",
      "DEBUG|units_conversion: Parsing 1\n",
      "DEBUG|units_conversion: Parsing 1\n",
      "DEBUG|units_conversion: Parsing 1\n",
      "DEBUG|units_conversion: Parsing 1\n",
      "DEBUG|units_conversion: Parsing 1\n",
      "DEBUG|units_conversion: Parsing 1\n",
      "DEBUG|units_conversion: Parsing 1\n",
      "DEBUG|units_conversion: Parsing 1\n",
      "DEBUG|units_conversion: Parsing 1\n",
      "DEBUG|units_conversion: Parsing 1\n",
      "DEBUG|units_conversion: Parsing 1\n",
      "DEBUG|units_conversion: Parsing 1\n",
      "DEBUG|units_conversion: Parsing 1\n",
      "DEBUG|units_conversion: Parsing 1\n",
      "DEBUG|units_conversion: Parsing 1\n",
      "DEBUG|units_conversion: Parsing 1\n",
      "DEBUG|units_conversion: Parsing 1\n",
      "DEBUG|units_conversion: Parsing 1\n",
      "DEBUG|units_conversion: Parsing 1\n",
      "DEBUG|units_conversion: Parsing 1\n",
      "DEBUG|units_conversion: Parsing 1\n",
      "DEBUG|units_conversion: Parsing 1\n",
      "DEBUG|units_conversion: Parsing 1\n",
      "DEBUG|units_conversion: Parsing 1\n",
      "DEBUG|units_conversion: Parsing 1\n",
      "DEBUG|units_conversion: Parsing 1\n",
      "DEBUG|units_conversion: Parsing 1\n",
      "DEBUG|units_conversion: Parsing 1\n",
      "DEBUG|units_conversion: Parsing 1\n",
      "DEBUG|units_conversion: Parsing 1\n",
      "DEBUG|units_conversion: Parsing 1\n",
      "DEBUG|units_conversion: Parsing 1\n",
      "DEBUG|units_conversion: Parsing 1\n",
      "DEBUG|units_conversion: Parsing 1\n",
      "DEBUG|units_conversion: Parsing 1\n",
      "DEBUG|units_conversion: Parsing 1\n",
      "DEBUG|units_conversion: Parsing 1\n",
      "DEBUG|units_conversion: Parsing 1\n",
      "DEBUG|units_conversion: Parsing 1\n",
      "DEBUG|units_conversion: Parsing 1\n",
      "DEBUG|units_conversion: Parsing 1\n",
      "DEBUG|units_conversion: Parsing 1\n",
      "DEBUG|units_conversion: Parsing 1\n",
      "DEBUG|units_conversion: Parsing 1\n",
      "DEBUG|units_conversion: Parsing 1\n",
      "DEBUG|units_conversion: Parsing 1\n",
      "DEBUG|units_conversion: Parsing 1\n",
      "DEBUG|units_conversion: Parsing 1\n",
      "DEBUG|units_conversion: Parsing 1\n",
      "DEBUG|units_conversion: Parsing 1\n",
      "DEBUG|units_conversion: Parsing 1\n",
      "DEBUG|units_conversion: Parsing 1\n",
      "DEBUG|units_conversion: Parsing 1\n",
      "DEBUG|units_conversion: Parsing 1\n",
      "DEBUG|units_conversion: Parsing 1\n",
      "DEBUG|units_conversion: Parsing 28.97 / 16.044 * 1e9\n",
      "DEBUG|units_conversion: Parsing 28.97 / 16.044 * 1e9\n",
      "DEBUG|units_conversion: Parsing 1\n",
      "DEBUG|units_conversion: Parsing 1\n",
      "DEBUG|units_conversion: Parsing 1\n",
      "DEBUG|units_conversion: Parsing 1\n",
      "DEBUG|units_conversion: Parsing 1\n",
      "DEBUG|units_conversion: Parsing 1\n",
      "DEBUG|units_conversion: Parsing 1\n",
      "DEBUG|units_conversion: Parsing 1\n",
      "DEBUG|units_conversion: Parsing 1\n",
      "DEBUG|units_conversion: Parsing 1\n",
      "DEBUG|units_conversion: Parsing 1\n",
      "DEBUG|units_conversion: Parsing 1\n",
      "DEBUG|units_conversion: Parsing 1\n",
      "DEBUG|units_conversion: Parsing 1\n",
      "DEBUG|units_conversion: Parsing 1\n",
      "DEBUG|units_conversion: Parsing 1\n",
      "DEBUG|units_conversion: Parsing 1\n",
      "DEBUG|units_conversion: Parsing 1\n",
      "DEBUG|units_conversion: Parsing 1\n",
      "DEBUG|units_conversion: Parsing 1\n",
      "DEBUG|units_conversion: Parsing 1\n",
      "DEBUG|units_conversion: Parsing 1\n",
      "DEBUG|units_conversion: Parsing 1\n",
      "DEBUG|units_conversion: Parsing 1\n",
      "DEBUG|units_conversion: Parsing 1\n",
      "DEBUG|units_conversion: Parsing 1\n",
      "DEBUG|units_conversion: Parsing 28.97 / 44.01 * 1e6\n",
      "DEBUG|units_conversion: Parsing 28.97 / 16.044 * 1e9\n",
      "DEBUG|units_conversion: Parsing 28.97 / 46.1 * 1e9\n",
      "INFO|units_conversion: Finished loading constants from file\n"
     ]
    }
   ],
   "source": [
    "from atmospheric_explorer.cams_interfaces import InversionOptimisedGreenhouseGas, EAC4Instance\n",
    "from atmospheric_explorer.shapefile import ShapefilesDownloader\n",
    "from atmospheric_explorer.utils import get_local_folder\n",
    "from atmospheric_explorer.units_conversion import convert_units_array\n",
    "import plotly.express as px\n",
    "import seaborn as sns\n",
    "import matplotlib.pyplot as plt\n",
    "import os\n",
    "from glob import glob\n",
    "import xarray as xr\n",
    "from datetime import datetime\n",
    "import geopandas as gpd\n",
    "from shapely.geometry import mapping\n",
    "import plotly.graph_objects as go\n",
    "import shutil\n",
    "import numpy as np\n",
    "import statsmodels.stats.api as sms\n",
    "import pandas as pd\n",
    "from plotly.subplots import make_subplots\n",
    "from math import ceil\n",
    "from atmospheric_explorer.plotting_apis import surface_satellite_yearly_plot, add_ci, clip_and_concat_countries, line_with_ci_subplots\n",
    "from atmospheric_explorer.utils import hex_to_rgb"
   ]
  },
  {
   "cell_type": "code",
   "execution_count": 3,
   "metadata": {},
   "outputs": [],
   "source": [
    "# Remove previous data\n",
    "shutil.rmtree(os.path.join(get_local_folder(), 'data'))"
   ]
  },
  {
   "cell_type": "code",
   "execution_count": 4,
   "metadata": {},
   "outputs": [],
   "source": [
    "# Remove previous data\n",
    "shutil.rmtree(os.path.join(get_local_folder(), 'shapefiles'))"
   ]
  },
  {
   "cell_type": "code",
   "execution_count": 7,
   "metadata": {},
   "outputs": [],
   "source": [
    "years=[str(y) for y in range(2010, 2021)]\n",
    "months=[\n",
    "    '01', '02', '03',\n",
    "    '04', '05', '06',\n",
    "    '07', '08', '09',\n",
    "    '10', '11', '12'\n",
    "]\n",
    "countries = ['Italy', 'Russia', 'France', 'Spain', 'Germany', 'Finland']"
   ]
  },
  {
   "cell_type": "code",
   "execution_count": 8,
   "metadata": {},
   "outputs": [
    {
     "name": "stderr",
     "output_type": "stream",
     "text": [
      "INFO|cams_interfaces: Created folder /home/luigibrancati/.atmospheric_explorer/data/global_greenhouse_gas_inversion\n",
      "INFO|cams_interfaces: Created folder /home/luigibrancati/.atmospheric_explorer/data/global_greenhouse_gas_inversion/data_3\n",
      "INFO|cams_interfaces: Finished downloading file /home/luigibrancati/.atmospheric_explorer/data/global_greenhouse_gas_inversion/data_3/data_3.zip\n",
      "INFO|cams_interfaces: Extracted file /home/luigibrancati/.atmospheric_explorer/data/global_greenhouse_gas_inversion/data_3/data_3.zip to folder /home/luigibrancati/.atmospheric_explorer/data/global_greenhouse_gas_inversion/data_3\n",
      "INFO|cams_interfaces: Updated file_full_path to wildcard path /home/luigibrancati/.atmospheric_explorer/data/global_greenhouse_gas_inversion/data_3/*.nc\n",
      "INFO|cams_interfaces: Removed /home/luigibrancati/.atmospheric_explorer/data/global_greenhouse_gas_inversion/data_3/data_3.zip\n",
      "INFO|cams_interfaces: Created folder /home/luigibrancati/.atmospheric_explorer/data/global_greenhouse_gas_inversion\n",
      "INFO|cams_interfaces: Created folder /home/luigibrancati/.atmospheric_explorer/data/global_greenhouse_gas_inversion/data_4\n",
      "INFO|cams_interfaces: Finished downloading file /home/luigibrancati/.atmospheric_explorer/data/global_greenhouse_gas_inversion/data_4/data_4.zip\n",
      "INFO|cams_interfaces: Extracted file /home/luigibrancati/.atmospheric_explorer/data/global_greenhouse_gas_inversion/data_4/data_4.zip to folder /home/luigibrancati/.atmospheric_explorer/data/global_greenhouse_gas_inversion/data_4\n",
      "INFO|cams_interfaces: Updated file_full_path to wildcard path /home/luigibrancati/.atmospheric_explorer/data/global_greenhouse_gas_inversion/data_4/*.nc\n",
      "INFO|cams_interfaces: Removed /home/luigibrancati/.atmospheric_explorer/data/global_greenhouse_gas_inversion/data_4/data_4.zip\n",
      "DEBUG|shapefile: Created ShapefilesDownloader object with attributes\n",
      "dst_dir: /home/luigibrancati/.atmospheric_explorer/shapefiles\n",
      "resolution: 10m\n",
      "info_type: admin\n",
      "depth: 0\n",
      "instance: countries\n",
      "\n",
      "INFO|shapefile: Created folder /home/luigibrancati/.atmospheric_explorer/shapefiles to save shapefiles\n",
      "INFO|shapefile: Downloading shapefiles from https://www.naturalearthdata.com/http//www.naturalearthdata.com/download/10m/cultural/ne_10m_admin_0_countries.zip\n",
      "INFO|shapefile: Shapefiles downloaded to file /home/luigibrancati/.atmospheric_explorer/shapefiles/ne_10m_admin_0_countries.zip\n",
      "INFO|shapefile: Shapefile extracted to /home/luigibrancati/.atmospheric_explorer/shapefiles/ne_10m_admin_0_countries\n",
      "INFO|shapefile: Removed file /home/luigibrancati/.atmospheric_explorer/shapefiles/ne_10m_admin_0_countries.zip\n"
     ]
    },
    {
     "data": {
      "application/vnd.plotly.v1+json": {
       "config": {
        "plotlyServerURL": "https://plot.ly"
       },
       "data": [
        {
         "hovertemplate": "input_observations=surface<br>admin=Italy<br>time=%{x}<br>mean=%{y}<extra></extra>",
         "legendgroup": "surface",
         "line": {
          "color": "#1F77B4",
          "dash": "solid"
         },
         "marker": {
          "symbol": "circle"
         },
         "mode": "lines+markers",
         "name": "surface",
         "orientation": "v",
         "showlegend": true,
         "type": "scatter",
         "x": [
          "2010-01-01T00:00:00",
          "2011-01-01T00:00:00",
          "2012-01-01T00:00:00",
          "2013-01-01T00:00:00",
          "2014-01-01T00:00:00",
          "2015-01-01T00:00:00",
          "2016-01-01T00:00:00",
          "2017-01-01T00:00:00",
          "2018-01-01T00:00:00",
          "2019-01-01T00:00:00",
          "2020-01-01T00:00:00"
         ],
         "xaxis": "x5",
         "y": [
          11267.950746430302,
          10909.568332789653,
          10458.20449583297,
          9777.812969876239,
          9246.226768236433,
          9508.833202624908,
          9475.894094830985,
          9421.225376516128,
          9310.697181253363,
          9087.1811887656,
          8012.244885884432
         ],
         "yaxis": "y5"
        },
        {
         "hovertemplate": "input_observations=surface<br>admin=Russia<br>time=%{x}<br>mean=%{y}<extra></extra>",
         "legendgroup": "surface",
         "line": {
          "color": "#1F77B4",
          "dash": "solid"
         },
         "marker": {
          "symbol": "circle"
         },
         "mode": "lines+markers",
         "name": "surface",
         "orientation": "v",
         "showlegend": false,
         "type": "scatter",
         "x": [
          "2010-01-01T00:00:00",
          "2011-01-01T00:00:00",
          "2012-01-01T00:00:00",
          "2013-01-01T00:00:00",
          "2014-01-01T00:00:00",
          "2015-01-01T00:00:00",
          "2016-01-01T00:00:00",
          "2017-01-01T00:00:00",
          "2018-01-01T00:00:00",
          "2019-01-01T00:00:00",
          "2020-01-01T00:00:00"
         ],
         "xaxis": "x6",
         "y": [
          1075.1821327256132,
          1108.349682568023,
          1119.3113711423002,
          1084.5419613456934,
          1087.6236257630096,
          1086.259158671225,
          1085.2615592905347,
          1104.5459195548337,
          1133.7971101240037,
          1163.6868883215839,
          1084.5981698962141
         ],
         "yaxis": "y6"
        },
        {
         "hovertemplate": "input_observations=surface<br>admin=France<br>time=%{x}<br>mean=%{y}<extra></extra>",
         "legendgroup": "surface",
         "line": {
          "color": "#1F77B4",
          "dash": "solid"
         },
         "marker": {
          "symbol": "circle"
         },
         "mode": "lines+markers",
         "name": "surface",
         "orientation": "v",
         "showlegend": false,
         "type": "scatter",
         "x": [
          "2010-01-01T00:00:00",
          "2011-01-01T00:00:00",
          "2012-01-01T00:00:00",
          "2013-01-01T00:00:00",
          "2014-01-01T00:00:00",
          "2015-01-01T00:00:00",
          "2016-01-01T00:00:00",
          "2017-01-01T00:00:00",
          "2018-01-01T00:00:00",
          "2019-01-01T00:00:00",
          "2020-01-01T00:00:00"
         ],
         "xaxis": "x3",
         "y": [
          9314.263417084223,
          8752.372503877717,
          8660.733588320467,
          8610.232799210704,
          8014.573554151061,
          8188.91572020426,
          8227.094967318602,
          8285.495605546066,
          8081.097267755202,
          7783.255035581449,
          6851.278184242404
         ],
         "yaxis": "y3"
        },
        {
         "hovertemplate": "input_observations=surface<br>admin=Spain<br>time=%{x}<br>mean=%{y}<extra></extra>",
         "legendgroup": "surface",
         "line": {
          "color": "#1F77B4",
          "dash": "solid"
         },
         "marker": {
          "symbol": "circle"
         },
         "mode": "lines+markers",
         "name": "surface",
         "orientation": "v",
         "showlegend": false,
         "type": "scatter",
         "x": [
          "2010-01-01T00:00:00",
          "2011-01-01T00:00:00",
          "2012-01-01T00:00:00",
          "2013-01-01T00:00:00",
          "2014-01-01T00:00:00",
          "2015-01-01T00:00:00",
          "2016-01-01T00:00:00",
          "2017-01-01T00:00:00",
          "2018-01-01T00:00:00",
          "2019-01-01T00:00:00",
          "2020-01-01T00:00:00"
         ],
         "xaxis": "x4",
         "y": [
          4951.904551293903,
          4922.381536868489,
          4838.450391941248,
          4502.530897933794,
          4522.571312205714,
          4807.461274131877,
          4654.559752199256,
          4913.729484567265,
          4816.959470858332,
          4616.556203972444,
          3858.9725670564117
         ],
         "yaxis": "y4"
        },
        {
         "hovertemplate": "input_observations=surface<br>admin=Germany<br>time=%{x}<br>mean=%{y}<extra></extra>",
         "legendgroup": "surface",
         "line": {
          "color": "#1F77B4",
          "dash": "solid"
         },
         "marker": {
          "symbol": "circle"
         },
         "mode": "lines+markers",
         "name": "surface",
         "orientation": "v",
         "showlegend": false,
         "type": "scatter",
         "x": [
          "2010-01-01T00:00:00",
          "2011-01-01T00:00:00",
          "2012-01-01T00:00:00",
          "2013-01-01T00:00:00",
          "2014-01-01T00:00:00",
          "2015-01-01T00:00:00",
          "2016-01-01T00:00:00",
          "2017-01-01T00:00:00",
          "2018-01-01T00:00:00",
          "2019-01-01T00:00:00",
          "2020-01-01T00:00:00"
         ],
         "xaxis": "x",
         "y": [
          26552.194660897698,
          25731.178931190723,
          25693.808044754453,
          26018.342464958336,
          24774.423378694617,
          24926.019411160585,
          25167.90138465939,
          25002.328360978372,
          24164.372296066766,
          23024.895791087998,
          20530.587350316655
         ],
         "yaxis": "y"
        },
        {
         "hovertemplate": "input_observations=surface<br>admin=Finland<br>time=%{x}<br>mean=%{y}<extra></extra>",
         "legendgroup": "surface",
         "line": {
          "color": "#1F77B4",
          "dash": "solid"
         },
         "marker": {
          "symbol": "circle"
         },
         "mode": "lines+markers",
         "name": "surface",
         "orientation": "v",
         "showlegend": false,
         "type": "scatter",
         "x": [
          "2010-01-01T00:00:00",
          "2011-01-01T00:00:00",
          "2012-01-01T00:00:00",
          "2013-01-01T00:00:00",
          "2014-01-01T00:00:00",
          "2015-01-01T00:00:00",
          "2016-01-01T00:00:00",
          "2017-01-01T00:00:00",
          "2018-01-01T00:00:00",
          "2019-01-01T00:00:00",
          "2020-01-01T00:00:00"
         ],
         "xaxis": "x2",
         "y": [
          2346.292450648533,
          2188.4109954860473,
          2043.6788284369957,
          2071.228900784285,
          1955.5922053700444,
          1829.3968776094214,
          1927.249030675345,
          1888.1368730340735,
          1906.7825590406771,
          1554.3186770924422,
          1390.0169605086746
         ],
         "yaxis": "y2"
        },
        {
         "hovertemplate": "input_observations=satellite<br>admin=Italy<br>time=%{x}<br>mean=%{y}<extra></extra>",
         "legendgroup": "satellite",
         "line": {
          "color": "#FF7F0E",
          "dash": "solid"
         },
         "marker": {
          "symbol": "circle"
         },
         "mode": "lines+markers",
         "name": "satellite",
         "orientation": "v",
         "showlegend": true,
         "type": "scatter",
         "x": [
          "2010-01-01T00:00:00",
          "2011-01-01T00:00:00",
          "2012-01-01T00:00:00",
          "2013-01-01T00:00:00",
          "2014-01-01T00:00:00",
          "2015-01-01T00:00:00",
          "2016-01-01T00:00:00",
          "2017-01-01T00:00:00",
          "2018-01-01T00:00:00",
          "2019-01-01T00:00:00",
          "2020-01-01T00:00:00"
         ],
         "xaxis": "x5",
         "y": [
          null,
          null,
          null,
          null,
          null,
          7570.903388839826,
          7560.214531525627,
          7515.953796576901,
          7462.165062917749,
          7310.825431560112,
          6349.131242685431
         ],
         "yaxis": "y5"
        },
        {
         "hovertemplate": "input_observations=satellite<br>admin=Russia<br>time=%{x}<br>mean=%{y}<extra></extra>",
         "legendgroup": "satellite",
         "line": {
          "color": "#FF7F0E",
          "dash": "solid"
         },
         "marker": {
          "symbol": "circle"
         },
         "mode": "lines+markers",
         "name": "satellite",
         "orientation": "v",
         "showlegend": false,
         "type": "scatter",
         "x": [
          "2010-01-01T00:00:00",
          "2011-01-01T00:00:00",
          "2012-01-01T00:00:00",
          "2013-01-01T00:00:00",
          "2014-01-01T00:00:00",
          "2015-01-01T00:00:00",
          "2016-01-01T00:00:00",
          "2017-01-01T00:00:00",
          "2018-01-01T00:00:00",
          "2019-01-01T00:00:00",
          "2020-01-01T00:00:00"
         ],
         "xaxis": "x6",
         "y": [
          null,
          null,
          null,
          null,
          null,
          1096.9836207374815,
          1096.453860717908,
          1117.4427081940005,
          1149.920634929869,
          1140.2279132018798,
          1080.52161350454
         ],
         "yaxis": "y6"
        },
        {
         "hovertemplate": "input_observations=satellite<br>admin=France<br>time=%{x}<br>mean=%{y}<extra></extra>",
         "legendgroup": "satellite",
         "line": {
          "color": "#FF7F0E",
          "dash": "solid"
         },
         "marker": {
          "symbol": "circle"
         },
         "mode": "lines+markers",
         "name": "satellite",
         "orientation": "v",
         "showlegend": false,
         "type": "scatter",
         "x": [
          "2010-01-01T00:00:00",
          "2011-01-01T00:00:00",
          "2012-01-01T00:00:00",
          "2013-01-01T00:00:00",
          "2014-01-01T00:00:00",
          "2015-01-01T00:00:00",
          "2016-01-01T00:00:00",
          "2017-01-01T00:00:00",
          "2018-01-01T00:00:00",
          "2019-01-01T00:00:00",
          "2020-01-01T00:00:00"
         ],
         "xaxis": "x3",
         "y": [
          null,
          null,
          null,
          null,
          null,
          7564.3498833434505,
          7616.305360941049,
          7648.245125382764,
          7437.599298761937,
          7321.5235539804125,
          6304.512633805846
         ],
         "yaxis": "y3"
        },
        {
         "hovertemplate": "input_observations=satellite<br>admin=Spain<br>time=%{x}<br>mean=%{y}<extra></extra>",
         "legendgroup": "satellite",
         "line": {
          "color": "#FF7F0E",
          "dash": "solid"
         },
         "marker": {
          "symbol": "circle"
         },
         "mode": "lines+markers",
         "name": "satellite",
         "orientation": "v",
         "showlegend": false,
         "type": "scatter",
         "x": [
          "2010-01-01T00:00:00",
          "2011-01-01T00:00:00",
          "2012-01-01T00:00:00",
          "2013-01-01T00:00:00",
          "2014-01-01T00:00:00",
          "2015-01-01T00:00:00",
          "2016-01-01T00:00:00",
          "2017-01-01T00:00:00",
          "2018-01-01T00:00:00",
          "2019-01-01T00:00:00",
          "2020-01-01T00:00:00"
         ],
         "xaxis": "x4",
         "y": [
          null,
          null,
          null,
          null,
          null,
          4979.434024571096,
          4793.448756667097,
          5070.550645173259,
          4989.812898427314,
          4673.317409873736,
          3808.4968130892207
         ],
         "yaxis": "y4"
        },
        {
         "hovertemplate": "input_observations=satellite<br>admin=Germany<br>time=%{x}<br>mean=%{y}<extra></extra>",
         "legendgroup": "satellite",
         "line": {
          "color": "#FF7F0E",
          "dash": "solid"
         },
         "marker": {
          "symbol": "circle"
         },
         "mode": "lines+markers",
         "name": "satellite",
         "orientation": "v",
         "showlegend": false,
         "type": "scatter",
         "x": [
          "2010-01-01T00:00:00",
          "2011-01-01T00:00:00",
          "2012-01-01T00:00:00",
          "2013-01-01T00:00:00",
          "2014-01-01T00:00:00",
          "2015-01-01T00:00:00",
          "2016-01-01T00:00:00",
          "2017-01-01T00:00:00",
          "2018-01-01T00:00:00",
          "2019-01-01T00:00:00",
          "2020-01-01T00:00:00"
         ],
         "xaxis": "x",
         "y": [
          null,
          null,
          null,
          null,
          null,
          29538.979122325032,
          29712.28364410992,
          29395.34009396048,
          28560.15828236297,
          27140.301949178942,
          23934.224381102555
         ],
         "yaxis": "y"
        },
        {
         "hovertemplate": "input_observations=satellite<br>admin=Finland<br>time=%{x}<br>mean=%{y}<extra></extra>",
         "legendgroup": "satellite",
         "line": {
          "color": "#FF7F0E",
          "dash": "solid"
         },
         "marker": {
          "symbol": "circle"
         },
         "mode": "lines+markers",
         "name": "satellite",
         "orientation": "v",
         "showlegend": false,
         "type": "scatter",
         "x": [
          "2010-01-01T00:00:00",
          "2011-01-01T00:00:00",
          "2012-01-01T00:00:00",
          "2013-01-01T00:00:00",
          "2014-01-01T00:00:00",
          "2015-01-01T00:00:00",
          "2016-01-01T00:00:00",
          "2017-01-01T00:00:00",
          "2018-01-01T00:00:00",
          "2019-01-01T00:00:00",
          "2020-01-01T00:00:00"
         ],
         "xaxis": "x2",
         "y": [
          null,
          null,
          null,
          null,
          null,
          1769.4164473422707,
          1870.2713957290669,
          1847.3046119985586,
          1890.0981512032333,
          1733.9512099823123,
          1521.1295022801226
         ],
         "yaxis": "y2"
        },
        {
         "fillcolor": "rgba(31,119,180, 0.2)",
         "hoverlabel": {
          "bgcolor": "rgba(31,119,180, 0.2)"
         },
         "hovertemplate": "Lower: %{y}<extra></extra>",
         "legendgroup": "CI surface",
         "line": {
          "color": "rgba(31,119,180, 0)"
         },
         "mode": "lines+markers",
         "name": "CI surface",
         "showlegend": false,
         "type": "scatter",
         "x": [
          "2010-01-01T00:00:00",
          "2011-01-01T00:00:00",
          "2012-01-01T00:00:00",
          "2013-01-01T00:00:00",
          "2014-01-01T00:00:00",
          "2015-01-01T00:00:00",
          "2016-01-01T00:00:00",
          "2017-01-01T00:00:00",
          "2018-01-01T00:00:00",
          "2019-01-01T00:00:00",
          "2020-01-01T00:00:00"
         ],
         "xaxis": "x5",
         "y": [
          10280.593532821349,
          9969.957366618088,
          9541.08086262719,
          8931.386115589732,
          8473.848176285563,
          8692.199784439177,
          8633.109425375966,
          8571.795757459733,
          8483.15704101884,
          8515.762578529051,
          7141.376898947878
         ],
         "yaxis": "y5"
        },
        {
         "fill": "tonexty",
         "fillcolor": "rgba(31,119,180, 0.2)",
         "hoverinfo": "name+text+y",
         "hoverlabel": {
          "bgcolor": "rgba(31,119,180, 0.2)"
         },
         "hovertemplate": "Upper: %{y}<extra></extra>",
         "legendgroup": "CI surface",
         "line": {
          "color": "rgba(31,119,180, 0)"
         },
         "mode": "lines+markers",
         "name": "CI surface",
         "showlegend": false,
         "type": "scatter",
         "x": [
          "2010-01-01T00:00:00",
          "2011-01-01T00:00:00",
          "2012-01-01T00:00:00",
          "2013-01-01T00:00:00",
          "2014-01-01T00:00:00",
          "2015-01-01T00:00:00",
          "2016-01-01T00:00:00",
          "2017-01-01T00:00:00",
          "2018-01-01T00:00:00",
          "2019-01-01T00:00:00",
          "2020-01-01T00:00:00"
         ],
         "xaxis": "x5",
         "y": [
          12255.307960039256,
          11849.179298961222,
          11375.328129038746,
          10624.239824162742,
          10018.605360187306,
          10325.466620810643,
          10318.678764286007,
          10270.654995572522,
          10138.237321487883,
          9658.599799002153,
          8883.112872820986
         ],
         "yaxis": "y5"
        },
        {
         "fillcolor": "rgba(31,119,180, 0.2)",
         "hoverlabel": {
          "bgcolor": "rgba(31,119,180, 0.2)"
         },
         "hovertemplate": "Lower: %{y}<extra></extra>",
         "legendgroup": "CI surface",
         "line": {
          "color": "rgba(31,119,180, 0)"
         },
         "mode": "lines+markers",
         "name": "CI surface",
         "showlegend": false,
         "type": "scatter",
         "x": [
          "2010-01-01T00:00:00",
          "2011-01-01T00:00:00",
          "2012-01-01T00:00:00",
          "2013-01-01T00:00:00",
          "2014-01-01T00:00:00",
          "2015-01-01T00:00:00",
          "2016-01-01T00:00:00",
          "2017-01-01T00:00:00",
          "2018-01-01T00:00:00",
          "2019-01-01T00:00:00",
          "2020-01-01T00:00:00"
         ],
         "xaxis": "x6",
         "y": [
          986.6444302692282,
          1017.0948935019869,
          1026.5641282888876,
          996.4956990305687,
          1000.476960871091,
          1000.287522353459,
          997.975355789977,
          1016.8639928850504,
          1042.2448624786366,
          1089.2834351463348,
          994.5835705009758
         ],
         "yaxis": "y6"
        },
        {
         "fill": "tonexty",
         "fillcolor": "rgba(31,119,180, 0.2)",
         "hoverinfo": "name+text+y",
         "hoverlabel": {
          "bgcolor": "rgba(31,119,180, 0.2)"
         },
         "hovertemplate": "Upper: %{y}<extra></extra>",
         "legendgroup": "CI surface",
         "line": {
          "color": "rgba(31,119,180, 0)"
         },
         "mode": "lines+markers",
         "name": "CI surface",
         "showlegend": false,
         "type": "scatter",
         "x": [
          "2010-01-01T00:00:00",
          "2011-01-01T00:00:00",
          "2012-01-01T00:00:00",
          "2013-01-01T00:00:00",
          "2014-01-01T00:00:00",
          "2015-01-01T00:00:00",
          "2016-01-01T00:00:00",
          "2017-01-01T00:00:00",
          "2018-01-01T00:00:00",
          "2019-01-01T00:00:00",
          "2020-01-01T00:00:00"
         ],
         "xaxis": "x6",
         "y": [
          1163.7198351819982,
          1199.6044716340589,
          1212.0586139957124,
          1172.5882236608181,
          1174.7702906549282,
          1172.2307949889907,
          1172.5477627910925,
          1192.227846224617,
          1225.3493577693707,
          1238.090341496833,
          1174.6127692914529
         ],
         "yaxis": "y6"
        },
        {
         "fillcolor": "rgba(31,119,180, 0.2)",
         "hoverlabel": {
          "bgcolor": "rgba(31,119,180, 0.2)"
         },
         "hovertemplate": "Lower: %{y}<extra></extra>",
         "legendgroup": "CI surface",
         "line": {
          "color": "rgba(31,119,180, 0)"
         },
         "mode": "lines+markers",
         "name": "CI surface",
         "showlegend": false,
         "type": "scatter",
         "x": [
          "2010-01-01T00:00:00",
          "2011-01-01T00:00:00",
          "2012-01-01T00:00:00",
          "2013-01-01T00:00:00",
          "2014-01-01T00:00:00",
          "2015-01-01T00:00:00",
          "2016-01-01T00:00:00",
          "2017-01-01T00:00:00",
          "2018-01-01T00:00:00",
          "2019-01-01T00:00:00",
          "2020-01-01T00:00:00"
         ],
         "xaxis": "x3",
         "y": [
          8592.803300305513,
          8089.958980655958,
          7992.148722117225,
          7952.125815849474,
          7429.256436800786,
          7578.094994784138,
          7591.884152391489,
          7648.174939720808,
          7464.112695538761,
          7252.772266074238,
          6057.785815167794
         ],
         "yaxis": "y3"
        },
        {
         "fill": "tonexty",
         "fillcolor": "rgba(31,119,180, 0.2)",
         "hoverinfo": "name+text+y",
         "hoverlabel": {
          "bgcolor": "rgba(31,119,180, 0.2)"
         },
         "hovertemplate": "Upper: %{y}<extra></extra>",
         "legendgroup": "CI surface",
         "line": {
          "color": "rgba(31,119,180, 0)"
         },
         "mode": "lines+markers",
         "name": "CI surface",
         "showlegend": false,
         "type": "scatter",
         "x": [
          "2010-01-01T00:00:00",
          "2011-01-01T00:00:00",
          "2012-01-01T00:00:00",
          "2013-01-01T00:00:00",
          "2014-01-01T00:00:00",
          "2015-01-01T00:00:00",
          "2016-01-01T00:00:00",
          "2017-01-01T00:00:00",
          "2018-01-01T00:00:00",
          "2019-01-01T00:00:00",
          "2020-01-01T00:00:00"
         ],
         "xaxis": "x3",
         "y": [
          10035.723533862933,
          9414.78602709948,
          9329.318454523705,
          9268.339782571931,
          8599.890671501336,
          8799.736445624387,
          8862.305782245716,
          8922.816271371325,
          8698.081839971643,
          8313.737805088662,
          7644.770553317014
         ],
         "yaxis": "y3"
        },
        {
         "fillcolor": "rgba(31,119,180, 0.2)",
         "hoverlabel": {
          "bgcolor": "rgba(31,119,180, 0.2)"
         },
         "hovertemplate": "Lower: %{y}<extra></extra>",
         "legendgroup": "CI surface",
         "line": {
          "color": "rgba(31,119,180, 0)"
         },
         "mode": "lines+markers",
         "name": "CI surface",
         "showlegend": false,
         "type": "scatter",
         "x": [
          "2010-01-01T00:00:00",
          "2011-01-01T00:00:00",
          "2012-01-01T00:00:00",
          "2013-01-01T00:00:00",
          "2014-01-01T00:00:00",
          "2015-01-01T00:00:00",
          "2016-01-01T00:00:00",
          "2017-01-01T00:00:00",
          "2018-01-01T00:00:00",
          "2019-01-01T00:00:00",
          "2020-01-01T00:00:00"
         ],
         "xaxis": "x4",
         "y": [
          4678.175877451846,
          4645.941373842822,
          4559.602264048208,
          4250.213541983363,
          4272.81911121673,
          4538.954368911228,
          4396.741303609056,
          4637.844098019639,
          4549.6266072169365,
          4469.421351993318,
          3515.0287646120096
         ],
         "yaxis": "y4"
        },
        {
         "fill": "tonexty",
         "fillcolor": "rgba(31,119,180, 0.2)",
         "hoverinfo": "name+text+y",
         "hoverlabel": {
          "bgcolor": "rgba(31,119,180, 0.2)"
         },
         "hovertemplate": "Upper: %{y}<extra></extra>",
         "legendgroup": "CI surface",
         "line": {
          "color": "rgba(31,119,180, 0)"
         },
         "mode": "lines+markers",
         "name": "CI surface",
         "showlegend": false,
         "type": "scatter",
         "x": [
          "2010-01-01T00:00:00",
          "2011-01-01T00:00:00",
          "2012-01-01T00:00:00",
          "2013-01-01T00:00:00",
          "2014-01-01T00:00:00",
          "2015-01-01T00:00:00",
          "2016-01-01T00:00:00",
          "2017-01-01T00:00:00",
          "2018-01-01T00:00:00",
          "2019-01-01T00:00:00",
          "2020-01-01T00:00:00"
         ],
         "xaxis": "x4",
         "y": [
          5225.633225135958,
          5198.821699894156,
          5117.2985198342885,
          4754.848253884229,
          4772.323513194697,
          5075.968179352528,
          4912.378200789456,
          5189.614871114893,
          5084.292334499727,
          4763.691055951567,
          4202.916369500814
         ],
         "yaxis": "y4"
        },
        {
         "fillcolor": "rgba(31,119,180, 0.2)",
         "hoverlabel": {
          "bgcolor": "rgba(31,119,180, 0.2)"
         },
         "hovertemplate": "Lower: %{y}<extra></extra>",
         "legendgroup": "CI surface",
         "line": {
          "color": "rgba(31,119,180, 0)"
         },
         "mode": "lines+markers",
         "name": "CI surface",
         "showlegend": false,
         "type": "scatter",
         "x": [
          "2010-01-01T00:00:00",
          "2011-01-01T00:00:00",
          "2012-01-01T00:00:00",
          "2013-01-01T00:00:00",
          "2014-01-01T00:00:00",
          "2015-01-01T00:00:00",
          "2016-01-01T00:00:00",
          "2017-01-01T00:00:00",
          "2018-01-01T00:00:00",
          "2019-01-01T00:00:00",
          "2020-01-01T00:00:00"
         ],
         "xaxis": "x",
         "y": [
          24541.61669005222,
          23812.159049046648,
          23757.504576822645,
          24079.517323986343,
          22967.306517888053,
          23102.50318068149,
          23291.899165646686,
          23163.256952205895,
          22383.74874391693,
          21473.57528141624,
          18531.81565618225
         ],
         "yaxis": "y"
        },
        {
         "fill": "tonexty",
         "fillcolor": "rgba(31,119,180, 0.2)",
         "hoverinfo": "name+text+y",
         "hoverlabel": {
          "bgcolor": "rgba(31,119,180, 0.2)"
         },
         "hovertemplate": "Upper: %{y}<extra></extra>",
         "legendgroup": "CI surface",
         "line": {
          "color": "rgba(31,119,180, 0)"
         },
         "mode": "lines+markers",
         "name": "CI surface",
         "showlegend": false,
         "type": "scatter",
         "x": [
          "2010-01-01T00:00:00",
          "2011-01-01T00:00:00",
          "2012-01-01T00:00:00",
          "2013-01-01T00:00:00",
          "2014-01-01T00:00:00",
          "2015-01-01T00:00:00",
          "2016-01-01T00:00:00",
          "2017-01-01T00:00:00",
          "2018-01-01T00:00:00",
          "2019-01-01T00:00:00",
          "2020-01-01T00:00:00"
         ],
         "xaxis": "x",
         "y": [
          28562.772631743162,
          27650.198813334813,
          27630.111512686275,
          27957.167605930328,
          26581.54023950118,
          26749.53564163968,
          27043.903603672097,
          26841.39976975085,
          25944.995848216608,
          24576.216300759756,
          22529.35904445106
         ],
         "yaxis": "y"
        },
        {
         "fillcolor": "rgba(31,119,180, 0.2)",
         "hoverlabel": {
          "bgcolor": "rgba(31,119,180, 0.2)"
         },
         "hovertemplate": "Lower: %{y}<extra></extra>",
         "legendgroup": "CI surface",
         "line": {
          "color": "rgba(31,119,180, 0)"
         },
         "mode": "lines+markers",
         "name": "CI surface",
         "showlegend": false,
         "type": "scatter",
         "x": [
          "2010-01-01T00:00:00",
          "2011-01-01T00:00:00",
          "2012-01-01T00:00:00",
          "2013-01-01T00:00:00",
          "2014-01-01T00:00:00",
          "2015-01-01T00:00:00",
          "2016-01-01T00:00:00",
          "2017-01-01T00:00:00",
          "2018-01-01T00:00:00",
          "2019-01-01T00:00:00",
          "2020-01-01T00:00:00"
         ],
         "xaxis": "x2",
         "y": [
          2202.3600656308336,
          2056.0453143684717,
          1920.7578562286153,
          1947.4177108291506,
          1839.5431082045752,
          1722.2919589760922,
          1812.7979634625488,
          1778.330625047808,
          1795.3222845835414,
          1488.5156589341477,
          1286.436189678627
         ],
         "yaxis": "y2"
        },
        {
         "fill": "tonexty",
         "fillcolor": "rgba(31,119,180, 0.2)",
         "hoverinfo": "name+text+y",
         "hoverlabel": {
          "bgcolor": "rgba(31,119,180, 0.2)"
         },
         "hovertemplate": "Upper: %{y}<extra></extra>",
         "legendgroup": "CI surface",
         "line": {
          "color": "rgba(31,119,180, 0)"
         },
         "mode": "lines+markers",
         "name": "CI surface",
         "showlegend": true,
         "type": "scatter",
         "x": [
          "2010-01-01T00:00:00",
          "2011-01-01T00:00:00",
          "2012-01-01T00:00:00",
          "2013-01-01T00:00:00",
          "2014-01-01T00:00:00",
          "2015-01-01T00:00:00",
          "2016-01-01T00:00:00",
          "2017-01-01T00:00:00",
          "2018-01-01T00:00:00",
          "2019-01-01T00:00:00",
          "2020-01-01T00:00:00"
         ],
         "xaxis": "x2",
         "y": [
          2490.224835666232,
          2320.776676603623,
          2166.599800645375,
          2195.0400907394196,
          2071.641302535513,
          1936.5017962427496,
          2041.7000978881413,
          1997.9431210203388,
          2018.2428334978129,
          1620.1216952507366,
          1493.5977313387223
         ],
         "yaxis": "y2"
        },
        {
         "fillcolor": "rgba(255,127,14, 0.2)",
         "hoverlabel": {
          "bgcolor": "rgba(255,127,14, 0.2)"
         },
         "hovertemplate": "Lower: %{y}<extra></extra>",
         "legendgroup": "CI satellite",
         "line": {
          "color": "rgba(255,127,14, 0)"
         },
         "mode": "lines+markers",
         "name": "CI satellite",
         "showlegend": false,
         "type": "scatter",
         "x": [
          "2010-01-01T00:00:00",
          "2011-01-01T00:00:00",
          "2012-01-01T00:00:00",
          "2013-01-01T00:00:00",
          "2014-01-01T00:00:00",
          "2015-01-01T00:00:00",
          "2016-01-01T00:00:00",
          "2017-01-01T00:00:00",
          "2018-01-01T00:00:00",
          "2019-01-01T00:00:00",
          "2020-01-01T00:00:00"
         ],
         "xaxis": "x5",
         "y": [
          null,
          null,
          null,
          null,
          null,
          7092.239296774771,
          7063.448583447225,
          7009.371274012152,
          6971.301430920018,
          6816.196990338618,
          5714.050995981537
         ],
         "yaxis": "y5"
        },
        {
         "fill": "tonexty",
         "fillcolor": "rgba(255,127,14, 0.2)",
         "hoverinfo": "name+text+y",
         "hoverlabel": {
          "bgcolor": "rgba(255,127,14, 0.2)"
         },
         "hovertemplate": "Upper: %{y}<extra></extra>",
         "legendgroup": "CI satellite",
         "line": {
          "color": "rgba(255,127,14, 0)"
         },
         "mode": "lines+markers",
         "name": "CI satellite",
         "showlegend": false,
         "type": "scatter",
         "x": [
          "2010-01-01T00:00:00",
          "2011-01-01T00:00:00",
          "2012-01-01T00:00:00",
          "2013-01-01T00:00:00",
          "2014-01-01T00:00:00",
          "2015-01-01T00:00:00",
          "2016-01-01T00:00:00",
          "2017-01-01T00:00:00",
          "2018-01-01T00:00:00",
          "2019-01-01T00:00:00",
          "2020-01-01T00:00:00"
         ],
         "xaxis": "x5",
         "y": [
          null,
          null,
          null,
          null,
          null,
          8049.567480904881,
          8056.98047960403,
          8022.536319141651,
          7953.028694915479,
          7805.453872781607,
          6984.211489389323
         ],
         "yaxis": "y5"
        },
        {
         "fillcolor": "rgba(255,127,14, 0.2)",
         "hoverlabel": {
          "bgcolor": "rgba(255,127,14, 0.2)"
         },
         "hovertemplate": "Lower: %{y}<extra></extra>",
         "legendgroup": "CI satellite",
         "line": {
          "color": "rgba(255,127,14, 0)"
         },
         "mode": "lines+markers",
         "name": "CI satellite",
         "showlegend": false,
         "type": "scatter",
         "x": [
          "2010-01-01T00:00:00",
          "2011-01-01T00:00:00",
          "2012-01-01T00:00:00",
          "2013-01-01T00:00:00",
          "2014-01-01T00:00:00",
          "2015-01-01T00:00:00",
          "2016-01-01T00:00:00",
          "2017-01-01T00:00:00",
          "2018-01-01T00:00:00",
          "2019-01-01T00:00:00",
          "2020-01-01T00:00:00"
         ],
         "xaxis": "x6",
         "y": [
          null,
          null,
          null,
          null,
          null,
          1005.9570318293626,
          1003.6010415821576,
          1024.444615497887,
          1052.5847701749824,
          1053.8113848573623,
          957.6239175616058
         ],
         "yaxis": "y6"
        },
        {
         "fill": "tonexty",
         "fillcolor": "rgba(255,127,14, 0.2)",
         "hoverinfo": "name+text+y",
         "hoverlabel": {
          "bgcolor": "rgba(255,127,14, 0.2)"
         },
         "hovertemplate": "Upper: %{y}<extra></extra>",
         "legendgroup": "CI satellite",
         "line": {
          "color": "rgba(255,127,14, 0)"
         },
         "mode": "lines+markers",
         "name": "CI satellite",
         "showlegend": false,
         "type": "scatter",
         "x": [
          "2010-01-01T00:00:00",
          "2011-01-01T00:00:00",
          "2012-01-01T00:00:00",
          "2013-01-01T00:00:00",
          "2014-01-01T00:00:00",
          "2015-01-01T00:00:00",
          "2016-01-01T00:00:00",
          "2017-01-01T00:00:00",
          "2018-01-01T00:00:00",
          "2019-01-01T00:00:00",
          "2020-01-01T00:00:00"
         ],
         "xaxis": "x6",
         "y": [
          null,
          null,
          null,
          null,
          null,
          1188.0102096456,
          1189.3066798536586,
          1210.4408008901135,
          1247.2564996847557,
          1226.6444415463968,
          1203.4193094474738
         ],
         "yaxis": "y6"
        },
        {
         "fillcolor": "rgba(255,127,14, 0.2)",
         "hoverlabel": {
          "bgcolor": "rgba(255,127,14, 0.2)"
         },
         "hovertemplate": "Lower: %{y}<extra></extra>",
         "legendgroup": "CI satellite",
         "line": {
          "color": "rgba(255,127,14, 0)"
         },
         "mode": "lines+markers",
         "name": "CI satellite",
         "showlegend": false,
         "type": "scatter",
         "x": [
          "2010-01-01T00:00:00",
          "2011-01-01T00:00:00",
          "2012-01-01T00:00:00",
          "2013-01-01T00:00:00",
          "2014-01-01T00:00:00",
          "2015-01-01T00:00:00",
          "2016-01-01T00:00:00",
          "2017-01-01T00:00:00",
          "2018-01-01T00:00:00",
          "2019-01-01T00:00:00",
          "2020-01-01T00:00:00"
         ],
         "xaxis": "x3",
         "y": [
          null,
          null,
          null,
          null,
          null,
          7012.892976392166,
          7045.41040948583,
          7077.643220785656,
          6895.420567360908,
          6829.4143930063,
          5657.705018085719
         ],
         "yaxis": "y3"
        },
        {
         "fill": "tonexty",
         "fillcolor": "rgba(255,127,14, 0.2)",
         "hoverinfo": "name+text+y",
         "hoverlabel": {
          "bgcolor": "rgba(255,127,14, 0.2)"
         },
         "hovertemplate": "Upper: %{y}<extra></extra>",
         "legendgroup": "CI satellite",
         "line": {
          "color": "rgba(255,127,14, 0)"
         },
         "mode": "lines+markers",
         "name": "CI satellite",
         "showlegend": false,
         "type": "scatter",
         "x": [
          "2010-01-01T00:00:00",
          "2011-01-01T00:00:00",
          "2012-01-01T00:00:00",
          "2013-01-01T00:00:00",
          "2014-01-01T00:00:00",
          "2015-01-01T00:00:00",
          "2016-01-01T00:00:00",
          "2017-01-01T00:00:00",
          "2018-01-01T00:00:00",
          "2019-01-01T00:00:00",
          "2020-01-01T00:00:00"
         ],
         "xaxis": "x3",
         "y": [
          null,
          null,
          null,
          null,
          null,
          8115.806790294739,
          8187.200312396268,
          8218.84702997987,
          7979.778030162964,
          7813.632714954525,
          6951.320249525976
         ],
         "yaxis": "y3"
        },
        {
         "fillcolor": "rgba(255,127,14, 0.2)",
         "hoverlabel": {
          "bgcolor": "rgba(255,127,14, 0.2)"
         },
         "hovertemplate": "Lower: %{y}<extra></extra>",
         "legendgroup": "CI satellite",
         "line": {
          "color": "rgba(255,127,14, 0)"
         },
         "mode": "lines+markers",
         "name": "CI satellite",
         "showlegend": false,
         "type": "scatter",
         "x": [
          "2010-01-01T00:00:00",
          "2011-01-01T00:00:00",
          "2012-01-01T00:00:00",
          "2013-01-01T00:00:00",
          "2014-01-01T00:00:00",
          "2015-01-01T00:00:00",
          "2016-01-01T00:00:00",
          "2017-01-01T00:00:00",
          "2018-01-01T00:00:00",
          "2019-01-01T00:00:00",
          "2020-01-01T00:00:00"
         ],
         "xaxis": "x4",
         "y": [
          null,
          null,
          null,
          null,
          null,
          4805.47564331751,
          4646.600485603108,
          4899.214100266928,
          4824.580748306172,
          4512.260796626441,
          3485.4192883900705
         ],
         "yaxis": "y4"
        },
        {
         "fill": "tonexty",
         "fillcolor": "rgba(255,127,14, 0.2)",
         "hoverinfo": "name+text+y",
         "hoverlabel": {
          "bgcolor": "rgba(255,127,14, 0.2)"
         },
         "hovertemplate": "Upper: %{y}<extra></extra>",
         "legendgroup": "CI satellite",
         "line": {
          "color": "rgba(255,127,14, 0)"
         },
         "mode": "lines+markers",
         "name": "CI satellite",
         "showlegend": false,
         "type": "scatter",
         "x": [
          "2010-01-01T00:00:00",
          "2011-01-01T00:00:00",
          "2012-01-01T00:00:00",
          "2013-01-01T00:00:00",
          "2014-01-01T00:00:00",
          "2015-01-01T00:00:00",
          "2016-01-01T00:00:00",
          "2017-01-01T00:00:00",
          "2018-01-01T00:00:00",
          "2019-01-01T00:00:00",
          "2020-01-01T00:00:00"
         ],
         "xaxis": "x4",
         "y": [
          null,
          null,
          null,
          null,
          null,
          5153.392405824683,
          4940.297027731086,
          5241.887190079592,
          5155.045048548457,
          4834.374023121031,
          4131.574337788368
         ],
         "yaxis": "y4"
        },
        {
         "fillcolor": "rgba(255,127,14, 0.2)",
         "hoverlabel": {
          "bgcolor": "rgba(255,127,14, 0.2)"
         },
         "hovertemplate": "Lower: %{y}<extra></extra>",
         "legendgroup": "CI satellite",
         "line": {
          "color": "rgba(255,127,14, 0)"
         },
         "mode": "lines+markers",
         "name": "CI satellite",
         "showlegend": false,
         "type": "scatter",
         "x": [
          "2010-01-01T00:00:00",
          "2011-01-01T00:00:00",
          "2012-01-01T00:00:00",
          "2013-01-01T00:00:00",
          "2014-01-01T00:00:00",
          "2015-01-01T00:00:00",
          "2016-01-01T00:00:00",
          "2017-01-01T00:00:00",
          "2018-01-01T00:00:00",
          "2019-01-01T00:00:00",
          "2020-01-01T00:00:00"
         ],
         "xaxis": "x",
         "y": [
          null,
          null,
          null,
          null,
          null,
          27460.02002030959,
          27574.289171706274,
          27323.329104820856,
          26554.897427446303,
          25227.514978476713,
          21657.067321896637
         ],
         "yaxis": "y"
        },
        {
         "fill": "tonexty",
         "fillcolor": "rgba(255,127,14, 0.2)",
         "hoverinfo": "name+text+y",
         "hoverlabel": {
          "bgcolor": "rgba(255,127,14, 0.2)"
         },
         "hovertemplate": "Upper: %{y}<extra></extra>",
         "legendgroup": "CI satellite",
         "line": {
          "color": "rgba(255,127,14, 0)"
         },
         "mode": "lines+markers",
         "name": "CI satellite",
         "showlegend": false,
         "type": "scatter",
         "x": [
          "2010-01-01T00:00:00",
          "2011-01-01T00:00:00",
          "2012-01-01T00:00:00",
          "2013-01-01T00:00:00",
          "2014-01-01T00:00:00",
          "2015-01-01T00:00:00",
          "2016-01-01T00:00:00",
          "2017-01-01T00:00:00",
          "2018-01-01T00:00:00",
          "2019-01-01T00:00:00",
          "2020-01-01T00:00:00"
         ],
         "xaxis": "x",
         "y": [
          null,
          null,
          null,
          null,
          null,
          31617.938224340476,
          31850.278116513575,
          31467.351083100104,
          30565.41913727962,
          29053.08891988118,
          26211.381440308473
         ],
         "yaxis": "y"
        },
        {
         "fillcolor": "rgba(255,127,14, 0.2)",
         "hoverlabel": {
          "bgcolor": "rgba(255,127,14, 0.2)"
         },
         "hovertemplate": "Lower: %{y}<extra></extra>",
         "legendgroup": "CI satellite",
         "line": {
          "color": "rgba(255,127,14, 0)"
         },
         "mode": "lines+markers",
         "name": "CI satellite",
         "showlegend": false,
         "type": "scatter",
         "x": [
          "2010-01-01T00:00:00",
          "2011-01-01T00:00:00",
          "2012-01-01T00:00:00",
          "2013-01-01T00:00:00",
          "2014-01-01T00:00:00",
          "2015-01-01T00:00:00",
          "2016-01-01T00:00:00",
          "2017-01-01T00:00:00",
          "2018-01-01T00:00:00",
          "2019-01-01T00:00:00",
          "2020-01-01T00:00:00"
         ],
         "xaxis": "x2",
         "y": [
          null,
          null,
          null,
          null,
          null,
          1690.899440268094,
          1787.1361439821906,
          1765.335945427873,
          1804.8765480071113,
          1661.9970072446079,
          1409.3001914393071
         ],
         "yaxis": "y2"
        },
        {
         "fill": "tonexty",
         "fillcolor": "rgba(255,127,14, 0.2)",
         "hoverinfo": "name+text+y",
         "hoverlabel": {
          "bgcolor": "rgba(255,127,14, 0.2)"
         },
         "hovertemplate": "Upper: %{y}<extra></extra>",
         "legendgroup": "CI satellite",
         "line": {
          "color": "rgba(255,127,14, 0)"
         },
         "mode": "lines+markers",
         "name": "CI satellite",
         "showlegend": true,
         "type": "scatter",
         "x": [
          "2010-01-01T00:00:00",
          "2011-01-01T00:00:00",
          "2012-01-01T00:00:00",
          "2013-01-01T00:00:00",
          "2014-01-01T00:00:00",
          "2015-01-01T00:00:00",
          "2016-01-01T00:00:00",
          "2017-01-01T00:00:00",
          "2018-01-01T00:00:00",
          "2019-01-01T00:00:00",
          "2020-01-01T00:00:00"
         ],
         "xaxis": "x2",
         "y": [
          null,
          null,
          null,
          null,
          null,
          1847.9334544164474,
          1953.4066474759422,
          1929.2732785692442,
          1975.3197543993554,
          1805.9054127200172,
          1632.958813120938
         ],
         "yaxis": "y2"
        }
       ],
       "layout": {
        "annotations": [
         {
          "font": {
           "size": 14
          },
          "showarrow": false,
          "text": "Germany",
          "x": 0.24,
          "xanchor": "center",
          "xref": "paper",
          "y": 0.26666666666666666,
          "yanchor": "bottom",
          "yref": "paper"
         },
         {
          "font": {
           "size": 14
          },
          "showarrow": false,
          "text": "Finland",
          "x": 0.76,
          "xanchor": "center",
          "xref": "paper",
          "y": 0.26666666666666666,
          "yanchor": "bottom",
          "yref": "paper"
         },
         {
          "font": {
           "size": 14
          },
          "showarrow": false,
          "text": "France",
          "x": 0.24,
          "xanchor": "center",
          "xref": "paper",
          "y": 0.6333333333333333,
          "yanchor": "bottom",
          "yref": "paper"
         },
         {
          "font": {
           "size": 14
          },
          "showarrow": false,
          "text": "Spain",
          "x": 0.76,
          "xanchor": "center",
          "xref": "paper",
          "y": 0.6333333333333333,
          "yanchor": "bottom",
          "yref": "paper"
         },
         {
          "font": {
           "size": 14
          },
          "showarrow": false,
          "text": "Italy",
          "x": 0.24,
          "xanchor": "center",
          "xref": "paper",
          "y": 1,
          "yanchor": "bottom",
          "yref": "paper"
         },
         {
          "font": {
           "size": 14
          },
          "showarrow": false,
          "text": "Russia",
          "x": 0.76,
          "xanchor": "center",
          "xref": "paper",
          "y": 1,
          "yanchor": "bottom",
          "yref": "paper"
         }
        ],
        "height": 660,
        "hovermode": "closest",
        "legend": {
         "title": {
          "text": "input_observations"
         },
         "tracegroupgap": 0
        },
        "margin": {
         "t": 60
        },
        "template": {
         "data": {
          "bar": [
           {
            "error_x": {
             "color": "#2a3f5f"
            },
            "error_y": {
             "color": "#2a3f5f"
            },
            "marker": {
             "line": {
              "color": "#E5ECF6",
              "width": 0.5
             },
             "pattern": {
              "fillmode": "overlay",
              "size": 10,
              "solidity": 0.2
             }
            },
            "type": "bar"
           }
          ],
          "barpolar": [
           {
            "marker": {
             "line": {
              "color": "#E5ECF6",
              "width": 0.5
             },
             "pattern": {
              "fillmode": "overlay",
              "size": 10,
              "solidity": 0.2
             }
            },
            "type": "barpolar"
           }
          ],
          "carpet": [
           {
            "aaxis": {
             "endlinecolor": "#2a3f5f",
             "gridcolor": "white",
             "linecolor": "white",
             "minorgridcolor": "white",
             "startlinecolor": "#2a3f5f"
            },
            "baxis": {
             "endlinecolor": "#2a3f5f",
             "gridcolor": "white",
             "linecolor": "white",
             "minorgridcolor": "white",
             "startlinecolor": "#2a3f5f"
            },
            "type": "carpet"
           }
          ],
          "choropleth": [
           {
            "colorbar": {
             "outlinewidth": 0,
             "ticks": ""
            },
            "type": "choropleth"
           }
          ],
          "contour": [
           {
            "colorbar": {
             "outlinewidth": 0,
             "ticks": ""
            },
            "colorscale": [
             [
              0,
              "#0d0887"
             ],
             [
              0.1111111111111111,
              "#46039f"
             ],
             [
              0.2222222222222222,
              "#7201a8"
             ],
             [
              0.3333333333333333,
              "#9c179e"
             ],
             [
              0.4444444444444444,
              "#bd3786"
             ],
             [
              0.5555555555555556,
              "#d8576b"
             ],
             [
              0.6666666666666666,
              "#ed7953"
             ],
             [
              0.7777777777777778,
              "#fb9f3a"
             ],
             [
              0.8888888888888888,
              "#fdca26"
             ],
             [
              1,
              "#f0f921"
             ]
            ],
            "type": "contour"
           }
          ],
          "contourcarpet": [
           {
            "colorbar": {
             "outlinewidth": 0,
             "ticks": ""
            },
            "type": "contourcarpet"
           }
          ],
          "heatmap": [
           {
            "colorbar": {
             "outlinewidth": 0,
             "ticks": ""
            },
            "colorscale": [
             [
              0,
              "#0d0887"
             ],
             [
              0.1111111111111111,
              "#46039f"
             ],
             [
              0.2222222222222222,
              "#7201a8"
             ],
             [
              0.3333333333333333,
              "#9c179e"
             ],
             [
              0.4444444444444444,
              "#bd3786"
             ],
             [
              0.5555555555555556,
              "#d8576b"
             ],
             [
              0.6666666666666666,
              "#ed7953"
             ],
             [
              0.7777777777777778,
              "#fb9f3a"
             ],
             [
              0.8888888888888888,
              "#fdca26"
             ],
             [
              1,
              "#f0f921"
             ]
            ],
            "type": "heatmap"
           }
          ],
          "heatmapgl": [
           {
            "colorbar": {
             "outlinewidth": 0,
             "ticks": ""
            },
            "colorscale": [
             [
              0,
              "#0d0887"
             ],
             [
              0.1111111111111111,
              "#46039f"
             ],
             [
              0.2222222222222222,
              "#7201a8"
             ],
             [
              0.3333333333333333,
              "#9c179e"
             ],
             [
              0.4444444444444444,
              "#bd3786"
             ],
             [
              0.5555555555555556,
              "#d8576b"
             ],
             [
              0.6666666666666666,
              "#ed7953"
             ],
             [
              0.7777777777777778,
              "#fb9f3a"
             ],
             [
              0.8888888888888888,
              "#fdca26"
             ],
             [
              1,
              "#f0f921"
             ]
            ],
            "type": "heatmapgl"
           }
          ],
          "histogram": [
           {
            "marker": {
             "pattern": {
              "fillmode": "overlay",
              "size": 10,
              "solidity": 0.2
             }
            },
            "type": "histogram"
           }
          ],
          "histogram2d": [
           {
            "colorbar": {
             "outlinewidth": 0,
             "ticks": ""
            },
            "colorscale": [
             [
              0,
              "#0d0887"
             ],
             [
              0.1111111111111111,
              "#46039f"
             ],
             [
              0.2222222222222222,
              "#7201a8"
             ],
             [
              0.3333333333333333,
              "#9c179e"
             ],
             [
              0.4444444444444444,
              "#bd3786"
             ],
             [
              0.5555555555555556,
              "#d8576b"
             ],
             [
              0.6666666666666666,
              "#ed7953"
             ],
             [
              0.7777777777777778,
              "#fb9f3a"
             ],
             [
              0.8888888888888888,
              "#fdca26"
             ],
             [
              1,
              "#f0f921"
             ]
            ],
            "type": "histogram2d"
           }
          ],
          "histogram2dcontour": [
           {
            "colorbar": {
             "outlinewidth": 0,
             "ticks": ""
            },
            "colorscale": [
             [
              0,
              "#0d0887"
             ],
             [
              0.1111111111111111,
              "#46039f"
             ],
             [
              0.2222222222222222,
              "#7201a8"
             ],
             [
              0.3333333333333333,
              "#9c179e"
             ],
             [
              0.4444444444444444,
              "#bd3786"
             ],
             [
              0.5555555555555556,
              "#d8576b"
             ],
             [
              0.6666666666666666,
              "#ed7953"
             ],
             [
              0.7777777777777778,
              "#fb9f3a"
             ],
             [
              0.8888888888888888,
              "#fdca26"
             ],
             [
              1,
              "#f0f921"
             ]
            ],
            "type": "histogram2dcontour"
           }
          ],
          "mesh3d": [
           {
            "colorbar": {
             "outlinewidth": 0,
             "ticks": ""
            },
            "type": "mesh3d"
           }
          ],
          "parcoords": [
           {
            "line": {
             "colorbar": {
              "outlinewidth": 0,
              "ticks": ""
             }
            },
            "type": "parcoords"
           }
          ],
          "pie": [
           {
            "automargin": true,
            "type": "pie"
           }
          ],
          "scatter": [
           {
            "fillpattern": {
             "fillmode": "overlay",
             "size": 10,
             "solidity": 0.2
            },
            "type": "scatter"
           }
          ],
          "scatter3d": [
           {
            "line": {
             "colorbar": {
              "outlinewidth": 0,
              "ticks": ""
             }
            },
            "marker": {
             "colorbar": {
              "outlinewidth": 0,
              "ticks": ""
             }
            },
            "type": "scatter3d"
           }
          ],
          "scattercarpet": [
           {
            "marker": {
             "colorbar": {
              "outlinewidth": 0,
              "ticks": ""
             }
            },
            "type": "scattercarpet"
           }
          ],
          "scattergeo": [
           {
            "marker": {
             "colorbar": {
              "outlinewidth": 0,
              "ticks": ""
             }
            },
            "type": "scattergeo"
           }
          ],
          "scattergl": [
           {
            "marker": {
             "colorbar": {
              "outlinewidth": 0,
              "ticks": ""
             }
            },
            "type": "scattergl"
           }
          ],
          "scattermapbox": [
           {
            "marker": {
             "colorbar": {
              "outlinewidth": 0,
              "ticks": ""
             }
            },
            "type": "scattermapbox"
           }
          ],
          "scatterpolar": [
           {
            "marker": {
             "colorbar": {
              "outlinewidth": 0,
              "ticks": ""
             }
            },
            "type": "scatterpolar"
           }
          ],
          "scatterpolargl": [
           {
            "marker": {
             "colorbar": {
              "outlinewidth": 0,
              "ticks": ""
             }
            },
            "type": "scatterpolargl"
           }
          ],
          "scatterternary": [
           {
            "marker": {
             "colorbar": {
              "outlinewidth": 0,
              "ticks": ""
             }
            },
            "type": "scatterternary"
           }
          ],
          "surface": [
           {
            "colorbar": {
             "outlinewidth": 0,
             "ticks": ""
            },
            "colorscale": [
             [
              0,
              "#0d0887"
             ],
             [
              0.1111111111111111,
              "#46039f"
             ],
             [
              0.2222222222222222,
              "#7201a8"
             ],
             [
              0.3333333333333333,
              "#9c179e"
             ],
             [
              0.4444444444444444,
              "#bd3786"
             ],
             [
              0.5555555555555556,
              "#d8576b"
             ],
             [
              0.6666666666666666,
              "#ed7953"
             ],
             [
              0.7777777777777778,
              "#fb9f3a"
             ],
             [
              0.8888888888888888,
              "#fdca26"
             ],
             [
              1,
              "#f0f921"
             ]
            ],
            "type": "surface"
           }
          ],
          "table": [
           {
            "cells": {
             "fill": {
              "color": "#EBF0F8"
             },
             "line": {
              "color": "white"
             }
            },
            "header": {
             "fill": {
              "color": "#C8D4E3"
             },
             "line": {
              "color": "white"
             }
            },
            "type": "table"
           }
          ]
         },
         "layout": {
          "annotationdefaults": {
           "arrowcolor": "#2a3f5f",
           "arrowhead": 0,
           "arrowwidth": 1
          },
          "autotypenumbers": "strict",
          "coloraxis": {
           "colorbar": {
            "outlinewidth": 0,
            "ticks": ""
           }
          },
          "colorscale": {
           "diverging": [
            [
             0,
             "#8e0152"
            ],
            [
             0.1,
             "#c51b7d"
            ],
            [
             0.2,
             "#de77ae"
            ],
            [
             0.3,
             "#f1b6da"
            ],
            [
             0.4,
             "#fde0ef"
            ],
            [
             0.5,
             "#f7f7f7"
            ],
            [
             0.6,
             "#e6f5d0"
            ],
            [
             0.7,
             "#b8e186"
            ],
            [
             0.8,
             "#7fbc41"
            ],
            [
             0.9,
             "#4d9221"
            ],
            [
             1,
             "#276419"
            ]
           ],
           "sequential": [
            [
             0,
             "#0d0887"
            ],
            [
             0.1111111111111111,
             "#46039f"
            ],
            [
             0.2222222222222222,
             "#7201a8"
            ],
            [
             0.3333333333333333,
             "#9c179e"
            ],
            [
             0.4444444444444444,
             "#bd3786"
            ],
            [
             0.5555555555555556,
             "#d8576b"
            ],
            [
             0.6666666666666666,
             "#ed7953"
            ],
            [
             0.7777777777777778,
             "#fb9f3a"
            ],
            [
             0.8888888888888888,
             "#fdca26"
            ],
            [
             1,
             "#f0f921"
            ]
           ],
           "sequentialminus": [
            [
             0,
             "#0d0887"
            ],
            [
             0.1111111111111111,
             "#46039f"
            ],
            [
             0.2222222222222222,
             "#7201a8"
            ],
            [
             0.3333333333333333,
             "#9c179e"
            ],
            [
             0.4444444444444444,
             "#bd3786"
            ],
            [
             0.5555555555555556,
             "#d8576b"
            ],
            [
             0.6666666666666666,
             "#ed7953"
            ],
            [
             0.7777777777777778,
             "#fb9f3a"
            ],
            [
             0.8888888888888888,
             "#fdca26"
            ],
            [
             1,
             "#f0f921"
            ]
           ]
          },
          "colorway": [
           "#636efa",
           "#EF553B",
           "#00cc96",
           "#ab63fa",
           "#FFA15A",
           "#19d3f3",
           "#FF6692",
           "#B6E880",
           "#FF97FF",
           "#FECB52"
          ],
          "font": {
           "color": "#2a3f5f"
          },
          "geo": {
           "bgcolor": "white",
           "lakecolor": "white",
           "landcolor": "#E5ECF6",
           "showlakes": true,
           "showland": true,
           "subunitcolor": "white"
          },
          "hoverlabel": {
           "align": "left"
          },
          "hovermode": "closest",
          "mapbox": {
           "style": "light"
          },
          "paper_bgcolor": "white",
          "plot_bgcolor": "#E5ECF6",
          "polar": {
           "angularaxis": {
            "gridcolor": "white",
            "linecolor": "white",
            "ticks": ""
           },
           "bgcolor": "#E5ECF6",
           "radialaxis": {
            "gridcolor": "white",
            "linecolor": "white",
            "ticks": ""
           }
          },
          "scene": {
           "xaxis": {
            "backgroundcolor": "#E5ECF6",
            "gridcolor": "white",
            "gridwidth": 2,
            "linecolor": "white",
            "showbackground": true,
            "ticks": "",
            "zerolinecolor": "white"
           },
           "yaxis": {
            "backgroundcolor": "#E5ECF6",
            "gridcolor": "white",
            "gridwidth": 2,
            "linecolor": "white",
            "showbackground": true,
            "ticks": "",
            "zerolinecolor": "white"
           },
           "zaxis": {
            "backgroundcolor": "#E5ECF6",
            "gridcolor": "white",
            "gridwidth": 2,
            "linecolor": "white",
            "showbackground": true,
            "ticks": "",
            "zerolinecolor": "white"
           }
          },
          "shapedefaults": {
           "line": {
            "color": "#2a3f5f"
           }
          },
          "ternary": {
           "aaxis": {
            "gridcolor": "white",
            "linecolor": "white",
            "ticks": ""
           },
           "baxis": {
            "gridcolor": "white",
            "linecolor": "white",
            "ticks": ""
           },
           "bgcolor": "#E5ECF6",
           "caxis": {
            "gridcolor": "white",
            "linecolor": "white",
            "ticks": ""
           }
          },
          "title": {
           "x": 0.05
          },
          "xaxis": {
           "automargin": true,
           "gridcolor": "white",
           "linecolor": "white",
           "ticks": "",
           "title": {
            "standoff": 15
           },
           "zerolinecolor": "white",
           "zerolinewidth": 2
          },
          "yaxis": {
           "automargin": true,
           "gridcolor": "white",
           "linecolor": "white",
           "ticks": "",
           "title": {
            "standoff": 15
           },
           "zerolinecolor": "white",
           "zerolinewidth": 2
          }
         }
        },
        "title": {
         "font": {
          "size": 19
         },
         "text": "test",
         "x": 0.5
        },
        "xaxis": {
         "anchor": "y",
         "domain": [
          0,
          0.48
         ],
         "showticklabels": true,
         "title": {
          "text": "time"
         }
        },
        "xaxis2": {
         "anchor": "y2",
         "domain": [
          0.52,
          1
         ],
         "showticklabels": true,
         "title": {
          "text": "time"
         }
        },
        "xaxis3": {
         "anchor": "y3",
         "domain": [
          0,
          0.48
         ],
         "showticklabels": true
        },
        "xaxis4": {
         "anchor": "y4",
         "domain": [
          0.52,
          1
         ],
         "showticklabels": true
        },
        "xaxis5": {
         "anchor": "y5",
         "domain": [
          0,
          0.48
         ],
         "showticklabels": true
        },
        "xaxis6": {
         "anchor": "y6",
         "domain": [
          0.52,
          1
         ],
         "showticklabels": true
        },
        "yaxis": {
         "anchor": "x",
         "domain": [
          0,
          0.26666666666666666
         ],
         "showticklabels": true,
         "title": {
          "text": "ppmv"
         }
        },
        "yaxis2": {
         "anchor": "x2",
         "domain": [
          0,
          0.26666666666666666
         ],
         "showticklabels": true
        },
        "yaxis3": {
         "anchor": "x3",
         "domain": [
          0.3666666666666667,
          0.6333333333333333
         ],
         "showticklabels": true,
         "title": {
          "text": "ppmv"
         }
        },
        "yaxis4": {
         "anchor": "x4",
         "domain": [
          0.3666666666666667,
          0.6333333333333333
         ],
         "showticklabels": true
        },
        "yaxis5": {
         "anchor": "x5",
         "domain": [
          0.7333333333333334,
          1
         ],
         "showticklabels": true,
         "title": {
          "text": "ppmv"
         }
        },
        "yaxis6": {
         "anchor": "x6",
         "domain": [
          0.7333333333333334,
          1
         ],
         "showticklabels": true
        }
       }
      },
      "text/html": [
       "<div>                            <div id=\"92483b8b-5cca-4c91-a2f5-05fe8eac1b83\" class=\"plotly-graph-div\" style=\"height:660px; width:100%;\"></div>            <script type=\"text/javascript\">                require([\"plotly\"], function(Plotly) {                    window.PLOTLYENV=window.PLOTLYENV || {};                                    if (document.getElementById(\"92483b8b-5cca-4c91-a2f5-05fe8eac1b83\")) {                    Plotly.newPlot(                        \"92483b8b-5cca-4c91-a2f5-05fe8eac1b83\",                        [{\"hovertemplate\":\"input_observations=surface<br>admin=Italy<br>time=%{x}<br>mean=%{y}<extra></extra>\",\"legendgroup\":\"surface\",\"line\":{\"color\":\"#1F77B4\",\"dash\":\"solid\"},\"marker\":{\"symbol\":\"circle\"},\"mode\":\"lines+markers\",\"name\":\"surface\",\"orientation\":\"v\",\"showlegend\":true,\"x\":[\"2010-01-01T00:00:00\",\"2011-01-01T00:00:00\",\"2012-01-01T00:00:00\",\"2013-01-01T00:00:00\",\"2014-01-01T00:00:00\",\"2015-01-01T00:00:00\",\"2016-01-01T00:00:00\",\"2017-01-01T00:00:00\",\"2018-01-01T00:00:00\",\"2019-01-01T00:00:00\",\"2020-01-01T00:00:00\"],\"xaxis\":\"x5\",\"y\":[11267.950746430302,10909.568332789653,10458.20449583297,9777.812969876239,9246.226768236433,9508.833202624908,9475.894094830985,9421.225376516128,9310.697181253363,9087.1811887656,8012.244885884432],\"yaxis\":\"y5\",\"type\":\"scatter\"},{\"hovertemplate\":\"input_observations=surface<br>admin=Russia<br>time=%{x}<br>mean=%{y}<extra></extra>\",\"legendgroup\":\"surface\",\"line\":{\"color\":\"#1F77B4\",\"dash\":\"solid\"},\"marker\":{\"symbol\":\"circle\"},\"mode\":\"lines+markers\",\"name\":\"surface\",\"orientation\":\"v\",\"showlegend\":false,\"x\":[\"2010-01-01T00:00:00\",\"2011-01-01T00:00:00\",\"2012-01-01T00:00:00\",\"2013-01-01T00:00:00\",\"2014-01-01T00:00:00\",\"2015-01-01T00:00:00\",\"2016-01-01T00:00:00\",\"2017-01-01T00:00:00\",\"2018-01-01T00:00:00\",\"2019-01-01T00:00:00\",\"2020-01-01T00:00:00\"],\"xaxis\":\"x6\",\"y\":[1075.1821327256132,1108.349682568023,1119.3113711423002,1084.5419613456934,1087.6236257630096,1086.259158671225,1085.2615592905347,1104.5459195548337,1133.7971101240037,1163.6868883215839,1084.5981698962141],\"yaxis\":\"y6\",\"type\":\"scatter\"},{\"hovertemplate\":\"input_observations=surface<br>admin=France<br>time=%{x}<br>mean=%{y}<extra></extra>\",\"legendgroup\":\"surface\",\"line\":{\"color\":\"#1F77B4\",\"dash\":\"solid\"},\"marker\":{\"symbol\":\"circle\"},\"mode\":\"lines+markers\",\"name\":\"surface\",\"orientation\":\"v\",\"showlegend\":false,\"x\":[\"2010-01-01T00:00:00\",\"2011-01-01T00:00:00\",\"2012-01-01T00:00:00\",\"2013-01-01T00:00:00\",\"2014-01-01T00:00:00\",\"2015-01-01T00:00:00\",\"2016-01-01T00:00:00\",\"2017-01-01T00:00:00\",\"2018-01-01T00:00:00\",\"2019-01-01T00:00:00\",\"2020-01-01T00:00:00\"],\"xaxis\":\"x3\",\"y\":[9314.263417084223,8752.372503877717,8660.733588320467,8610.232799210704,8014.573554151061,8188.91572020426,8227.094967318602,8285.495605546066,8081.097267755202,7783.255035581449,6851.278184242404],\"yaxis\":\"y3\",\"type\":\"scatter\"},{\"hovertemplate\":\"input_observations=surface<br>admin=Spain<br>time=%{x}<br>mean=%{y}<extra></extra>\",\"legendgroup\":\"surface\",\"line\":{\"color\":\"#1F77B4\",\"dash\":\"solid\"},\"marker\":{\"symbol\":\"circle\"},\"mode\":\"lines+markers\",\"name\":\"surface\",\"orientation\":\"v\",\"showlegend\":false,\"x\":[\"2010-01-01T00:00:00\",\"2011-01-01T00:00:00\",\"2012-01-01T00:00:00\",\"2013-01-01T00:00:00\",\"2014-01-01T00:00:00\",\"2015-01-01T00:00:00\",\"2016-01-01T00:00:00\",\"2017-01-01T00:00:00\",\"2018-01-01T00:00:00\",\"2019-01-01T00:00:00\",\"2020-01-01T00:00:00\"],\"xaxis\":\"x4\",\"y\":[4951.904551293903,4922.381536868489,4838.450391941248,4502.530897933794,4522.571312205714,4807.461274131877,4654.559752199256,4913.729484567265,4816.959470858332,4616.556203972444,3858.9725670564117],\"yaxis\":\"y4\",\"type\":\"scatter\"},{\"hovertemplate\":\"input_observations=surface<br>admin=Germany<br>time=%{x}<br>mean=%{y}<extra></extra>\",\"legendgroup\":\"surface\",\"line\":{\"color\":\"#1F77B4\",\"dash\":\"solid\"},\"marker\":{\"symbol\":\"circle\"},\"mode\":\"lines+markers\",\"name\":\"surface\",\"orientation\":\"v\",\"showlegend\":false,\"x\":[\"2010-01-01T00:00:00\",\"2011-01-01T00:00:00\",\"2012-01-01T00:00:00\",\"2013-01-01T00:00:00\",\"2014-01-01T00:00:00\",\"2015-01-01T00:00:00\",\"2016-01-01T00:00:00\",\"2017-01-01T00:00:00\",\"2018-01-01T00:00:00\",\"2019-01-01T00:00:00\",\"2020-01-01T00:00:00\"],\"xaxis\":\"x\",\"y\":[26552.194660897698,25731.178931190723,25693.808044754453,26018.342464958336,24774.423378694617,24926.019411160585,25167.90138465939,25002.328360978372,24164.372296066766,23024.895791087998,20530.587350316655],\"yaxis\":\"y\",\"type\":\"scatter\"},{\"hovertemplate\":\"input_observations=surface<br>admin=Finland<br>time=%{x}<br>mean=%{y}<extra></extra>\",\"legendgroup\":\"surface\",\"line\":{\"color\":\"#1F77B4\",\"dash\":\"solid\"},\"marker\":{\"symbol\":\"circle\"},\"mode\":\"lines+markers\",\"name\":\"surface\",\"orientation\":\"v\",\"showlegend\":false,\"x\":[\"2010-01-01T00:00:00\",\"2011-01-01T00:00:00\",\"2012-01-01T00:00:00\",\"2013-01-01T00:00:00\",\"2014-01-01T00:00:00\",\"2015-01-01T00:00:00\",\"2016-01-01T00:00:00\",\"2017-01-01T00:00:00\",\"2018-01-01T00:00:00\",\"2019-01-01T00:00:00\",\"2020-01-01T00:00:00\"],\"xaxis\":\"x2\",\"y\":[2346.292450648533,2188.4109954860473,2043.6788284369957,2071.228900784285,1955.5922053700444,1829.3968776094214,1927.249030675345,1888.1368730340735,1906.7825590406771,1554.3186770924422,1390.0169605086746],\"yaxis\":\"y2\",\"type\":\"scatter\"},{\"hovertemplate\":\"input_observations=satellite<br>admin=Italy<br>time=%{x}<br>mean=%{y}<extra></extra>\",\"legendgroup\":\"satellite\",\"line\":{\"color\":\"#FF7F0E\",\"dash\":\"solid\"},\"marker\":{\"symbol\":\"circle\"},\"mode\":\"lines+markers\",\"name\":\"satellite\",\"orientation\":\"v\",\"showlegend\":true,\"x\":[\"2010-01-01T00:00:00\",\"2011-01-01T00:00:00\",\"2012-01-01T00:00:00\",\"2013-01-01T00:00:00\",\"2014-01-01T00:00:00\",\"2015-01-01T00:00:00\",\"2016-01-01T00:00:00\",\"2017-01-01T00:00:00\",\"2018-01-01T00:00:00\",\"2019-01-01T00:00:00\",\"2020-01-01T00:00:00\"],\"xaxis\":\"x5\",\"y\":[null,null,null,null,null,7570.903388839826,7560.214531525627,7515.953796576901,7462.165062917749,7310.825431560112,6349.131242685431],\"yaxis\":\"y5\",\"type\":\"scatter\"},{\"hovertemplate\":\"input_observations=satellite<br>admin=Russia<br>time=%{x}<br>mean=%{y}<extra></extra>\",\"legendgroup\":\"satellite\",\"line\":{\"color\":\"#FF7F0E\",\"dash\":\"solid\"},\"marker\":{\"symbol\":\"circle\"},\"mode\":\"lines+markers\",\"name\":\"satellite\",\"orientation\":\"v\",\"showlegend\":false,\"x\":[\"2010-01-01T00:00:00\",\"2011-01-01T00:00:00\",\"2012-01-01T00:00:00\",\"2013-01-01T00:00:00\",\"2014-01-01T00:00:00\",\"2015-01-01T00:00:00\",\"2016-01-01T00:00:00\",\"2017-01-01T00:00:00\",\"2018-01-01T00:00:00\",\"2019-01-01T00:00:00\",\"2020-01-01T00:00:00\"],\"xaxis\":\"x6\",\"y\":[null,null,null,null,null,1096.9836207374815,1096.453860717908,1117.4427081940005,1149.920634929869,1140.2279132018798,1080.52161350454],\"yaxis\":\"y6\",\"type\":\"scatter\"},{\"hovertemplate\":\"input_observations=satellite<br>admin=France<br>time=%{x}<br>mean=%{y}<extra></extra>\",\"legendgroup\":\"satellite\",\"line\":{\"color\":\"#FF7F0E\",\"dash\":\"solid\"},\"marker\":{\"symbol\":\"circle\"},\"mode\":\"lines+markers\",\"name\":\"satellite\",\"orientation\":\"v\",\"showlegend\":false,\"x\":[\"2010-01-01T00:00:00\",\"2011-01-01T00:00:00\",\"2012-01-01T00:00:00\",\"2013-01-01T00:00:00\",\"2014-01-01T00:00:00\",\"2015-01-01T00:00:00\",\"2016-01-01T00:00:00\",\"2017-01-01T00:00:00\",\"2018-01-01T00:00:00\",\"2019-01-01T00:00:00\",\"2020-01-01T00:00:00\"],\"xaxis\":\"x3\",\"y\":[null,null,null,null,null,7564.3498833434505,7616.305360941049,7648.245125382764,7437.599298761937,7321.5235539804125,6304.512633805846],\"yaxis\":\"y3\",\"type\":\"scatter\"},{\"hovertemplate\":\"input_observations=satellite<br>admin=Spain<br>time=%{x}<br>mean=%{y}<extra></extra>\",\"legendgroup\":\"satellite\",\"line\":{\"color\":\"#FF7F0E\",\"dash\":\"solid\"},\"marker\":{\"symbol\":\"circle\"},\"mode\":\"lines+markers\",\"name\":\"satellite\",\"orientation\":\"v\",\"showlegend\":false,\"x\":[\"2010-01-01T00:00:00\",\"2011-01-01T00:00:00\",\"2012-01-01T00:00:00\",\"2013-01-01T00:00:00\",\"2014-01-01T00:00:00\",\"2015-01-01T00:00:00\",\"2016-01-01T00:00:00\",\"2017-01-01T00:00:00\",\"2018-01-01T00:00:00\",\"2019-01-01T00:00:00\",\"2020-01-01T00:00:00\"],\"xaxis\":\"x4\",\"y\":[null,null,null,null,null,4979.434024571096,4793.448756667097,5070.550645173259,4989.812898427314,4673.317409873736,3808.4968130892207],\"yaxis\":\"y4\",\"type\":\"scatter\"},{\"hovertemplate\":\"input_observations=satellite<br>admin=Germany<br>time=%{x}<br>mean=%{y}<extra></extra>\",\"legendgroup\":\"satellite\",\"line\":{\"color\":\"#FF7F0E\",\"dash\":\"solid\"},\"marker\":{\"symbol\":\"circle\"},\"mode\":\"lines+markers\",\"name\":\"satellite\",\"orientation\":\"v\",\"showlegend\":false,\"x\":[\"2010-01-01T00:00:00\",\"2011-01-01T00:00:00\",\"2012-01-01T00:00:00\",\"2013-01-01T00:00:00\",\"2014-01-01T00:00:00\",\"2015-01-01T00:00:00\",\"2016-01-01T00:00:00\",\"2017-01-01T00:00:00\",\"2018-01-01T00:00:00\",\"2019-01-01T00:00:00\",\"2020-01-01T00:00:00\"],\"xaxis\":\"x\",\"y\":[null,null,null,null,null,29538.979122325032,29712.28364410992,29395.34009396048,28560.15828236297,27140.301949178942,23934.224381102555],\"yaxis\":\"y\",\"type\":\"scatter\"},{\"hovertemplate\":\"input_observations=satellite<br>admin=Finland<br>time=%{x}<br>mean=%{y}<extra></extra>\",\"legendgroup\":\"satellite\",\"line\":{\"color\":\"#FF7F0E\",\"dash\":\"solid\"},\"marker\":{\"symbol\":\"circle\"},\"mode\":\"lines+markers\",\"name\":\"satellite\",\"orientation\":\"v\",\"showlegend\":false,\"x\":[\"2010-01-01T00:00:00\",\"2011-01-01T00:00:00\",\"2012-01-01T00:00:00\",\"2013-01-01T00:00:00\",\"2014-01-01T00:00:00\",\"2015-01-01T00:00:00\",\"2016-01-01T00:00:00\",\"2017-01-01T00:00:00\",\"2018-01-01T00:00:00\",\"2019-01-01T00:00:00\",\"2020-01-01T00:00:00\"],\"xaxis\":\"x2\",\"y\":[null,null,null,null,null,1769.4164473422707,1870.2713957290669,1847.3046119985586,1890.0981512032333,1733.9512099823123,1521.1295022801226],\"yaxis\":\"y2\",\"type\":\"scatter\"},{\"fillcolor\":\"rgba(31,119,180, 0.2)\",\"hoverlabel\":{\"bgcolor\":\"rgba(31,119,180, 0.2)\"},\"hovertemplate\":\"Lower: %{y}<extra></extra>\",\"legendgroup\":\"CI surface\",\"line\":{\"color\":\"rgba(31,119,180, 0)\"},\"mode\":\"lines+markers\",\"name\":\"CI surface\",\"showlegend\":false,\"x\":[\"2010-01-01T00:00:00\",\"2011-01-01T00:00:00\",\"2012-01-01T00:00:00\",\"2013-01-01T00:00:00\",\"2014-01-01T00:00:00\",\"2015-01-01T00:00:00\",\"2016-01-01T00:00:00\",\"2017-01-01T00:00:00\",\"2018-01-01T00:00:00\",\"2019-01-01T00:00:00\",\"2020-01-01T00:00:00\"],\"y\":[10280.593532821349,9969.957366618088,9541.08086262719,8931.386115589732,8473.848176285563,8692.199784439177,8633.109425375966,8571.795757459733,8483.15704101884,8515.762578529051,7141.376898947878],\"type\":\"scatter\",\"xaxis\":\"x5\",\"yaxis\":\"y5\"},{\"fill\":\"tonexty\",\"fillcolor\":\"rgba(31,119,180, 0.2)\",\"hoverinfo\":\"name+text+y\",\"hoverlabel\":{\"bgcolor\":\"rgba(31,119,180, 0.2)\"},\"hovertemplate\":\"Upper: %{y}<extra></extra>\",\"legendgroup\":\"CI surface\",\"line\":{\"color\":\"rgba(31,119,180, 0)\"},\"mode\":\"lines+markers\",\"name\":\"CI surface\",\"showlegend\":false,\"x\":[\"2010-01-01T00:00:00\",\"2011-01-01T00:00:00\",\"2012-01-01T00:00:00\",\"2013-01-01T00:00:00\",\"2014-01-01T00:00:00\",\"2015-01-01T00:00:00\",\"2016-01-01T00:00:00\",\"2017-01-01T00:00:00\",\"2018-01-01T00:00:00\",\"2019-01-01T00:00:00\",\"2020-01-01T00:00:00\"],\"y\":[12255.307960039256,11849.179298961222,11375.328129038746,10624.239824162742,10018.605360187306,10325.466620810643,10318.678764286007,10270.654995572522,10138.237321487883,9658.599799002153,8883.112872820986],\"type\":\"scatter\",\"xaxis\":\"x5\",\"yaxis\":\"y5\"},{\"fillcolor\":\"rgba(31,119,180, 0.2)\",\"hoverlabel\":{\"bgcolor\":\"rgba(31,119,180, 0.2)\"},\"hovertemplate\":\"Lower: %{y}<extra></extra>\",\"legendgroup\":\"CI surface\",\"line\":{\"color\":\"rgba(31,119,180, 0)\"},\"mode\":\"lines+markers\",\"name\":\"CI surface\",\"showlegend\":false,\"x\":[\"2010-01-01T00:00:00\",\"2011-01-01T00:00:00\",\"2012-01-01T00:00:00\",\"2013-01-01T00:00:00\",\"2014-01-01T00:00:00\",\"2015-01-01T00:00:00\",\"2016-01-01T00:00:00\",\"2017-01-01T00:00:00\",\"2018-01-01T00:00:00\",\"2019-01-01T00:00:00\",\"2020-01-01T00:00:00\"],\"y\":[986.6444302692282,1017.0948935019869,1026.5641282888876,996.4956990305687,1000.476960871091,1000.287522353459,997.975355789977,1016.8639928850504,1042.2448624786366,1089.2834351463348,994.5835705009758],\"type\":\"scatter\",\"xaxis\":\"x6\",\"yaxis\":\"y6\"},{\"fill\":\"tonexty\",\"fillcolor\":\"rgba(31,119,180, 0.2)\",\"hoverinfo\":\"name+text+y\",\"hoverlabel\":{\"bgcolor\":\"rgba(31,119,180, 0.2)\"},\"hovertemplate\":\"Upper: %{y}<extra></extra>\",\"legendgroup\":\"CI surface\",\"line\":{\"color\":\"rgba(31,119,180, 0)\"},\"mode\":\"lines+markers\",\"name\":\"CI surface\",\"showlegend\":false,\"x\":[\"2010-01-01T00:00:00\",\"2011-01-01T00:00:00\",\"2012-01-01T00:00:00\",\"2013-01-01T00:00:00\",\"2014-01-01T00:00:00\",\"2015-01-01T00:00:00\",\"2016-01-01T00:00:00\",\"2017-01-01T00:00:00\",\"2018-01-01T00:00:00\",\"2019-01-01T00:00:00\",\"2020-01-01T00:00:00\"],\"y\":[1163.7198351819982,1199.6044716340589,1212.0586139957124,1172.5882236608181,1174.7702906549282,1172.2307949889907,1172.5477627910925,1192.227846224617,1225.3493577693707,1238.090341496833,1174.6127692914529],\"type\":\"scatter\",\"xaxis\":\"x6\",\"yaxis\":\"y6\"},{\"fillcolor\":\"rgba(31,119,180, 0.2)\",\"hoverlabel\":{\"bgcolor\":\"rgba(31,119,180, 0.2)\"},\"hovertemplate\":\"Lower: %{y}<extra></extra>\",\"legendgroup\":\"CI surface\",\"line\":{\"color\":\"rgba(31,119,180, 0)\"},\"mode\":\"lines+markers\",\"name\":\"CI surface\",\"showlegend\":false,\"x\":[\"2010-01-01T00:00:00\",\"2011-01-01T00:00:00\",\"2012-01-01T00:00:00\",\"2013-01-01T00:00:00\",\"2014-01-01T00:00:00\",\"2015-01-01T00:00:00\",\"2016-01-01T00:00:00\",\"2017-01-01T00:00:00\",\"2018-01-01T00:00:00\",\"2019-01-01T00:00:00\",\"2020-01-01T00:00:00\"],\"y\":[8592.803300305513,8089.958980655958,7992.148722117225,7952.125815849474,7429.256436800786,7578.094994784138,7591.884152391489,7648.174939720808,7464.112695538761,7252.772266074238,6057.785815167794],\"type\":\"scatter\",\"xaxis\":\"x3\",\"yaxis\":\"y3\"},{\"fill\":\"tonexty\",\"fillcolor\":\"rgba(31,119,180, 0.2)\",\"hoverinfo\":\"name+text+y\",\"hoverlabel\":{\"bgcolor\":\"rgba(31,119,180, 0.2)\"},\"hovertemplate\":\"Upper: %{y}<extra></extra>\",\"legendgroup\":\"CI surface\",\"line\":{\"color\":\"rgba(31,119,180, 0)\"},\"mode\":\"lines+markers\",\"name\":\"CI surface\",\"showlegend\":false,\"x\":[\"2010-01-01T00:00:00\",\"2011-01-01T00:00:00\",\"2012-01-01T00:00:00\",\"2013-01-01T00:00:00\",\"2014-01-01T00:00:00\",\"2015-01-01T00:00:00\",\"2016-01-01T00:00:00\",\"2017-01-01T00:00:00\",\"2018-01-01T00:00:00\",\"2019-01-01T00:00:00\",\"2020-01-01T00:00:00\"],\"y\":[10035.723533862933,9414.78602709948,9329.318454523705,9268.339782571931,8599.890671501336,8799.736445624387,8862.305782245716,8922.816271371325,8698.081839971643,8313.737805088662,7644.770553317014],\"type\":\"scatter\",\"xaxis\":\"x3\",\"yaxis\":\"y3\"},{\"fillcolor\":\"rgba(31,119,180, 0.2)\",\"hoverlabel\":{\"bgcolor\":\"rgba(31,119,180, 0.2)\"},\"hovertemplate\":\"Lower: %{y}<extra></extra>\",\"legendgroup\":\"CI surface\",\"line\":{\"color\":\"rgba(31,119,180, 0)\"},\"mode\":\"lines+markers\",\"name\":\"CI surface\",\"showlegend\":false,\"x\":[\"2010-01-01T00:00:00\",\"2011-01-01T00:00:00\",\"2012-01-01T00:00:00\",\"2013-01-01T00:00:00\",\"2014-01-01T00:00:00\",\"2015-01-01T00:00:00\",\"2016-01-01T00:00:00\",\"2017-01-01T00:00:00\",\"2018-01-01T00:00:00\",\"2019-01-01T00:00:00\",\"2020-01-01T00:00:00\"],\"y\":[4678.175877451846,4645.941373842822,4559.602264048208,4250.213541983363,4272.81911121673,4538.954368911228,4396.741303609056,4637.844098019639,4549.6266072169365,4469.421351993318,3515.0287646120096],\"type\":\"scatter\",\"xaxis\":\"x4\",\"yaxis\":\"y4\"},{\"fill\":\"tonexty\",\"fillcolor\":\"rgba(31,119,180, 0.2)\",\"hoverinfo\":\"name+text+y\",\"hoverlabel\":{\"bgcolor\":\"rgba(31,119,180, 0.2)\"},\"hovertemplate\":\"Upper: %{y}<extra></extra>\",\"legendgroup\":\"CI surface\",\"line\":{\"color\":\"rgba(31,119,180, 0)\"},\"mode\":\"lines+markers\",\"name\":\"CI surface\",\"showlegend\":false,\"x\":[\"2010-01-01T00:00:00\",\"2011-01-01T00:00:00\",\"2012-01-01T00:00:00\",\"2013-01-01T00:00:00\",\"2014-01-01T00:00:00\",\"2015-01-01T00:00:00\",\"2016-01-01T00:00:00\",\"2017-01-01T00:00:00\",\"2018-01-01T00:00:00\",\"2019-01-01T00:00:00\",\"2020-01-01T00:00:00\"],\"y\":[5225.633225135958,5198.821699894156,5117.2985198342885,4754.848253884229,4772.323513194697,5075.968179352528,4912.378200789456,5189.614871114893,5084.292334499727,4763.691055951567,4202.916369500814],\"type\":\"scatter\",\"xaxis\":\"x4\",\"yaxis\":\"y4\"},{\"fillcolor\":\"rgba(31,119,180, 0.2)\",\"hoverlabel\":{\"bgcolor\":\"rgba(31,119,180, 0.2)\"},\"hovertemplate\":\"Lower: %{y}<extra></extra>\",\"legendgroup\":\"CI surface\",\"line\":{\"color\":\"rgba(31,119,180, 0)\"},\"mode\":\"lines+markers\",\"name\":\"CI surface\",\"showlegend\":false,\"x\":[\"2010-01-01T00:00:00\",\"2011-01-01T00:00:00\",\"2012-01-01T00:00:00\",\"2013-01-01T00:00:00\",\"2014-01-01T00:00:00\",\"2015-01-01T00:00:00\",\"2016-01-01T00:00:00\",\"2017-01-01T00:00:00\",\"2018-01-01T00:00:00\",\"2019-01-01T00:00:00\",\"2020-01-01T00:00:00\"],\"y\":[24541.61669005222,23812.159049046648,23757.504576822645,24079.517323986343,22967.306517888053,23102.50318068149,23291.899165646686,23163.256952205895,22383.74874391693,21473.57528141624,18531.81565618225],\"type\":\"scatter\",\"xaxis\":\"x\",\"yaxis\":\"y\"},{\"fill\":\"tonexty\",\"fillcolor\":\"rgba(31,119,180, 0.2)\",\"hoverinfo\":\"name+text+y\",\"hoverlabel\":{\"bgcolor\":\"rgba(31,119,180, 0.2)\"},\"hovertemplate\":\"Upper: %{y}<extra></extra>\",\"legendgroup\":\"CI surface\",\"line\":{\"color\":\"rgba(31,119,180, 0)\"},\"mode\":\"lines+markers\",\"name\":\"CI surface\",\"showlegend\":false,\"x\":[\"2010-01-01T00:00:00\",\"2011-01-01T00:00:00\",\"2012-01-01T00:00:00\",\"2013-01-01T00:00:00\",\"2014-01-01T00:00:00\",\"2015-01-01T00:00:00\",\"2016-01-01T00:00:00\",\"2017-01-01T00:00:00\",\"2018-01-01T00:00:00\",\"2019-01-01T00:00:00\",\"2020-01-01T00:00:00\"],\"y\":[28562.772631743162,27650.198813334813,27630.111512686275,27957.167605930328,26581.54023950118,26749.53564163968,27043.903603672097,26841.39976975085,25944.995848216608,24576.216300759756,22529.35904445106],\"type\":\"scatter\",\"xaxis\":\"x\",\"yaxis\":\"y\"},{\"fillcolor\":\"rgba(31,119,180, 0.2)\",\"hoverlabel\":{\"bgcolor\":\"rgba(31,119,180, 0.2)\"},\"hovertemplate\":\"Lower: %{y}<extra></extra>\",\"legendgroup\":\"CI surface\",\"line\":{\"color\":\"rgba(31,119,180, 0)\"},\"mode\":\"lines+markers\",\"name\":\"CI surface\",\"showlegend\":false,\"x\":[\"2010-01-01T00:00:00\",\"2011-01-01T00:00:00\",\"2012-01-01T00:00:00\",\"2013-01-01T00:00:00\",\"2014-01-01T00:00:00\",\"2015-01-01T00:00:00\",\"2016-01-01T00:00:00\",\"2017-01-01T00:00:00\",\"2018-01-01T00:00:00\",\"2019-01-01T00:00:00\",\"2020-01-01T00:00:00\"],\"y\":[2202.3600656308336,2056.0453143684717,1920.7578562286153,1947.4177108291506,1839.5431082045752,1722.2919589760922,1812.7979634625488,1778.330625047808,1795.3222845835414,1488.5156589341477,1286.436189678627],\"type\":\"scatter\",\"xaxis\":\"x2\",\"yaxis\":\"y2\"},{\"fill\":\"tonexty\",\"fillcolor\":\"rgba(31,119,180, 0.2)\",\"hoverinfo\":\"name+text+y\",\"hoverlabel\":{\"bgcolor\":\"rgba(31,119,180, 0.2)\"},\"hovertemplate\":\"Upper: %{y}<extra></extra>\",\"legendgroup\":\"CI surface\",\"line\":{\"color\":\"rgba(31,119,180, 0)\"},\"mode\":\"lines+markers\",\"name\":\"CI surface\",\"showlegend\":true,\"x\":[\"2010-01-01T00:00:00\",\"2011-01-01T00:00:00\",\"2012-01-01T00:00:00\",\"2013-01-01T00:00:00\",\"2014-01-01T00:00:00\",\"2015-01-01T00:00:00\",\"2016-01-01T00:00:00\",\"2017-01-01T00:00:00\",\"2018-01-01T00:00:00\",\"2019-01-01T00:00:00\",\"2020-01-01T00:00:00\"],\"y\":[2490.224835666232,2320.776676603623,2166.599800645375,2195.0400907394196,2071.641302535513,1936.5017962427496,2041.7000978881413,1997.9431210203388,2018.2428334978129,1620.1216952507366,1493.5977313387223],\"type\":\"scatter\",\"xaxis\":\"x2\",\"yaxis\":\"y2\"},{\"fillcolor\":\"rgba(255,127,14, 0.2)\",\"hoverlabel\":{\"bgcolor\":\"rgba(255,127,14, 0.2)\"},\"hovertemplate\":\"Lower: %{y}<extra></extra>\",\"legendgroup\":\"CI satellite\",\"line\":{\"color\":\"rgba(255,127,14, 0)\"},\"mode\":\"lines+markers\",\"name\":\"CI satellite\",\"showlegend\":false,\"x\":[\"2010-01-01T00:00:00\",\"2011-01-01T00:00:00\",\"2012-01-01T00:00:00\",\"2013-01-01T00:00:00\",\"2014-01-01T00:00:00\",\"2015-01-01T00:00:00\",\"2016-01-01T00:00:00\",\"2017-01-01T00:00:00\",\"2018-01-01T00:00:00\",\"2019-01-01T00:00:00\",\"2020-01-01T00:00:00\"],\"y\":[null,null,null,null,null,7092.239296774771,7063.448583447225,7009.371274012152,6971.301430920018,6816.196990338618,5714.050995981537],\"type\":\"scatter\",\"xaxis\":\"x5\",\"yaxis\":\"y5\"},{\"fill\":\"tonexty\",\"fillcolor\":\"rgba(255,127,14, 0.2)\",\"hoverinfo\":\"name+text+y\",\"hoverlabel\":{\"bgcolor\":\"rgba(255,127,14, 0.2)\"},\"hovertemplate\":\"Upper: %{y}<extra></extra>\",\"legendgroup\":\"CI satellite\",\"line\":{\"color\":\"rgba(255,127,14, 0)\"},\"mode\":\"lines+markers\",\"name\":\"CI satellite\",\"showlegend\":false,\"x\":[\"2010-01-01T00:00:00\",\"2011-01-01T00:00:00\",\"2012-01-01T00:00:00\",\"2013-01-01T00:00:00\",\"2014-01-01T00:00:00\",\"2015-01-01T00:00:00\",\"2016-01-01T00:00:00\",\"2017-01-01T00:00:00\",\"2018-01-01T00:00:00\",\"2019-01-01T00:00:00\",\"2020-01-01T00:00:00\"],\"y\":[null,null,null,null,null,8049.567480904881,8056.98047960403,8022.536319141651,7953.028694915479,7805.453872781607,6984.211489389323],\"type\":\"scatter\",\"xaxis\":\"x5\",\"yaxis\":\"y5\"},{\"fillcolor\":\"rgba(255,127,14, 0.2)\",\"hoverlabel\":{\"bgcolor\":\"rgba(255,127,14, 0.2)\"},\"hovertemplate\":\"Lower: %{y}<extra></extra>\",\"legendgroup\":\"CI satellite\",\"line\":{\"color\":\"rgba(255,127,14, 0)\"},\"mode\":\"lines+markers\",\"name\":\"CI satellite\",\"showlegend\":false,\"x\":[\"2010-01-01T00:00:00\",\"2011-01-01T00:00:00\",\"2012-01-01T00:00:00\",\"2013-01-01T00:00:00\",\"2014-01-01T00:00:00\",\"2015-01-01T00:00:00\",\"2016-01-01T00:00:00\",\"2017-01-01T00:00:00\",\"2018-01-01T00:00:00\",\"2019-01-01T00:00:00\",\"2020-01-01T00:00:00\"],\"y\":[null,null,null,null,null,1005.9570318293626,1003.6010415821576,1024.444615497887,1052.5847701749824,1053.8113848573623,957.6239175616058],\"type\":\"scatter\",\"xaxis\":\"x6\",\"yaxis\":\"y6\"},{\"fill\":\"tonexty\",\"fillcolor\":\"rgba(255,127,14, 0.2)\",\"hoverinfo\":\"name+text+y\",\"hoverlabel\":{\"bgcolor\":\"rgba(255,127,14, 0.2)\"},\"hovertemplate\":\"Upper: %{y}<extra></extra>\",\"legendgroup\":\"CI satellite\",\"line\":{\"color\":\"rgba(255,127,14, 0)\"},\"mode\":\"lines+markers\",\"name\":\"CI satellite\",\"showlegend\":false,\"x\":[\"2010-01-01T00:00:00\",\"2011-01-01T00:00:00\",\"2012-01-01T00:00:00\",\"2013-01-01T00:00:00\",\"2014-01-01T00:00:00\",\"2015-01-01T00:00:00\",\"2016-01-01T00:00:00\",\"2017-01-01T00:00:00\",\"2018-01-01T00:00:00\",\"2019-01-01T00:00:00\",\"2020-01-01T00:00:00\"],\"y\":[null,null,null,null,null,1188.0102096456,1189.3066798536586,1210.4408008901135,1247.2564996847557,1226.6444415463968,1203.4193094474738],\"type\":\"scatter\",\"xaxis\":\"x6\",\"yaxis\":\"y6\"},{\"fillcolor\":\"rgba(255,127,14, 0.2)\",\"hoverlabel\":{\"bgcolor\":\"rgba(255,127,14, 0.2)\"},\"hovertemplate\":\"Lower: %{y}<extra></extra>\",\"legendgroup\":\"CI satellite\",\"line\":{\"color\":\"rgba(255,127,14, 0)\"},\"mode\":\"lines+markers\",\"name\":\"CI satellite\",\"showlegend\":false,\"x\":[\"2010-01-01T00:00:00\",\"2011-01-01T00:00:00\",\"2012-01-01T00:00:00\",\"2013-01-01T00:00:00\",\"2014-01-01T00:00:00\",\"2015-01-01T00:00:00\",\"2016-01-01T00:00:00\",\"2017-01-01T00:00:00\",\"2018-01-01T00:00:00\",\"2019-01-01T00:00:00\",\"2020-01-01T00:00:00\"],\"y\":[null,null,null,null,null,7012.892976392166,7045.41040948583,7077.643220785656,6895.420567360908,6829.4143930063,5657.705018085719],\"type\":\"scatter\",\"xaxis\":\"x3\",\"yaxis\":\"y3\"},{\"fill\":\"tonexty\",\"fillcolor\":\"rgba(255,127,14, 0.2)\",\"hoverinfo\":\"name+text+y\",\"hoverlabel\":{\"bgcolor\":\"rgba(255,127,14, 0.2)\"},\"hovertemplate\":\"Upper: %{y}<extra></extra>\",\"legendgroup\":\"CI satellite\",\"line\":{\"color\":\"rgba(255,127,14, 0)\"},\"mode\":\"lines+markers\",\"name\":\"CI satellite\",\"showlegend\":false,\"x\":[\"2010-01-01T00:00:00\",\"2011-01-01T00:00:00\",\"2012-01-01T00:00:00\",\"2013-01-01T00:00:00\",\"2014-01-01T00:00:00\",\"2015-01-01T00:00:00\",\"2016-01-01T00:00:00\",\"2017-01-01T00:00:00\",\"2018-01-01T00:00:00\",\"2019-01-01T00:00:00\",\"2020-01-01T00:00:00\"],\"y\":[null,null,null,null,null,8115.806790294739,8187.200312396268,8218.84702997987,7979.778030162964,7813.632714954525,6951.320249525976],\"type\":\"scatter\",\"xaxis\":\"x3\",\"yaxis\":\"y3\"},{\"fillcolor\":\"rgba(255,127,14, 0.2)\",\"hoverlabel\":{\"bgcolor\":\"rgba(255,127,14, 0.2)\"},\"hovertemplate\":\"Lower: %{y}<extra></extra>\",\"legendgroup\":\"CI satellite\",\"line\":{\"color\":\"rgba(255,127,14, 0)\"},\"mode\":\"lines+markers\",\"name\":\"CI satellite\",\"showlegend\":false,\"x\":[\"2010-01-01T00:00:00\",\"2011-01-01T00:00:00\",\"2012-01-01T00:00:00\",\"2013-01-01T00:00:00\",\"2014-01-01T00:00:00\",\"2015-01-01T00:00:00\",\"2016-01-01T00:00:00\",\"2017-01-01T00:00:00\",\"2018-01-01T00:00:00\",\"2019-01-01T00:00:00\",\"2020-01-01T00:00:00\"],\"y\":[null,null,null,null,null,4805.47564331751,4646.600485603108,4899.214100266928,4824.580748306172,4512.260796626441,3485.4192883900705],\"type\":\"scatter\",\"xaxis\":\"x4\",\"yaxis\":\"y4\"},{\"fill\":\"tonexty\",\"fillcolor\":\"rgba(255,127,14, 0.2)\",\"hoverinfo\":\"name+text+y\",\"hoverlabel\":{\"bgcolor\":\"rgba(255,127,14, 0.2)\"},\"hovertemplate\":\"Upper: %{y}<extra></extra>\",\"legendgroup\":\"CI satellite\",\"line\":{\"color\":\"rgba(255,127,14, 0)\"},\"mode\":\"lines+markers\",\"name\":\"CI satellite\",\"showlegend\":false,\"x\":[\"2010-01-01T00:00:00\",\"2011-01-01T00:00:00\",\"2012-01-01T00:00:00\",\"2013-01-01T00:00:00\",\"2014-01-01T00:00:00\",\"2015-01-01T00:00:00\",\"2016-01-01T00:00:00\",\"2017-01-01T00:00:00\",\"2018-01-01T00:00:00\",\"2019-01-01T00:00:00\",\"2020-01-01T00:00:00\"],\"y\":[null,null,null,null,null,5153.392405824683,4940.297027731086,5241.887190079592,5155.045048548457,4834.374023121031,4131.574337788368],\"type\":\"scatter\",\"xaxis\":\"x4\",\"yaxis\":\"y4\"},{\"fillcolor\":\"rgba(255,127,14, 0.2)\",\"hoverlabel\":{\"bgcolor\":\"rgba(255,127,14, 0.2)\"},\"hovertemplate\":\"Lower: %{y}<extra></extra>\",\"legendgroup\":\"CI satellite\",\"line\":{\"color\":\"rgba(255,127,14, 0)\"},\"mode\":\"lines+markers\",\"name\":\"CI satellite\",\"showlegend\":false,\"x\":[\"2010-01-01T00:00:00\",\"2011-01-01T00:00:00\",\"2012-01-01T00:00:00\",\"2013-01-01T00:00:00\",\"2014-01-01T00:00:00\",\"2015-01-01T00:00:00\",\"2016-01-01T00:00:00\",\"2017-01-01T00:00:00\",\"2018-01-01T00:00:00\",\"2019-01-01T00:00:00\",\"2020-01-01T00:00:00\"],\"y\":[null,null,null,null,null,27460.02002030959,27574.289171706274,27323.329104820856,26554.897427446303,25227.514978476713,21657.067321896637],\"type\":\"scatter\",\"xaxis\":\"x\",\"yaxis\":\"y\"},{\"fill\":\"tonexty\",\"fillcolor\":\"rgba(255,127,14, 0.2)\",\"hoverinfo\":\"name+text+y\",\"hoverlabel\":{\"bgcolor\":\"rgba(255,127,14, 0.2)\"},\"hovertemplate\":\"Upper: %{y}<extra></extra>\",\"legendgroup\":\"CI satellite\",\"line\":{\"color\":\"rgba(255,127,14, 0)\"},\"mode\":\"lines+markers\",\"name\":\"CI satellite\",\"showlegend\":false,\"x\":[\"2010-01-01T00:00:00\",\"2011-01-01T00:00:00\",\"2012-01-01T00:00:00\",\"2013-01-01T00:00:00\",\"2014-01-01T00:00:00\",\"2015-01-01T00:00:00\",\"2016-01-01T00:00:00\",\"2017-01-01T00:00:00\",\"2018-01-01T00:00:00\",\"2019-01-01T00:00:00\",\"2020-01-01T00:00:00\"],\"y\":[null,null,null,null,null,31617.938224340476,31850.278116513575,31467.351083100104,30565.41913727962,29053.08891988118,26211.381440308473],\"type\":\"scatter\",\"xaxis\":\"x\",\"yaxis\":\"y\"},{\"fillcolor\":\"rgba(255,127,14, 0.2)\",\"hoverlabel\":{\"bgcolor\":\"rgba(255,127,14, 0.2)\"},\"hovertemplate\":\"Lower: %{y}<extra></extra>\",\"legendgroup\":\"CI satellite\",\"line\":{\"color\":\"rgba(255,127,14, 0)\"},\"mode\":\"lines+markers\",\"name\":\"CI satellite\",\"showlegend\":false,\"x\":[\"2010-01-01T00:00:00\",\"2011-01-01T00:00:00\",\"2012-01-01T00:00:00\",\"2013-01-01T00:00:00\",\"2014-01-01T00:00:00\",\"2015-01-01T00:00:00\",\"2016-01-01T00:00:00\",\"2017-01-01T00:00:00\",\"2018-01-01T00:00:00\",\"2019-01-01T00:00:00\",\"2020-01-01T00:00:00\"],\"y\":[null,null,null,null,null,1690.899440268094,1787.1361439821906,1765.335945427873,1804.8765480071113,1661.9970072446079,1409.3001914393071],\"type\":\"scatter\",\"xaxis\":\"x2\",\"yaxis\":\"y2\"},{\"fill\":\"tonexty\",\"fillcolor\":\"rgba(255,127,14, 0.2)\",\"hoverinfo\":\"name+text+y\",\"hoverlabel\":{\"bgcolor\":\"rgba(255,127,14, 0.2)\"},\"hovertemplate\":\"Upper: %{y}<extra></extra>\",\"legendgroup\":\"CI satellite\",\"line\":{\"color\":\"rgba(255,127,14, 0)\"},\"mode\":\"lines+markers\",\"name\":\"CI satellite\",\"showlegend\":true,\"x\":[\"2010-01-01T00:00:00\",\"2011-01-01T00:00:00\",\"2012-01-01T00:00:00\",\"2013-01-01T00:00:00\",\"2014-01-01T00:00:00\",\"2015-01-01T00:00:00\",\"2016-01-01T00:00:00\",\"2017-01-01T00:00:00\",\"2018-01-01T00:00:00\",\"2019-01-01T00:00:00\",\"2020-01-01T00:00:00\"],\"y\":[null,null,null,null,null,1847.9334544164474,1953.4066474759422,1929.2732785692442,1975.3197543993554,1805.9054127200172,1632.958813120938],\"type\":\"scatter\",\"xaxis\":\"x2\",\"yaxis\":\"y2\"}],                        {\"template\":{\"data\":{\"histogram2dcontour\":[{\"type\":\"histogram2dcontour\",\"colorbar\":{\"outlinewidth\":0,\"ticks\":\"\"},\"colorscale\":[[0.0,\"#0d0887\"],[0.1111111111111111,\"#46039f\"],[0.2222222222222222,\"#7201a8\"],[0.3333333333333333,\"#9c179e\"],[0.4444444444444444,\"#bd3786\"],[0.5555555555555556,\"#d8576b\"],[0.6666666666666666,\"#ed7953\"],[0.7777777777777778,\"#fb9f3a\"],[0.8888888888888888,\"#fdca26\"],[1.0,\"#f0f921\"]]}],\"choropleth\":[{\"type\":\"choropleth\",\"colorbar\":{\"outlinewidth\":0,\"ticks\":\"\"}}],\"histogram2d\":[{\"type\":\"histogram2d\",\"colorbar\":{\"outlinewidth\":0,\"ticks\":\"\"},\"colorscale\":[[0.0,\"#0d0887\"],[0.1111111111111111,\"#46039f\"],[0.2222222222222222,\"#7201a8\"],[0.3333333333333333,\"#9c179e\"],[0.4444444444444444,\"#bd3786\"],[0.5555555555555556,\"#d8576b\"],[0.6666666666666666,\"#ed7953\"],[0.7777777777777778,\"#fb9f3a\"],[0.8888888888888888,\"#fdca26\"],[1.0,\"#f0f921\"]]}],\"heatmap\":[{\"type\":\"heatmap\",\"colorbar\":{\"outlinewidth\":0,\"ticks\":\"\"},\"colorscale\":[[0.0,\"#0d0887\"],[0.1111111111111111,\"#46039f\"],[0.2222222222222222,\"#7201a8\"],[0.3333333333333333,\"#9c179e\"],[0.4444444444444444,\"#bd3786\"],[0.5555555555555556,\"#d8576b\"],[0.6666666666666666,\"#ed7953\"],[0.7777777777777778,\"#fb9f3a\"],[0.8888888888888888,\"#fdca26\"],[1.0,\"#f0f921\"]]}],\"heatmapgl\":[{\"type\":\"heatmapgl\",\"colorbar\":{\"outlinewidth\":0,\"ticks\":\"\"},\"colorscale\":[[0.0,\"#0d0887\"],[0.1111111111111111,\"#46039f\"],[0.2222222222222222,\"#7201a8\"],[0.3333333333333333,\"#9c179e\"],[0.4444444444444444,\"#bd3786\"],[0.5555555555555556,\"#d8576b\"],[0.6666666666666666,\"#ed7953\"],[0.7777777777777778,\"#fb9f3a\"],[0.8888888888888888,\"#fdca26\"],[1.0,\"#f0f921\"]]}],\"contourcarpet\":[{\"type\":\"contourcarpet\",\"colorbar\":{\"outlinewidth\":0,\"ticks\":\"\"}}],\"contour\":[{\"type\":\"contour\",\"colorbar\":{\"outlinewidth\":0,\"ticks\":\"\"},\"colorscale\":[[0.0,\"#0d0887\"],[0.1111111111111111,\"#46039f\"],[0.2222222222222222,\"#7201a8\"],[0.3333333333333333,\"#9c179e\"],[0.4444444444444444,\"#bd3786\"],[0.5555555555555556,\"#d8576b\"],[0.6666666666666666,\"#ed7953\"],[0.7777777777777778,\"#fb9f3a\"],[0.8888888888888888,\"#fdca26\"],[1.0,\"#f0f921\"]]}],\"surface\":[{\"type\":\"surface\",\"colorbar\":{\"outlinewidth\":0,\"ticks\":\"\"},\"colorscale\":[[0.0,\"#0d0887\"],[0.1111111111111111,\"#46039f\"],[0.2222222222222222,\"#7201a8\"],[0.3333333333333333,\"#9c179e\"],[0.4444444444444444,\"#bd3786\"],[0.5555555555555556,\"#d8576b\"],[0.6666666666666666,\"#ed7953\"],[0.7777777777777778,\"#fb9f3a\"],[0.8888888888888888,\"#fdca26\"],[1.0,\"#f0f921\"]]}],\"mesh3d\":[{\"type\":\"mesh3d\",\"colorbar\":{\"outlinewidth\":0,\"ticks\":\"\"}}],\"scatter\":[{\"fillpattern\":{\"fillmode\":\"overlay\",\"size\":10,\"solidity\":0.2},\"type\":\"scatter\"}],\"parcoords\":[{\"type\":\"parcoords\",\"line\":{\"colorbar\":{\"outlinewidth\":0,\"ticks\":\"\"}}}],\"scatterpolargl\":[{\"type\":\"scatterpolargl\",\"marker\":{\"colorbar\":{\"outlinewidth\":0,\"ticks\":\"\"}}}],\"bar\":[{\"error_x\":{\"color\":\"#2a3f5f\"},\"error_y\":{\"color\":\"#2a3f5f\"},\"marker\":{\"line\":{\"color\":\"#E5ECF6\",\"width\":0.5},\"pattern\":{\"fillmode\":\"overlay\",\"size\":10,\"solidity\":0.2}},\"type\":\"bar\"}],\"scattergeo\":[{\"type\":\"scattergeo\",\"marker\":{\"colorbar\":{\"outlinewidth\":0,\"ticks\":\"\"}}}],\"scatterpolar\":[{\"type\":\"scatterpolar\",\"marker\":{\"colorbar\":{\"outlinewidth\":0,\"ticks\":\"\"}}}],\"histogram\":[{\"marker\":{\"pattern\":{\"fillmode\":\"overlay\",\"size\":10,\"solidity\":0.2}},\"type\":\"histogram\"}],\"scattergl\":[{\"type\":\"scattergl\",\"marker\":{\"colorbar\":{\"outlinewidth\":0,\"ticks\":\"\"}}}],\"scatter3d\":[{\"type\":\"scatter3d\",\"line\":{\"colorbar\":{\"outlinewidth\":0,\"ticks\":\"\"}},\"marker\":{\"colorbar\":{\"outlinewidth\":0,\"ticks\":\"\"}}}],\"scattermapbox\":[{\"type\":\"scattermapbox\",\"marker\":{\"colorbar\":{\"outlinewidth\":0,\"ticks\":\"\"}}}],\"scatterternary\":[{\"type\":\"scatterternary\",\"marker\":{\"colorbar\":{\"outlinewidth\":0,\"ticks\":\"\"}}}],\"scattercarpet\":[{\"type\":\"scattercarpet\",\"marker\":{\"colorbar\":{\"outlinewidth\":0,\"ticks\":\"\"}}}],\"carpet\":[{\"aaxis\":{\"endlinecolor\":\"#2a3f5f\",\"gridcolor\":\"white\",\"linecolor\":\"white\",\"minorgridcolor\":\"white\",\"startlinecolor\":\"#2a3f5f\"},\"baxis\":{\"endlinecolor\":\"#2a3f5f\",\"gridcolor\":\"white\",\"linecolor\":\"white\",\"minorgridcolor\":\"white\",\"startlinecolor\":\"#2a3f5f\"},\"type\":\"carpet\"}],\"table\":[{\"cells\":{\"fill\":{\"color\":\"#EBF0F8\"},\"line\":{\"color\":\"white\"}},\"header\":{\"fill\":{\"color\":\"#C8D4E3\"},\"line\":{\"color\":\"white\"}},\"type\":\"table\"}],\"barpolar\":[{\"marker\":{\"line\":{\"color\":\"#E5ECF6\",\"width\":0.5},\"pattern\":{\"fillmode\":\"overlay\",\"size\":10,\"solidity\":0.2}},\"type\":\"barpolar\"}],\"pie\":[{\"automargin\":true,\"type\":\"pie\"}]},\"layout\":{\"autotypenumbers\":\"strict\",\"colorway\":[\"#636efa\",\"#EF553B\",\"#00cc96\",\"#ab63fa\",\"#FFA15A\",\"#19d3f3\",\"#FF6692\",\"#B6E880\",\"#FF97FF\",\"#FECB52\"],\"font\":{\"color\":\"#2a3f5f\"},\"hovermode\":\"closest\",\"hoverlabel\":{\"align\":\"left\"},\"paper_bgcolor\":\"white\",\"plot_bgcolor\":\"#E5ECF6\",\"polar\":{\"bgcolor\":\"#E5ECF6\",\"angularaxis\":{\"gridcolor\":\"white\",\"linecolor\":\"white\",\"ticks\":\"\"},\"radialaxis\":{\"gridcolor\":\"white\",\"linecolor\":\"white\",\"ticks\":\"\"}},\"ternary\":{\"bgcolor\":\"#E5ECF6\",\"aaxis\":{\"gridcolor\":\"white\",\"linecolor\":\"white\",\"ticks\":\"\"},\"baxis\":{\"gridcolor\":\"white\",\"linecolor\":\"white\",\"ticks\":\"\"},\"caxis\":{\"gridcolor\":\"white\",\"linecolor\":\"white\",\"ticks\":\"\"}},\"coloraxis\":{\"colorbar\":{\"outlinewidth\":0,\"ticks\":\"\"}},\"colorscale\":{\"sequential\":[[0.0,\"#0d0887\"],[0.1111111111111111,\"#46039f\"],[0.2222222222222222,\"#7201a8\"],[0.3333333333333333,\"#9c179e\"],[0.4444444444444444,\"#bd3786\"],[0.5555555555555556,\"#d8576b\"],[0.6666666666666666,\"#ed7953\"],[0.7777777777777778,\"#fb9f3a\"],[0.8888888888888888,\"#fdca26\"],[1.0,\"#f0f921\"]],\"sequentialminus\":[[0.0,\"#0d0887\"],[0.1111111111111111,\"#46039f\"],[0.2222222222222222,\"#7201a8\"],[0.3333333333333333,\"#9c179e\"],[0.4444444444444444,\"#bd3786\"],[0.5555555555555556,\"#d8576b\"],[0.6666666666666666,\"#ed7953\"],[0.7777777777777778,\"#fb9f3a\"],[0.8888888888888888,\"#fdca26\"],[1.0,\"#f0f921\"]],\"diverging\":[[0,\"#8e0152\"],[0.1,\"#c51b7d\"],[0.2,\"#de77ae\"],[0.3,\"#f1b6da\"],[0.4,\"#fde0ef\"],[0.5,\"#f7f7f7\"],[0.6,\"#e6f5d0\"],[0.7,\"#b8e186\"],[0.8,\"#7fbc41\"],[0.9,\"#4d9221\"],[1,\"#276419\"]]},\"xaxis\":{\"gridcolor\":\"white\",\"linecolor\":\"white\",\"ticks\":\"\",\"title\":{\"standoff\":15},\"zerolinecolor\":\"white\",\"automargin\":true,\"zerolinewidth\":2},\"yaxis\":{\"gridcolor\":\"white\",\"linecolor\":\"white\",\"ticks\":\"\",\"title\":{\"standoff\":15},\"zerolinecolor\":\"white\",\"automargin\":true,\"zerolinewidth\":2},\"scene\":{\"xaxis\":{\"backgroundcolor\":\"#E5ECF6\",\"gridcolor\":\"white\",\"linecolor\":\"white\",\"showbackground\":true,\"ticks\":\"\",\"zerolinecolor\":\"white\",\"gridwidth\":2},\"yaxis\":{\"backgroundcolor\":\"#E5ECF6\",\"gridcolor\":\"white\",\"linecolor\":\"white\",\"showbackground\":true,\"ticks\":\"\",\"zerolinecolor\":\"white\",\"gridwidth\":2},\"zaxis\":{\"backgroundcolor\":\"#E5ECF6\",\"gridcolor\":\"white\",\"linecolor\":\"white\",\"showbackground\":true,\"ticks\":\"\",\"zerolinecolor\":\"white\",\"gridwidth\":2}},\"shapedefaults\":{\"line\":{\"color\":\"#2a3f5f\"}},\"annotationdefaults\":{\"arrowcolor\":\"#2a3f5f\",\"arrowhead\":0,\"arrowwidth\":1},\"geo\":{\"bgcolor\":\"white\",\"landcolor\":\"#E5ECF6\",\"subunitcolor\":\"white\",\"showland\":true,\"showlakes\":true,\"lakecolor\":\"white\"},\"title\":{\"x\":0.05},\"mapbox\":{\"style\":\"light\"}}},\"xaxis\":{\"anchor\":\"y\",\"domain\":[0.0,0.48],\"title\":{\"text\":\"time\"},\"showticklabels\":true},\"yaxis\":{\"anchor\":\"x\",\"domain\":[0.0,0.26666666666666666],\"title\":{\"text\":\"ppmv\"},\"showticklabels\":true},\"xaxis2\":{\"anchor\":\"y2\",\"domain\":[0.52,1.0],\"title\":{\"text\":\"time\"},\"showticklabels\":true},\"yaxis2\":{\"anchor\":\"x2\",\"domain\":[0.0,0.26666666666666666],\"showticklabels\":true},\"xaxis3\":{\"anchor\":\"y3\",\"domain\":[0.0,0.48],\"showticklabels\":true},\"yaxis3\":{\"anchor\":\"x3\",\"domain\":[0.3666666666666667,0.6333333333333333],\"title\":{\"text\":\"ppmv\"},\"showticklabels\":true},\"xaxis4\":{\"anchor\":\"y4\",\"domain\":[0.52,1.0],\"showticklabels\":true},\"yaxis4\":{\"anchor\":\"x4\",\"domain\":[0.3666666666666667,0.6333333333333333],\"showticklabels\":true},\"xaxis5\":{\"anchor\":\"y5\",\"domain\":[0.0,0.48],\"showticklabels\":true},\"yaxis5\":{\"anchor\":\"x5\",\"domain\":[0.7333333333333334,1.0],\"title\":{\"text\":\"ppmv\"},\"showticklabels\":true},\"xaxis6\":{\"anchor\":\"y6\",\"domain\":[0.52,1.0],\"showticklabels\":true},\"yaxis6\":{\"anchor\":\"x6\",\"domain\":[0.7333333333333334,1.0],\"showticklabels\":true},\"annotations\":[{\"font\":{\"size\":14},\"showarrow\":false,\"text\":\"Germany\",\"x\":0.24,\"xanchor\":\"center\",\"xref\":\"paper\",\"y\":0.26666666666666666,\"yanchor\":\"bottom\",\"yref\":\"paper\"},{\"font\":{\"size\":14},\"showarrow\":false,\"text\":\"Finland\",\"x\":0.76,\"xanchor\":\"center\",\"xref\":\"paper\",\"y\":0.26666666666666666,\"yanchor\":\"bottom\",\"yref\":\"paper\"},{\"font\":{\"size\":14},\"showarrow\":false,\"text\":\"France\",\"x\":0.24,\"xanchor\":\"center\",\"xref\":\"paper\",\"y\":0.6333333333333333,\"yanchor\":\"bottom\",\"yref\":\"paper\"},{\"font\":{\"size\":14},\"showarrow\":false,\"text\":\"Spain\",\"x\":0.76,\"xanchor\":\"center\",\"xref\":\"paper\",\"y\":0.6333333333333333,\"yanchor\":\"bottom\",\"yref\":\"paper\"},{\"font\":{\"size\":14},\"showarrow\":false,\"text\":\"Italy\",\"x\":0.24,\"xanchor\":\"center\",\"xref\":\"paper\",\"y\":1.0,\"yanchor\":\"bottom\",\"yref\":\"paper\"},{\"font\":{\"size\":14},\"showarrow\":false,\"text\":\"Russia\",\"x\":0.76,\"xanchor\":\"center\",\"xref\":\"paper\",\"y\":1.0,\"yanchor\":\"bottom\",\"yref\":\"paper\"}],\"legend\":{\"title\":{\"text\":\"input_observations\"},\"tracegroupgap\":0},\"margin\":{\"t\":60},\"title\":{\"font\":{\"size\":19},\"text\":\"test\",\"x\":0.5},\"height\":660,\"hovermode\":\"closest\"},                        {\"responsive\": true}                    ).then(function(){\n",
       "                            \n",
       "var gd = document.getElementById('92483b8b-5cca-4c91-a2f5-05fe8eac1b83');\n",
       "var x = new MutationObserver(function (mutations, observer) {{\n",
       "        var display = window.getComputedStyle(gd).display;\n",
       "        if (!display || display === 'none') {{\n",
       "            console.log([gd, 'removed!']);\n",
       "            Plotly.purge(gd);\n",
       "            observer.disconnect();\n",
       "        }}\n",
       "}});\n",
       "\n",
       "// Listen for the removal of the full notebook cells\n",
       "var notebookContainer = gd.closest('#notebook-container');\n",
       "if (notebookContainer) {{\n",
       "    x.observe(notebookContainer, {childList: true});\n",
       "}}\n",
       "\n",
       "// Listen for the clearing of the current output cell\n",
       "var outputEl = gd.closest('.output');\n",
       "if (outputEl) {{\n",
       "    x.observe(outputEl, {childList: true});\n",
       "}}\n",
       "\n",
       "                        })                };                });            </script>        </div>"
      ]
     },
     "metadata": {},
     "output_type": "display_data"
    }
   ],
   "source": [
    "surface_satellite_yearly_plot(\"carbon_dioxide\", countries, years, months, \"test\")"
   ]
  },
  {
   "cell_type": "code",
   "execution_count": null,
   "metadata": {},
   "outputs": [],
   "source": [
    "surface_data = InversionOptimisedGreenhouseGas(\n",
    "    data_variables=\"carbon_dioxide\",\n",
    "    file_format=\"zip\",\n",
    "    quantity=\"surface_flux\",\n",
    "    input_observations=\"surface\",\n",
    "    time_aggregation=\"monthly_mean\",\n",
    "    year=years,\n",
    "    month=months,\n",
    ")\n",
    "surface_data.download()\n",
    "satellite_data = InversionOptimisedGreenhouseGas(\n",
    "    data_variables=\"carbon_dioxide\",\n",
    "    file_format=\"zip\",\n",
    "    quantity=\"surface_flux\",\n",
    "    input_observations=\"satellite\",\n",
    "    time_aggregation=\"monthly_mean\",\n",
    "    year=years,\n",
    "    month=months,\n",
    ")\n",
    "satellite_data.download()"
   ]
  },
  {
   "cell_type": "code",
   "execution_count": null,
   "metadata": {},
   "outputs": [],
   "source": [
    "# Read data as dataset\n",
    "df_surface = surface_data.read_dataset(var_name=\"flux_foss\")\n",
    "df_satellite = satellite_data.read_dataset(var_name=\"flux_foss\")"
   ]
  },
  {
   "cell_type": "code",
   "execution_count": null,
   "metadata": {},
   "outputs": [],
   "source": [
    "df_total = xr.concat([df_surface, df_satellite], dim=\"input_observations\").squeeze()\n",
    "df_total = df_total.rio.write_crs(\"EPSG:4326\")\n",
    "# Clip countries\n",
    "df_total = clip_and_concat_countries(df_total, countries)\n",
    "# Drop all values that are null over all coords, compute the mean of the remaining values over long and lat\n",
    "df_total = df_total.sortby(\"time\").mean(dim=[\"longitude\", \"latitude\"])"
   ]
  },
  {
   "cell_type": "code",
   "execution_count": null,
   "metadata": {},
   "outputs": [],
   "source": [
    "# Convert units\n",
    "da_converted = convert_units_array(df_total[\"flux_foss\"], \"carbon_dioxide\")\n",
    "da_converted.name = df_total[\"flux_foss\"].name\n",
    "unit = da_converted.attrs[\"units\"]"
   ]
  },
  {
   "cell_type": "code",
   "execution_count": null,
   "metadata": {},
   "outputs": [],
   "source": [
    "import xarray as xr, pandas as pd, numpy as np\n",
    "\n",
    "x = np.linspace(-110, -90, 5)\n",
    "y = np.linspace(23, 30, 5)\n",
    "time = pd.date_range('1990-01-01', '2100-12-01', freq='MS')\n",
    "\n",
    "da = xr.DataArray(\n",
    "    np.random.random(size=(5, 5, len(time))),\n",
    "    dims=['x', 'y', 'time'],\n",
    "    coords=[x, y, time],\n",
    "    name='temperature',\n",
    ")"
   ]
  },
  {
   "cell_type": "code",
   "execution_count": null,
   "metadata": {},
   "outputs": [],
   "source": [
    "from functools import singledispatch"
   ]
  },
  {
   "cell_type": "code",
   "execution_count": null,
   "metadata": {},
   "outputs": [],
   "source": [
    "@singledispatch\n",
    "def confidence_interval(array: list | np.ndarray) -> tuple:\n",
    "    lower, upper = sms.DescrStatsW(array).tconfint_mean()\n",
    "    return lower, np.mean(array), upper\n",
    "\n",
    "@confidence_interval.register\n",
    "def _(array: xr.DataArray, dim: str) -> xr.DataArray:\n",
    "    all_dims = list(array.dims)\n",
    "    index = all_dims.index(dim)\n",
    "    keep_dims = all_dims\n",
    "    keep_dims.remove(dim)\n",
    "    return xr.DataArray(\n",
    "        np.apply_along_axis(confidence_interval, index, array.values),\n",
    "        dims=[*keep_dims, 'ci'],\n",
    "        coords=[*[array.coords[d] for d in keep_dims], ['lower', 'mean', 'upper']]\n",
    "    )"
   ]
  },
  {
   "cell_type": "code",
   "execution_count": null,
   "metadata": {},
   "outputs": [],
   "source": [
    "confidence_interval(da, 'time')"
   ]
  },
  {
   "cell_type": "code",
   "execution_count": null,
   "metadata": {},
   "outputs": [],
   "source": []
  },
  {
   "cell_type": "code",
   "execution_count": null,
   "metadata": {},
   "outputs": [],
   "source": [
    "da_converted_agg = da_converted.resample(time='YS', keep_attrs=True).map(confidence_interval, dim='time')\n",
    "da_converted_agg.name = da_converted.name\n",
    "da_converted_agg.attrs = da_converted.attrs"
   ]
  },
  {
   "cell_type": "code",
   "execution_count": null,
   "metadata": {},
   "outputs": [],
   "source": [
    "da_converted"
   ]
  },
  {
   "cell_type": "code",
   "execution_count": null,
   "metadata": {},
   "outputs": [],
   "source": [
    "da_converted_agg"
   ]
  },
  {
   "cell_type": "code",
   "execution_count": null,
   "metadata": {},
   "outputs": [],
   "source": [
    "fig = line_with_ci_subplots(da_converted_agg.to_dataframe().unstack('ci').droplevel(axis=1, level=0).reset_index(['admin', 'input_observations']), countries, 2, unit, \"test\")\n",
    "fig.show()"
   ]
  },
  {
   "cell_type": "code",
   "execution_count": null,
   "metadata": {},
   "outputs": [],
   "source": []
  }
 ],
 "metadata": {
  "kernelspec": {
   "display_name": "atmospheric-explorer",
   "language": "python",
   "name": "python3"
  },
  "language_info": {
   "codemirror_mode": {
    "name": "ipython",
    "version": 3
   },
   "file_extension": ".py",
   "mimetype": "text/x-python",
   "name": "python",
   "nbconvert_exporter": "python",
   "pygments_lexer": "ipython3",
   "version": "3.11.0"
  },
  "orig_nbformat": 4
 },
 "nbformat": 4,
 "nbformat_minor": 2
}
