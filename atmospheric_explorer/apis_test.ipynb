{
 "cells": [
  {
   "cell_type": "code",
   "execution_count": null,
   "metadata": {},
   "outputs": [],
   "source": [
    "from atmospheric_explorer.cams_interfaces import InversionOptimisedGreenhouseGas, EAC4Instance\n",
    "from atmospheric_explorer.shapefile import ShapefilesDownloader\n",
    "from atmospheric_explorer.utils import get_local_folder\n",
    "import os\n",
    "import shutil\n",
    "import numpy as np\n",
    "import statsmodels.stats.api as sms\n",
    "import pandas as pd\n",
    "from plotly.subplots import make_subplots\n",
    "from math import ceil\n",
    "from atmospheric_explorer.plotting_apis import ghg_surface_satellite_yearly_plot\n",
    "from atmospheric_explorer.ui.interactive_map.shape_selection import ShapeSelection"
   ]
  },
  {
   "cell_type": "code",
   "execution_count": null,
   "metadata": {},
   "outputs": [],
   "source": [
    "# Remove previous data\n",
    "shutil.rmtree(os.path.join(get_local_folder(), 'data'))"
   ]
  },
  {
   "cell_type": "code",
   "execution_count": null,
   "metadata": {},
   "outputs": [],
   "source": [
    "# Remove previous data\n",
    "shutil.rmtree(os.path.join(get_local_folder(), 'shapefiles'))"
   ]
  },
  {
   "cell_type": "code",
   "execution_count": null,
   "metadata": {},
   "outputs": [],
   "source": [
    "years=[str(y) for y in range(2018, 2021)]\n",
    "months=[\n",
    "    '01', '02', '03',\n",
    "    '04', '05', '06',\n",
    "    '07', '08', '09',\n",
    "    '10', '11', '12'\n",
    "]\n",
    "countries = ['Italy']\n",
    "data_variable = 'carbon_dioxide'\n",
    "var_name = 'flux_foss'"
   ]
  },
  {
   "cell_type": "code",
   "execution_count": null,
   "metadata": {},
   "outputs": [],
   "source": [
    "shapes = ShapeSelection.from_countries_list(countries)"
   ]
  },
  {
   "cell_type": "code",
   "execution_count": null,
   "metadata": {},
   "outputs": [],
   "source": [
    "fig = ghg_surface_satellite_yearly_plot(\n",
    "    \"carbon_dioxide\",\n",
    "    [\"2020\", \"2021\", \"2022\"],\n",
    "    [\"01\", \"02\", \"03\", \"04\"],\n",
    "    \"CO2\",\n",
    "    \"flux_foss\",\n",
    "    shapes=shapes.dataframe,\n",
    "    add_satellite_observations=True\n",
    ")\n",
    "fig.show()"
   ]
  },
  {
   "cell_type": "code",
   "execution_count": null,
   "metadata": {},
   "outputs": [],
   "source": [
    "data_variable = \"total_column_nitrogen_dioxide\"\n",
    "var_name = \"tcno2\"\n",
    "countries = [\"Portugal\"]\n",
    "dates_range = \"2018-01-01/2020-01-01\"\n",
    "time_values = \"00:00\"\n",
    "title = \"Total columns N02 above Portugal (anomalies)\""
   ]
  },
  {
   "cell_type": "code",
   "execution_count": null,
   "metadata": {},
   "outputs": [],
   "source": [
    "fig = eac4_anomalies_plot(\n",
    "    data_variable,\n",
    "    var_name,\n",
    "    countries,\n",
    "    dates_range,\n",
    "    time_values,\n",
    "    title,\n",
    ")\n",
    "fig.show()"
   ]
  },
  {
   "cell_type": "code",
   "execution_count": null,
   "metadata": {},
   "outputs": [],
   "source": [
    "data_variable = 'total_column_ozone'\n",
    "var_name = 'gtco3'\n",
    "dates_range = '2020-01-01/2022-12-31'\n",
    "time_values = '00:00'\n",
    "title = 'O3 total column'"
   ]
  },
  {
   "cell_type": "code",
   "execution_count": null,
   "metadata": {},
   "outputs": [],
   "source": [
    "eac4_hovmoeller_latitude_plot(\n",
    "    data_variable,\n",
    "    var_name,\n",
    "    dates_range,\n",
    "    time_values,\n",
    "    title,\n",
    ")"
   ]
  },
  {
   "cell_type": "code",
   "execution_count": null,
   "metadata": {},
   "outputs": [],
   "source": [
    "data_variable = 'carbon_monoxide'\n",
    "var_name = 'co'\n",
    "dates_range = '2022-01-01/2022-12-31'\n",
    "time_values = '00:00'\n",
    "title = 'CO'"
   ]
  },
  {
   "cell_type": "code",
   "execution_count": null,
   "metadata": {},
   "outputs": [],
   "source": [
    "eac4_hovmoeller_levels_plot(\n",
    "    data_variable,\n",
    "    var_name,\n",
    "    dates_range,\n",
    "    time_values,\n",
    "    ['1', '10', '100'],\n",
    "    countries,\n",
    "    title,\n",
    ")"
   ]
  },
  {
   "cell_type": "code",
   "execution_count": null,
   "metadata": {},
   "outputs": [],
   "source": [
    "import plotly.express as px"
   ]
  },
  {
   "cell_type": "code",
   "execution_count": null,
   "metadata": {},
   "outputs": [],
   "source": [
    "fig = px.imshow(\n",
    "    img = [[1,2], [3,4]],\n",
    "    x = ['A', 'B'],\n",
    "    y = [1, 2],\n",
    "    text_auto=True\n",
    ")\n",
    "fig.update_yaxes(type='log')"
   ]
  },
  {
   "cell_type": "code",
   "execution_count": null,
   "metadata": {},
   "outputs": [],
   "source": [
    "from atmospheric_explorer.plotting_apis import ghg_surface_satellite_yearly_plot\n",
    "\n",
    "data_variable = 'carbon_dioxide'\n",
    "var_name = ['flux_apos_bio', 'flux_apos']\n",
    "countries = ['Italy']\n",
    "years = ['2020', '2021']\n",
    "months = ['01', '02', '03', '04']\n",
    "add_satellite_observations = False\n",
    "plot_title = 'Test'\n",
    "\n",
    "fig = ghg_surface_satellite_yearly_plot(\n",
    "    data_variable=data_variable,\n",
    "    var_name=var_name,\n",
    "    add_satellite_observations=add_satellite_observations,\n",
    "    countries=countries,\n",
    "    years=years,\n",
    "    months=months,\n",
    "    title=plot_title,\n",
    ")\n",
    "\n",
    "display(fig)"
   ]
  }
 ],
 "metadata": {
  "kernelspec": {
   "display_name": "atmospheric-explorer",
   "language": "python",
   "name": "python3"
  },
  "language_info": {
   "codemirror_mode": {
    "name": "ipython",
    "version": 3
   },
   "file_extension": ".py",
   "mimetype": "text/x-python",
   "name": "python",
   "nbconvert_exporter": "python",
   "pygments_lexer": "ipython3",
   "version": "3.11.0"
  },
  "orig_nbformat": 4
 },
 "nbformat": 4,
 "nbformat_minor": 2
}
