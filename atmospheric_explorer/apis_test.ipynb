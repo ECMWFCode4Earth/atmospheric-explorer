{
 "cells": [
  {
   "cell_type": "code",
   "execution_count": null,
   "metadata": {},
   "outputs": [],
   "source": [
    "from atmospheric_explorer.cams_interfaces import InversionOptimisedGreenhouseGas, EAC4Instance\n",
    "from atmospheric_explorer.shapefile import ShapefilesDownloader\n",
    "from atmospheric_explorer.utils import get_local_folder\n",
    "from atmospheric_explorer.units_conversion import convert_units_array\n",
    "import plotly.express as px\n",
    "import seaborn as sns\n",
    "import matplotlib.pyplot as plt\n",
    "import os\n",
    "from glob import glob\n",
    "import xarray as xr\n",
    "from datetime import datetime\n",
    "import geopandas as gpd\n",
    "from shapely.geometry import mapping\n",
    "import plotly.graph_objects as go\n",
    "import shutil\n",
    "import numpy as np\n",
    "import statsmodels.stats.api as sms\n",
    "import pandas as pd\n",
    "from plotly.subplots import make_subplots\n",
    "from math import ceil\n",
    "from atmospheric_explorer.plotting_apis import line_with_ci_subplots, clip_and_concat_countries, surface_satellite_yearly_plot\n",
    "from atmospheric_explorer.utils import hex_to_rgb\n",
    "from atmospheric_explorer.data_transformations import confidence_interval"
   ]
  },
  {
   "cell_type": "code",
   "execution_count": null,
   "metadata": {},
   "outputs": [],
   "source": [
    "# Remove previous data\n",
    "shutil.rmtree(os.path.join(get_local_folder(), 'data'))"
   ]
  },
  {
   "cell_type": "code",
   "execution_count": null,
   "metadata": {},
   "outputs": [],
   "source": [
    "# Remove previous data\n",
    "shutil.rmtree(os.path.join(get_local_folder(), 'shapefiles'))"
   ]
  },
  {
   "cell_type": "code",
   "execution_count": null,
   "metadata": {},
   "outputs": [],
   "source": [
    "years=[str(y) for y in range(2010, 2021)]\n",
    "months=[\n",
    "    '01', '02', '03',\n",
    "    '04', '05', '06',\n",
    "    '07', '08', '09',\n",
    "    '10', '11', '12'\n",
    "]\n",
    "countries = ['Italy', 'Russia', 'France', 'Spain', 'Germany', 'Finland']\n",
    "data_variable = 'carbon_dioxide'\n",
    "var_name = 'flux_foss'"
   ]
  },
  {
   "cell_type": "code",
   "execution_count": null,
   "metadata": {},
   "outputs": [],
   "source": [
    "fig = surface_satellite_yearly_plot(data_variable, countries, years, months, \"Fossil CO2 flux\", 2, var_name)\n",
    "fig.show()"
   ]
  }
 ],
 "metadata": {
  "kernelspec": {
   "display_name": "atmospheric-explorer",
   "language": "python",
   "name": "python3"
  },
  "language_info": {
   "codemirror_mode": {
    "name": "ipython",
    "version": 3
   },
   "file_extension": ".py",
   "mimetype": "text/x-python",
   "name": "python",
   "nbconvert_exporter": "python",
   "pygments_lexer": "ipython3",
   "version": "3.11.0"
  },
  "orig_nbformat": 4
 },
 "nbformat": 4,
 "nbformat_minor": 2
}
