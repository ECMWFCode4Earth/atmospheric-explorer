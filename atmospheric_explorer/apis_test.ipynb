{
 "cells": [
  {
   "cell_type": "code",
   "execution_count": 1,
   "metadata": {},
   "outputs": [
    {
     "name": "stderr",
     "output_type": "stream",
     "text": [
      "2023-08-19 18:25:16,744 INFO Loaded constants from file constants.cfg\n",
      "2023-08-19 18:25:16,744 INFO Evaluating arithmetic formulas in config\n",
      "2023-08-19 18:25:16,745 DEBUG Parsing 1\n",
      "2023-08-19 18:25:16,745 DEBUG Parsing 1\n",
      "2023-08-19 18:25:16,746 DEBUG Parsing 1\n",
      "2023-08-19 18:25:16,746 DEBUG Parsing 1\n",
      "2023-08-19 18:25:16,746 DEBUG Parsing 1\n",
      "2023-08-19 18:25:16,747 DEBUG Parsing 1\n",
      "2023-08-19 18:25:16,747 DEBUG Parsing 1\n",
      "2023-08-19 18:25:16,747 DEBUG Parsing 1\n",
      "2023-08-19 18:25:16,748 DEBUG Parsing 1\n",
      "2023-08-19 18:25:16,748 DEBUG Parsing 1\n",
      "2023-08-19 18:25:16,748 DEBUG Parsing 1\n",
      "2023-08-19 18:25:16,748 DEBUG Parsing 1\n",
      "2023-08-19 18:25:16,749 DEBUG Parsing 1\n",
      "2023-08-19 18:25:16,749 DEBUG Parsing 1\n",
      "2023-08-19 18:25:16,749 DEBUG Parsing 1\n",
      "2023-08-19 18:25:16,749 DEBUG Parsing 1\n",
      "2023-08-19 18:25:16,749 DEBUG Parsing 1\n",
      "2023-08-19 18:25:16,750 DEBUG Parsing 1\n",
      "2023-08-19 18:25:16,750 DEBUG Parsing 1\n",
      "2023-08-19 18:25:16,750 DEBUG Parsing 1\n",
      "2023-08-19 18:25:16,750 DEBUG Parsing 1\n",
      "2023-08-19 18:25:16,750 DEBUG Parsing 6.0221415e23*1e-18/(1e4*28.01e-3)\n",
      "2023-08-19 18:25:16,750 DEBUG Parsing 1\n",
      "2023-08-19 18:25:16,750 DEBUG Parsing 2004008\n",
      "2023-08-19 18:25:16,751 DEBUG Parsing 1\n",
      "2023-08-19 18:25:16,751 DEBUG Parsing 1\n",
      "2023-08-19 18:25:16,751 DEBUG Parsing 1\n",
      "2023-08-19 18:25:16,751 DEBUG Parsing 28.97 / 16.044 * 1e9\n",
      "2023-08-19 18:25:16,751 DEBUG Parsing 1\n",
      "2023-08-19 18:25:16,752 DEBUG Parsing 6.0221415e23*1e-15/(1e4*46.01e-3)\n",
      "2023-08-19 18:25:16,752 DEBUG Parsing 1\n",
      "2023-08-19 18:25:16,752 DEBUG Parsing 46698\n",
      "2023-08-19 18:25:16,752 DEBUG Parsing 1\n",
      "2023-08-19 18:25:16,752 DEBUG Parsing 1\n",
      "2023-08-19 18:25:16,753 DEBUG Parsing 939931.55923209002\n",
      "2023-08-19 18:25:16,753 DEBUG Parsing 1\n",
      "2023-08-19 18:25:16,753 DEBUG Parsing 28.97 / 28.011 * 1e9\n",
      "2023-08-19 18:25:16,753 DEBUG Parsing 1\n",
      "2023-08-19 18:25:16,753 DEBUG Parsing 1\n",
      "2023-08-19 18:25:16,754 DEBUG Parsing 1\n",
      "2023-08-19 18:25:16,754 DEBUG Parsing 1\n",
      "2023-08-19 18:25:16,754 DEBUG Parsing 28.97 / 30.03 * 1e9\n",
      "2023-08-19 18:25:16,754 DEBUG Parsing 1\n",
      "2023-08-19 18:25:16,754 DEBUG Parsing 1\n",
      "2023-08-19 18:25:16,755 DEBUG Parsing 1\n",
      "2023-08-19 18:25:16,755 DEBUG Parsing 1\n",
      "2023-08-19 18:25:16,755 DEBUG Parsing 1\n",
      "2023-08-19 18:25:16,755 DEBUG Parsing 1\n",
      "2023-08-19 18:25:16,755 DEBUG Parsing 1\n",
      "2023-08-19 18:25:16,756 DEBUG Parsing 1\n",
      "2023-08-19 18:25:16,756 DEBUG Parsing 28.97 / 46.0055 * 1e9\n",
      "2023-08-19 18:25:16,756 DEBUG Parsing 28.97 / 30.01 * 1e9\n",
      "2023-08-19 18:25:16,756 DEBUG Parsing 28.97 / 47.998 * 1e9\n",
      "2023-08-19 18:25:16,756 DEBUG Parsing 1\n",
      "2023-08-19 18:25:16,757 DEBUG Parsing 1\n",
      "2023-08-19 18:25:16,757 DEBUG Parsing 1\n",
      "2023-08-19 18:25:16,758 DEBUG Parsing 1\n",
      "2023-08-19 18:25:16,758 DEBUG Parsing 1\n",
      "2023-08-19 18:25:16,758 DEBUG Parsing 1\n",
      "2023-08-19 18:25:16,759 DEBUG Parsing 1\n",
      "2023-08-19 18:25:16,759 DEBUG Parsing 28.97 / 64.066 * 1e9\n",
      "2023-08-19 18:25:16,759 DEBUG Parsing 1\n",
      "2023-08-19 18:25:16,759 DEBUG Parsing 1\n",
      "2023-08-19 18:25:16,759 DEBUG Parsing 1\n",
      "2023-08-19 18:25:16,760 DEBUG Parsing 1\n",
      "2023-08-19 18:25:16,760 DEBUG Parsing 1\n",
      "2023-08-19 18:25:16,760 DEBUG Parsing 1\n",
      "2023-08-19 18:25:16,760 DEBUG Parsing 1\n",
      "2023-08-19 18:25:16,760 DEBUG Parsing 1\n",
      "2023-08-19 18:25:16,761 DEBUG Parsing 1\n",
      "2023-08-19 18:25:16,761 DEBUG Parsing 1\n",
      "2023-08-19 18:25:16,761 DEBUG Parsing 1\n",
      "2023-08-19 18:25:16,761 DEBUG Parsing 1\n",
      "2023-08-19 18:25:16,761 DEBUG Parsing 1\n",
      "2023-08-19 18:25:16,762 DEBUG Parsing 1\n",
      "2023-08-19 18:25:16,762 DEBUG Parsing 1\n",
      "2023-08-19 18:25:16,762 DEBUG Parsing 1\n",
      "2023-08-19 18:25:16,762 DEBUG Parsing 1\n",
      "2023-08-19 18:25:16,762 DEBUG Parsing 1\n",
      "2023-08-19 18:25:16,762 DEBUG Parsing 1\n",
      "2023-08-19 18:25:16,763 DEBUG Parsing 1\n",
      "2023-08-19 18:25:16,763 DEBUG Parsing 1\n",
      "2023-08-19 18:25:16,763 DEBUG Parsing 1\n",
      "2023-08-19 18:25:16,763 DEBUG Parsing 1\n",
      "2023-08-19 18:25:16,764 DEBUG Parsing 1\n",
      "2023-08-19 18:25:16,764 DEBUG Parsing 1\n",
      "2023-08-19 18:25:16,764 DEBUG Parsing 1\n",
      "2023-08-19 18:25:16,764 DEBUG Parsing 1\n",
      "2023-08-19 18:25:16,765 DEBUG Parsing 1\n",
      "2023-08-19 18:25:16,765 DEBUG Parsing 1\n",
      "2023-08-19 18:25:16,766 DEBUG Parsing 1\n",
      "2023-08-19 18:25:16,766 DEBUG Parsing 1\n",
      "2023-08-19 18:25:16,766 DEBUG Parsing 1\n",
      "2023-08-19 18:25:16,766 DEBUG Parsing 1\n",
      "2023-08-19 18:25:16,767 DEBUG Parsing 1\n",
      "2023-08-19 18:25:16,767 DEBUG Parsing 1\n",
      "2023-08-19 18:25:16,767 DEBUG Parsing 1\n",
      "2023-08-19 18:25:16,767 DEBUG Parsing 1\n",
      "2023-08-19 18:25:16,768 DEBUG Parsing 1\n",
      "2023-08-19 18:25:16,768 DEBUG Parsing 1\n",
      "2023-08-19 18:25:16,768 DEBUG Parsing 1\n",
      "2023-08-19 18:25:16,768 DEBUG Parsing 1\n",
      "2023-08-19 18:25:16,768 DEBUG Parsing 1\n",
      "2023-08-19 18:25:16,769 DEBUG Parsing 1\n",
      "2023-08-19 18:25:16,769 DEBUG Parsing 1\n",
      "2023-08-19 18:25:16,769 DEBUG Parsing 1\n",
      "2023-08-19 18:25:16,769 DEBUG Parsing 1\n",
      "2023-08-19 18:25:16,769 DEBUG Parsing 1\n",
      "2023-08-19 18:25:16,769 DEBUG Parsing 1\n",
      "2023-08-19 18:25:16,770 DEBUG Parsing 1\n",
      "2023-08-19 18:25:16,770 DEBUG Parsing 1\n",
      "2023-08-19 18:25:16,770 DEBUG Parsing 1\n",
      "2023-08-19 18:25:16,770 DEBUG Parsing 1\n",
      "2023-08-19 18:25:16,770 DEBUG Parsing 1\n",
      "2023-08-19 18:25:16,770 DEBUG Parsing 1\n",
      "2023-08-19 18:25:16,771 DEBUG Parsing 1\n",
      "2023-08-19 18:25:16,771 DEBUG Parsing 1\n",
      "2023-08-19 18:25:16,772 DEBUG Parsing 1\n",
      "2023-08-19 18:25:16,772 DEBUG Parsing 1\n",
      "2023-08-19 18:25:16,772 DEBUG Parsing 1\n",
      "2023-08-19 18:25:16,773 DEBUG Parsing 1\n",
      "2023-08-19 18:25:16,773 DEBUG Parsing 1\n",
      "2023-08-19 18:25:16,774 DEBUG Parsing 1\n",
      "2023-08-19 18:25:16,774 DEBUG Parsing 1\n",
      "2023-08-19 18:25:16,775 DEBUG Parsing 1\n",
      "2023-08-19 18:25:16,775 DEBUG Parsing 1\n",
      "2023-08-19 18:25:16,775 DEBUG Parsing 1\n",
      "2023-08-19 18:25:16,776 DEBUG Parsing 28.97 / 16.044 * 1e9\n",
      "2023-08-19 18:25:16,776 DEBUG Parsing 28.97 / 16.044 * 1e9\n",
      "2023-08-19 18:25:16,776 DEBUG Parsing 1\n",
      "2023-08-19 18:25:16,776 DEBUG Parsing 1\n",
      "2023-08-19 18:25:16,777 DEBUG Parsing 1\n",
      "2023-08-19 18:25:16,777 DEBUG Parsing 1\n",
      "2023-08-19 18:25:16,777 DEBUG Parsing 1\n",
      "2023-08-19 18:25:16,777 DEBUG Parsing 1\n",
      "2023-08-19 18:25:16,778 DEBUG Parsing 1\n",
      "2023-08-19 18:25:16,778 DEBUG Parsing 1\n",
      "2023-08-19 18:25:16,778 DEBUG Parsing 1\n",
      "2023-08-19 18:25:16,779 DEBUG Parsing 1\n",
      "2023-08-19 18:25:16,779 DEBUG Parsing 1\n",
      "2023-08-19 18:25:16,779 DEBUG Parsing 1\n",
      "2023-08-19 18:25:16,779 DEBUG Parsing 1\n",
      "2023-08-19 18:25:16,780 DEBUG Parsing 1\n",
      "2023-08-19 18:25:16,780 DEBUG Parsing 1\n",
      "2023-08-19 18:25:16,780 DEBUG Parsing 1\n",
      "2023-08-19 18:25:16,780 DEBUG Parsing 1\n",
      "2023-08-19 18:25:16,781 DEBUG Parsing 1\n",
      "2023-08-19 18:25:16,781 DEBUG Parsing 1\n",
      "2023-08-19 18:25:16,781 DEBUG Parsing 1\n",
      "2023-08-19 18:25:16,781 DEBUG Parsing 1\n",
      "2023-08-19 18:25:16,782 DEBUG Parsing 1\n",
      "2023-08-19 18:25:16,782 DEBUG Parsing 1\n",
      "2023-08-19 18:25:16,782 DEBUG Parsing 1\n",
      "2023-08-19 18:25:16,782 DEBUG Parsing 1\n",
      "2023-08-19 18:25:16,783 DEBUG Parsing 1\n",
      "2023-08-19 18:25:16,783 DEBUG Parsing 1\n",
      "2023-08-19 18:25:16,783 DEBUG Parsing 1\n",
      "2023-08-19 18:25:16,783 DEBUG Parsing 1\n",
      "2023-08-19 18:25:16,784 INFO Finished loading constants from file\n",
      "2023-08-19 18:25:17.458 WARNING streamlit.runtime.caching.cache_data_api: No runtime found, using MemoryCacheStorageManager\n"
     ]
    }
   ],
   "source": [
    "from atmospheric_explorer.cams_interfaces import InversionOptimisedGreenhouseGas, EAC4Instance\n",
    "from atmospheric_explorer.shapefile import ShapefilesDownloader\n",
    "from atmospheric_explorer.utils import get_local_folder\n",
    "from atmospheric_explorer.units_conversion import convert_units_array\n",
    "import plotly.express as px\n",
    "import seaborn as sns\n",
    "import matplotlib.pyplot as plt\n",
    "import os\n",
    "from glob import glob\n",
    "import xarray as xr\n",
    "from datetime import datetime\n",
    "import geopandas as gpd\n",
    "from shapely.geometry import mapping\n",
    "import plotly.graph_objects as go\n",
    "import shutil\n",
    "import numpy as np\n",
    "import statsmodels.stats.api as sms\n",
    "import pandas as pd\n",
    "from plotly.subplots import make_subplots\n",
    "from math import ceil\n",
    "from atmospheric_explorer.plotting_apis import ghg_surface_satellite_yearly_plot\n",
    "from atmospheric_explorer.ui.interactive_map.shape_selection import ShapeSelection"
   ]
  },
  {
   "cell_type": "code",
   "execution_count": 2,
   "metadata": {},
   "outputs": [],
   "source": [
    "# Remove previous data\n",
    "shutil.rmtree(os.path.join(get_local_folder(), 'data'))"
   ]
  },
  {
   "cell_type": "code",
   "execution_count": 3,
   "metadata": {},
   "outputs": [],
   "source": [
    "# Remove previous data\n",
    "shutil.rmtree(os.path.join(get_local_folder(), 'shapefiles'))"
   ]
  },
  {
   "cell_type": "code",
   "execution_count": 4,
   "metadata": {},
   "outputs": [],
   "source": [
    "years=[str(y) for y in range(2018, 2021)]\n",
    "months=[\n",
    "    '01', '02', '03',\n",
    "    '04', '05', '06',\n",
    "    '07', '08', '09',\n",
    "    '10', '11', '12'\n",
    "]\n",
    "countries = ['Italy']\n",
    "data_variable = 'carbon_dioxide'\n",
    "var_name = 'flux_foss'"
   ]
  },
  {
   "cell_type": "code",
   "execution_count": 5,
   "metadata": {},
   "outputs": [
    {
     "name": "stderr",
     "output_type": "stream",
     "text": [
      "2023-08-19 18:25:19.050 \n",
      "  \u001b[33m\u001b[1mWarning:\u001b[0m to view this Streamlit app on a browser, run it with the following\n",
      "  command:\n",
      "\n",
      "    streamlit run /home/luigi/miniconda3/envs/atmospheric-explorer/lib/python3.11/site-packages/ipykernel_launcher.py [ARGUMENTS]\n",
      "2023-08-19 18:25:19.050 No runtime found, using MemoryCacheStorageManager\n",
      "2023-08-19 18:25:19,051 DEBUG Created ShapefilesDownloader object with attributes\n",
      "dst_dir: /home/luigi/.atmospheric_explorer/shapefiles\n",
      "resolution: 10m\n",
      "info_type: admin\n",
      "depth: 0\n",
      "instance: countries\n",
      "\n",
      "2023-08-19 18:25:19,051 INFO Created folder /home/luigi/.atmospheric_explorer/shapefiles to save shapefiles\n",
      "2023-08-19 18:25:19,052 INFO Shapefile not found, downloading it from Natural Earth Data\n",
      "2023-08-19 18:25:19,052 INFO Downloading shapefiles from https://www.naturalearthdata.com/http//www.naturalearthdata.com/download/10m/cultural/ne_10m_admin_0_countries.zip\n",
      "2023-08-19 18:25:20,759 INFO Shapefiles downloaded to file /home/luigi/.atmospheric_explorer/shapefiles/ne_10m_admin_0_countries.zip\n",
      "2023-08-19 18:25:20,797 INFO Shapefile extracted to /home/luigi/.atmospheric_explorer/shapefiles/ne_10m_admin_0_countries\n",
      "2023-08-19 18:25:20,798 INFO Removed file /home/luigi/.atmospheric_explorer/shapefiles/ne_10m_admin_0_countries.zip\n",
      "2023-08-19 18:25:20,798 DEBUG Reading /home/luigi/.atmospheric_explorer/shapefiles/ne_10m_admin_0_countries/ne_10m_admin_0_countries.shp as dataframe\n"
     ]
    }
   ],
   "source": [
    "shapes = ShapeSelection.from_countries_list(countries)"
   ]
  },
  {
   "cell_type": "code",
   "execution_count": 6,
   "metadata": {},
   "outputs": [
    {
     "name": "stderr",
     "output_type": "stream",
     "text": [
      "2023-08-19 18:25:21,954 DEBUG     ghg_surface_satellite_yearly_plot called with arguments\n",
      "    data_variable: carbon_dioxide\n",
      "    shapes:     label                                           geometry\n",
      "90  Italy  MULTIPOLYGON (((7.02208 45.92526, 7.06694 45.8...\n",
      "    years: ['2018', '2019', '2020']\n",
      "    months: ['01', '02', '03', '04', '05', '06', '07', '08', '09', '10', '11', '12']\n",
      "    title: Fossil CO2 flux\n",
      "    var_name: flux_foss\n",
      "\n",
      "2023-08-19 18:25:21,954 INFO Created folder /home/luigi/.atmospheric_explorer/data/global_greenhouse_gas_inversion\n",
      "2023-08-19 18:25:21,955 INFO Created folder /home/luigi/.atmospheric_explorer/data/global_greenhouse_gas_inversion/data_1\n",
      "2023-08-19 18:25:22,147 INFO Welcome to the CDS\n",
      "2023-08-19 18:25:22,149 INFO Sending request to https://ads.atmosphere.copernicus.eu/api/v2/resources/cams-global-greenhouse-gas-inversion\n",
      "2023-08-19 18:25:22,218 INFO Request is queued\n",
      "2023-08-19 18:25:23,278 INFO Request is completed\n",
      "2023-08-19 18:25:23,278 INFO Downloading https://download-0003-ads-clone.copernicus-climate.eu/cache-compute-0003/cache/data9/dataset-cams-global-greenhouse-gas-inversion-530edd4d-dda8-4b86-a0bb-d0bedaee3612.zip to /home/luigi/.atmospheric_explorer/data/global_greenhouse_gas_inversion/data_1/data_1.zip (7.5M)\n",
      "2023-08-19 18:25:24,970 INFO Download rate 4.4M/s   \n",
      "2023-08-19 18:25:25,030 INFO Finished downloading file /home/luigi/.atmospheric_explorer/data/global_greenhouse_gas_inversion/data_1/data_1.zip\n",
      "2023-08-19 18:25:25,094 INFO Extracted file /home/luigi/.atmospheric_explorer/data/global_greenhouse_gas_inversion/data_1/data_1.zip to folder /home/luigi/.atmospheric_explorer/data/global_greenhouse_gas_inversion/data_1\n",
      "2023-08-19 18:25:25,094 INFO Updated file_full_path to wildcard path /home/luigi/.atmospheric_explorer/data/global_greenhouse_gas_inversion/data_1/*.nc\n",
      "2023-08-19 18:25:25,095 INFO Removed /home/luigi/.atmospheric_explorer/data/global_greenhouse_gas_inversion/data_1/data_1.zip\n",
      "2023-08-19 18:25:25,096 DEBUG Reading files using xarray.open_mfdataset\n",
      "2023-08-19 18:25:25,298 DEBUG Reading files iteratively\n"
     ]
    },
    {
     "data": {
      "application/vnd.plotly.v1+json": {
       "config": {
        "plotlyServerURL": "https://plot.ly"
       },
       "data": [
        {
         "hovertemplate": "color=surface<br>Year=%{x}<br>value=%{y}<extra></extra>",
         "legendgroup": "surface",
         "line": {
          "color": "#1F77B4",
          "dash": "solid"
         },
         "marker": {
          "symbol": "circle"
         },
         "mode": "lines+markers",
         "name": "surface",
         "orientation": "v",
         "showlegend": true,
         "type": "scatter",
         "x": [
          "2018-01-01T00:00:00",
          "2019-01-01T00:00:00",
          "2020-01-01T00:00:00"
         ],
         "xaxis": "x",
         "y": [
          11439442048.365612,
          11223836894.41675,
          9902399831.677065
         ],
         "yaxis": "y"
        },
        {
         "fillcolor": "rgba(31,119,180, 0.2)",
         "hoverlabel": {
          "bgcolor": "rgba(31,119,180, 0.2)"
         },
         "hovertemplate": "Lower: %{y}<extra></extra>",
         "legendgroup": "CI surface",
         "line": {
          "color": "rgba(31,119,180, 0)"
         },
         "mode": "lines+markers",
         "name": "CI surface",
         "showlegend": false,
         "type": "scatter",
         "x": [
          "2018-01-01T00:00:00",
          "2019-01-01T00:00:00",
          "2020-01-01T00:00:00"
         ],
         "xaxis": "x",
         "y": [
          10505258692.776703,
          10566325191.692566,
          8876764608.523304
         ],
         "yaxis": "y"
        },
        {
         "fill": "tonexty",
         "fillcolor": "rgba(31,119,180, 0.2)",
         "hoverinfo": "name+text+y",
         "hoverlabel": {
          "bgcolor": "rgba(31,119,180, 0.2)"
         },
         "hovertemplate": "Upper: %{y}<extra></extra>",
         "legendgroup": "CI surface",
         "line": {
          "color": "rgba(31,119,180, 0)"
         },
         "mode": "lines+markers",
         "name": "CI surface",
         "showlegend": true,
         "type": "scatter",
         "x": [
          "2018-01-01T00:00:00",
          "2019-01-01T00:00:00",
          "2020-01-01T00:00:00"
         ],
         "xaxis": "x",
         "y": [
          12373625403.954517,
          11881348597.140934,
          10928035054.830826
         ],
         "yaxis": "y"
        }
       ],
       "layout": {
        "height": 300,
        "hovermode": "closest",
        "legend": {
         "title": {
          "text": "color"
         },
         "tracegroupgap": 0
        },
        "margin": {
         "t": 60
        },
        "template": {
         "data": {
          "candlestick": [
           {
            "decreasing": {
             "line": {
              "color": "#000033"
             }
            },
            "increasing": {
             "line": {
              "color": "#000032"
             }
            },
            "type": "candlestick"
           }
          ],
          "contour": [
           {
            "colorscale": [
             [
              0,
              "#000011"
             ],
             [
              0.1111111111111111,
              "#000012"
             ],
             [
              0.2222222222222222,
              "#000013"
             ],
             [
              0.3333333333333333,
              "#000014"
             ],
             [
              0.4444444444444444,
              "#000015"
             ],
             [
              0.5555555555555556,
              "#000016"
             ],
             [
              0.6666666666666666,
              "#000017"
             ],
             [
              0.7777777777777778,
              "#000018"
             ],
             [
              0.8888888888888888,
              "#000019"
             ],
             [
              1,
              "#000020"
             ]
            ],
            "type": "contour"
           }
          ],
          "contourcarpet": [
           {
            "colorscale": [
             [
              0,
              "#000011"
             ],
             [
              0.1111111111111111,
              "#000012"
             ],
             [
              0.2222222222222222,
              "#000013"
             ],
             [
              0.3333333333333333,
              "#000014"
             ],
             [
              0.4444444444444444,
              "#000015"
             ],
             [
              0.5555555555555556,
              "#000016"
             ],
             [
              0.6666666666666666,
              "#000017"
             ],
             [
              0.7777777777777778,
              "#000018"
             ],
             [
              0.8888888888888888,
              "#000019"
             ],
             [
              1,
              "#000020"
             ]
            ],
            "type": "contourcarpet"
           }
          ],
          "heatmap": [
           {
            "colorscale": [
             [
              0,
              "#000011"
             ],
             [
              0.1111111111111111,
              "#000012"
             ],
             [
              0.2222222222222222,
              "#000013"
             ],
             [
              0.3333333333333333,
              "#000014"
             ],
             [
              0.4444444444444444,
              "#000015"
             ],
             [
              0.5555555555555556,
              "#000016"
             ],
             [
              0.6666666666666666,
              "#000017"
             ],
             [
              0.7777777777777778,
              "#000018"
             ],
             [
              0.8888888888888888,
              "#000019"
             ],
             [
              1,
              "#000020"
             ]
            ],
            "type": "heatmap"
           }
          ],
          "histogram2d": [
           {
            "colorscale": [
             [
              0,
              "#000011"
             ],
             [
              0.1111111111111111,
              "#000012"
             ],
             [
              0.2222222222222222,
              "#000013"
             ],
             [
              0.3333333333333333,
              "#000014"
             ],
             [
              0.4444444444444444,
              "#000015"
             ],
             [
              0.5555555555555556,
              "#000016"
             ],
             [
              0.6666666666666666,
              "#000017"
             ],
             [
              0.7777777777777778,
              "#000018"
             ],
             [
              0.8888888888888888,
              "#000019"
             ],
             [
              1,
              "#000020"
             ]
            ],
            "type": "histogram2d"
           }
          ],
          "icicle": [
           {
            "textfont": {
             "color": "white"
            },
            "type": "icicle"
           }
          ],
          "sankey": [
           {
            "textfont": {
             "color": "#000036"
            },
            "type": "sankey"
           }
          ],
          "scatter": [
           {
            "marker": {
             "line": {
              "width": 0
             }
            },
            "type": "scatter"
           }
          ],
          "table": [
           {
            "cells": {
             "fill": {
              "color": "#000038"
             },
             "font": {
              "color": "#000037"
             },
             "line": {
              "color": "#000039"
             }
            },
            "header": {
             "fill": {
              "color": "#000040"
             },
             "font": {
              "color": "#000036"
             },
             "line": {
              "color": "#000039"
             }
            },
            "type": "table"
           }
          ],
          "waterfall": [
           {
            "connector": {
             "line": {
              "color": "#000036",
              "width": 2
             }
            },
            "decreasing": {
             "marker": {
              "color": "#000033"
             }
            },
            "increasing": {
             "marker": {
              "color": "#000032"
             }
            },
            "totals": {
             "marker": {
              "color": "#000034"
             }
            },
            "type": "waterfall"
           }
          ]
         },
         "layout": {
          "coloraxis": {
           "colorscale": [
            [
             0,
             "#000011"
            ],
            [
             0.1111111111111111,
             "#000012"
            ],
            [
             0.2222222222222222,
             "#000013"
            ],
            [
             0.3333333333333333,
             "#000014"
            ],
            [
             0.4444444444444444,
             "#000015"
            ],
            [
             0.5555555555555556,
             "#000016"
            ],
            [
             0.6666666666666666,
             "#000017"
            ],
            [
             0.7777777777777778,
             "#000018"
            ],
            [
             0.8888888888888888,
             "#000019"
            ],
            [
             1,
             "#000020"
            ]
           ]
          },
          "colorscale": {
           "diverging": [
            [
             0,
             "#000021"
            ],
            [
             0.1,
             "#000022"
            ],
            [
             0.2,
             "#000023"
            ],
            [
             0.3,
             "#000024"
            ],
            [
             0.4,
             "#000025"
            ],
            [
             0.5,
             "#000026"
            ],
            [
             0.6,
             "#000027"
            ],
            [
             0.7,
             "#000028"
            ],
            [
             0.8,
             "#000029"
            ],
            [
             0.9,
             "#000030"
            ],
            [
             1,
             "#000031"
            ]
           ],
           "sequential": [
            [
             0,
             "#000011"
            ],
            [
             0.1111111111111111,
             "#000012"
            ],
            [
             0.2222222222222222,
             "#000013"
            ],
            [
             0.3333333333333333,
             "#000014"
            ],
            [
             0.4444444444444444,
             "#000015"
            ],
            [
             0.5555555555555556,
             "#000016"
            ],
            [
             0.6666666666666666,
             "#000017"
            ],
            [
             0.7777777777777778,
             "#000018"
            ],
            [
             0.8888888888888888,
             "#000019"
            ],
            [
             1,
             "#000020"
            ]
           ],
           "sequentialminus": [
            [
             0,
             "#000011"
            ],
            [
             0.1111111111111111,
             "#000012"
            ],
            [
             0.2222222222222222,
             "#000013"
            ],
            [
             0.3333333333333333,
             "#000014"
            ],
            [
             0.4444444444444444,
             "#000015"
            ],
            [
             0.5555555555555556,
             "#000016"
            ],
            [
             0.6666666666666666,
             "#000017"
            ],
            [
             0.7777777777777778,
             "#000018"
            ],
            [
             0.8888888888888888,
             "#000019"
            ],
            [
             1,
             "#000020"
            ]
           ]
          },
          "colorway": [
           "#000001",
           "#000002",
           "#000003",
           "#000004",
           "#000005",
           "#000006",
           "#000007",
           "#000008",
           "#000009",
           "#000010"
          ]
         }
        },
        "title": {
         "font": {
          "size": 19
         },
         "text": "Fossil CO2 flux",
         "x": 0.5,
         "xanchor": "center",
         "xref": "paper"
        },
        "xaxis": {
         "anchor": "y",
         "domain": [
          0,
          1
         ],
         "showticklabels": true,
         "title": {
          "text": "Year"
         }
        },
        "yaxis": {
         "anchor": "x",
         "domain": [
          0,
          1
         ],
         "showticklabels": true,
         "title": {
          "text": "kgC year-1"
         }
        }
       }
      }
     },
     "metadata": {},
     "output_type": "display_data"
    }
   ],
   "source": [
    "fig = ghg_surface_satellite_yearly_plot(\n",
    "    data_variable,\n",
    "    years,\n",
    "    months,\n",
    "    \"Fossil CO2 flux\",\n",
    "    var_name,\n",
    "    shapes=shapes.dataframe,\n",
    "    add_satellite_observations=False\n",
    ")\n",
    "fig.show()"
   ]
  },
  {
   "cell_type": "code",
   "execution_count": null,
   "metadata": {},
   "outputs": [],
   "source": [
    "data_variable = \"total_column_nitrogen_dioxide\"\n",
    "var_name = \"tcno2\"\n",
    "countries = [\"Portugal\"]\n",
    "dates_range = \"2018-01-01/2020-01-01\"\n",
    "time_values = \"00:00\"\n",
    "title = \"Total columns N02 above Portugal (anomalies)\""
   ]
  },
  {
   "cell_type": "code",
   "execution_count": null,
   "metadata": {},
   "outputs": [],
   "source": [
    "fig = eac4_anomalies_plot(\n",
    "    data_variable,\n",
    "    var_name,\n",
    "    countries,\n",
    "    dates_range,\n",
    "    time_values,\n",
    "    title,\n",
    ")\n",
    "fig.show()"
   ]
  },
  {
   "cell_type": "code",
   "execution_count": null,
   "metadata": {},
   "outputs": [],
   "source": [
    "data_variable = 'total_column_ozone'\n",
    "var_name = 'gtco3'\n",
    "dates_range = '2020-01-01/2022-12-31'\n",
    "time_values = '00:00'\n",
    "title = 'O3 total column'"
   ]
  },
  {
   "cell_type": "code",
   "execution_count": null,
   "metadata": {},
   "outputs": [],
   "source": [
    "eac4_hovmoeller_latitude_plot(\n",
    "    data_variable,\n",
    "    var_name,\n",
    "    dates_range,\n",
    "    time_values,\n",
    "    title,\n",
    ")"
   ]
  },
  {
   "cell_type": "code",
   "execution_count": null,
   "metadata": {},
   "outputs": [],
   "source": [
    "data_variable = 'carbon_monoxide'\n",
    "var_name = 'co'\n",
    "dates_range = '2022-01-01/2022-12-31'\n",
    "time_values = '00:00'\n",
    "title = 'CO'"
   ]
  },
  {
   "cell_type": "code",
   "execution_count": null,
   "metadata": {},
   "outputs": [],
   "source": [
    "eac4_hovmoeller_levels_plot(\n",
    "    data_variable,\n",
    "    var_name,\n",
    "    dates_range,\n",
    "    time_values,\n",
    "    ['1', '10', '100'],\n",
    "    countries,\n",
    "    title,\n",
    ")"
   ]
  },
  {
   "cell_type": "code",
   "execution_count": null,
   "metadata": {},
   "outputs": [],
   "source": [
    "import plotly.express as px"
   ]
  },
  {
   "cell_type": "code",
   "execution_count": null,
   "metadata": {},
   "outputs": [],
   "source": [
    "fig = px.imshow(\n",
    "    img = [[1,2], [3,4]],\n",
    "    x = ['A', 'B'],\n",
    "    y = [1, 2],\n",
    "    text_auto=True\n",
    ")\n",
    "fig.update_yaxes(type='log')"
   ]
  },
  {
   "cell_type": "code",
   "execution_count": null,
   "metadata": {},
   "outputs": [],
   "source": [
    "from atmospheric_explorer.plotting_apis import ghg_surface_satellite_yearly_plot\n",
    "\n",
    "data_variable = 'carbon_dioxide'\n",
    "var_name = ['flux_apos_bio', 'flux_apos']\n",
    "countries = ['Italy']\n",
    "years = ['2020', '2021']\n",
    "months = ['01', '02', '03', '04']\n",
    "add_satellite_observations = False\n",
    "plot_title = 'Test'\n",
    "\n",
    "fig = ghg_surface_satellite_yearly_plot(\n",
    "    data_variable=data_variable,\n",
    "    var_name=var_name,\n",
    "    add_satellite_observations=add_satellite_observations,\n",
    "    countries=countries,\n",
    "    years=years,\n",
    "    months=months,\n",
    "    title=plot_title,\n",
    ")\n",
    "\n",
    "display(fig)"
   ]
  }
 ],
 "metadata": {
  "kernelspec": {
   "display_name": "atmospheric-explorer",
   "language": "python",
   "name": "python3"
  },
  "language_info": {
   "codemirror_mode": {
    "name": "ipython",
    "version": 3
   },
   "file_extension": ".py",
   "mimetype": "text/x-python",
   "name": "python",
   "nbconvert_exporter": "python",
   "pygments_lexer": "ipython3",
   "version": "3.11.0"
  },
  "orig_nbformat": 4
 },
 "nbformat": 4,
 "nbformat_minor": 2
}
