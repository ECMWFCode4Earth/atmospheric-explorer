{
 "cells": [
  {
   "cell_type": "code",
   "execution_count": 1,
   "metadata": {},
   "outputs": [
    {
     "name": "stderr",
     "output_type": "stream",
     "text": [
      "INFO|units_conversion: Loaded constants from file constants.cfg\n",
      "INFO|units_conversion: Evaluating arithmetic formulas in config\n",
      "DEBUG|units_conversion: Parsing 1\n",
      "DEBUG|units_conversion: Parsing 1\n",
      "DEBUG|units_conversion: Parsing 1\n",
      "DEBUG|units_conversion: Parsing 1\n",
      "DEBUG|units_conversion: Parsing 1\n",
      "DEBUG|units_conversion: Parsing 1\n",
      "DEBUG|units_conversion: Parsing 1\n",
      "DEBUG|units_conversion: Parsing 1\n",
      "DEBUG|units_conversion: Parsing 1\n",
      "DEBUG|units_conversion: Parsing 1\n",
      "DEBUG|units_conversion: Parsing 1\n",
      "DEBUG|units_conversion: Parsing 1\n",
      "DEBUG|units_conversion: Parsing 1\n",
      "DEBUG|units_conversion: Parsing 1\n",
      "DEBUG|units_conversion: Parsing 1\n",
      "DEBUG|units_conversion: Parsing 1\n",
      "DEBUG|units_conversion: Parsing 1\n",
      "DEBUG|units_conversion: Parsing 1\n",
      "DEBUG|units_conversion: Parsing 1\n",
      "DEBUG|units_conversion: Parsing 1\n",
      "DEBUG|units_conversion: Parsing 1\n",
      "DEBUG|units_conversion: Parsing 6.0221415e23*1e-18/(1e4*28.01e-3)\n",
      "DEBUG|units_conversion: Parsing 1\n",
      "DEBUG|units_conversion: Parsing 2004008\n",
      "DEBUG|units_conversion: Parsing 1\n",
      "DEBUG|units_conversion: Parsing 1\n",
      "DEBUG|units_conversion: Parsing 1\n",
      "DEBUG|units_conversion: Parsing 28.97 / 16.044 * 1e9\n",
      "DEBUG|units_conversion: Parsing 1\n",
      "DEBUG|units_conversion: Parsing 6.0221415e23*1e-15/(1e4*46.01e-3)\n",
      "DEBUG|units_conversion: Parsing 1\n",
      "DEBUG|units_conversion: Parsing 46698\n",
      "DEBUG|units_conversion: Parsing 1\n",
      "DEBUG|units_conversion: Parsing 1\n",
      "DEBUG|units_conversion: Parsing 939931.55923209002\n",
      "DEBUG|units_conversion: Parsing 1\n",
      "DEBUG|units_conversion: Parsing 28.97 / 28.011 * 1e9\n",
      "DEBUG|units_conversion: Parsing 1\n",
      "DEBUG|units_conversion: Parsing 1\n",
      "DEBUG|units_conversion: Parsing 1\n",
      "DEBUG|units_conversion: Parsing 1\n",
      "DEBUG|units_conversion: Parsing 28.97 / 30.03 * 1e9\n",
      "DEBUG|units_conversion: Parsing 1\n",
      "DEBUG|units_conversion: Parsing 1\n",
      "DEBUG|units_conversion: Parsing 1\n",
      "DEBUG|units_conversion: Parsing 1\n",
      "DEBUG|units_conversion: Parsing 1\n",
      "DEBUG|units_conversion: Parsing 1\n",
      "DEBUG|units_conversion: Parsing 1\n",
      "DEBUG|units_conversion: Parsing 1\n",
      "DEBUG|units_conversion: Parsing 28.97 / 46.0055 * 1e9\n",
      "DEBUG|units_conversion: Parsing 28.97 / 30.01 * 1e9\n",
      "DEBUG|units_conversion: Parsing 28.97 / 47.998 * 1e9\n",
      "DEBUG|units_conversion: Parsing 1\n",
      "DEBUG|units_conversion: Parsing 1\n",
      "DEBUG|units_conversion: Parsing 1\n",
      "DEBUG|units_conversion: Parsing 1\n",
      "DEBUG|units_conversion: Parsing 1\n",
      "DEBUG|units_conversion: Parsing 1\n",
      "DEBUG|units_conversion: Parsing 1\n",
      "DEBUG|units_conversion: Parsing 28.97 / 64.066 * 1e9\n",
      "DEBUG|units_conversion: Parsing 1\n",
      "DEBUG|units_conversion: Parsing 1\n",
      "DEBUG|units_conversion: Parsing 1\n",
      "DEBUG|units_conversion: Parsing 1\n",
      "DEBUG|units_conversion: Parsing 1\n",
      "DEBUG|units_conversion: Parsing 1\n",
      "DEBUG|units_conversion: Parsing 1\n",
      "DEBUG|units_conversion: Parsing 1\n",
      "DEBUG|units_conversion: Parsing 1\n",
      "DEBUG|units_conversion: Parsing 1\n",
      "DEBUG|units_conversion: Parsing 1\n",
      "DEBUG|units_conversion: Parsing 1\n",
      "DEBUG|units_conversion: Parsing 1\n",
      "DEBUG|units_conversion: Parsing 1\n",
      "DEBUG|units_conversion: Parsing 1\n",
      "DEBUG|units_conversion: Parsing 1\n",
      "DEBUG|units_conversion: Parsing 1\n",
      "DEBUG|units_conversion: Parsing 1\n",
      "DEBUG|units_conversion: Parsing 1\n",
      "DEBUG|units_conversion: Parsing 1\n",
      "DEBUG|units_conversion: Parsing 1\n",
      "DEBUG|units_conversion: Parsing 1\n",
      "DEBUG|units_conversion: Parsing 1\n",
      "DEBUG|units_conversion: Parsing 1\n",
      "DEBUG|units_conversion: Parsing 1\n",
      "DEBUG|units_conversion: Parsing 1\n",
      "DEBUG|units_conversion: Parsing 1\n",
      "DEBUG|units_conversion: Parsing 1\n",
      "DEBUG|units_conversion: Parsing 1\n",
      "DEBUG|units_conversion: Parsing 1\n",
      "DEBUG|units_conversion: Parsing 1\n",
      "DEBUG|units_conversion: Parsing 1\n",
      "DEBUG|units_conversion: Parsing 1\n",
      "DEBUG|units_conversion: Parsing 1\n",
      "DEBUG|units_conversion: Parsing 1\n",
      "DEBUG|units_conversion: Parsing 1\n",
      "DEBUG|units_conversion: Parsing 1\n",
      "DEBUG|units_conversion: Parsing 1\n",
      "DEBUG|units_conversion: Parsing 1\n",
      "DEBUG|units_conversion: Parsing 1\n",
      "DEBUG|units_conversion: Parsing 1\n",
      "DEBUG|units_conversion: Parsing 1\n",
      "DEBUG|units_conversion: Parsing 1\n",
      "DEBUG|units_conversion: Parsing 1\n",
      "DEBUG|units_conversion: Parsing 1\n",
      "DEBUG|units_conversion: Parsing 1\n",
      "DEBUG|units_conversion: Parsing 1\n",
      "DEBUG|units_conversion: Parsing 1\n",
      "DEBUG|units_conversion: Parsing 1\n",
      "DEBUG|units_conversion: Parsing 1\n",
      "DEBUG|units_conversion: Parsing 1\n",
      "DEBUG|units_conversion: Parsing 1\n",
      "DEBUG|units_conversion: Parsing 1\n",
      "DEBUG|units_conversion: Parsing 1\n",
      "DEBUG|units_conversion: Parsing 1\n",
      "DEBUG|units_conversion: Parsing 1\n",
      "DEBUG|units_conversion: Parsing 1\n",
      "DEBUG|units_conversion: Parsing 1\n",
      "DEBUG|units_conversion: Parsing 1\n",
      "DEBUG|units_conversion: Parsing 1\n",
      "DEBUG|units_conversion: Parsing 1\n",
      "DEBUG|units_conversion: Parsing 1\n",
      "DEBUG|units_conversion: Parsing 1\n",
      "DEBUG|units_conversion: Parsing 1\n",
      "DEBUG|units_conversion: Parsing 1\n",
      "DEBUG|units_conversion: Parsing 1\n",
      "DEBUG|units_conversion: Parsing 28.97 / 16.044 * 1e9\n",
      "DEBUG|units_conversion: Parsing 28.97 / 16.044 * 1e9\n",
      "DEBUG|units_conversion: Parsing 1\n",
      "DEBUG|units_conversion: Parsing 1\n",
      "DEBUG|units_conversion: Parsing 1\n",
      "DEBUG|units_conversion: Parsing 1\n",
      "DEBUG|units_conversion: Parsing 1\n",
      "DEBUG|units_conversion: Parsing 1\n",
      "DEBUG|units_conversion: Parsing 1\n",
      "DEBUG|units_conversion: Parsing 1\n",
      "DEBUG|units_conversion: Parsing 1\n",
      "DEBUG|units_conversion: Parsing 1\n",
      "DEBUG|units_conversion: Parsing 1\n",
      "DEBUG|units_conversion: Parsing 1\n",
      "DEBUG|units_conversion: Parsing 1\n",
      "DEBUG|units_conversion: Parsing 1\n",
      "DEBUG|units_conversion: Parsing 1\n",
      "DEBUG|units_conversion: Parsing 1\n",
      "DEBUG|units_conversion: Parsing 1\n",
      "DEBUG|units_conversion: Parsing 1\n",
      "DEBUG|units_conversion: Parsing 1\n",
      "DEBUG|units_conversion: Parsing 1\n",
      "DEBUG|units_conversion: Parsing 1\n",
      "DEBUG|units_conversion: Parsing 1\n",
      "DEBUG|units_conversion: Parsing 1\n",
      "DEBUG|units_conversion: Parsing 1\n",
      "DEBUG|units_conversion: Parsing 1\n",
      "DEBUG|units_conversion: Parsing 1\n",
      "DEBUG|units_conversion: Parsing 28.97 / 44.01 * 1e6\n",
      "DEBUG|units_conversion: Parsing 28.97 / 16.044 * 1e9\n",
      "DEBUG|units_conversion: Parsing 28.97 / 46.1 * 1e9\n",
      "INFO|units_conversion: Finished loading constants from file\n"
     ]
    }
   ],
   "source": [
    "from atmospheric_explorer.cams_interfaces import InversionOptimisedGreenhouseGas\n",
    "from atmospheric_explorer.shapefile import ShapefilesDownloader\n",
    "from atmospheric_explorer.utils import get_local_folder\n",
    "from atmospheric_explorer.units_conversion import convert_units_array\n",
    "import plotly.express as px\n",
    "import seaborn as sns\n",
    "import matplotlib.pyplot as plt\n",
    "import os\n",
    "from glob import glob\n",
    "import xarray as xr\n",
    "from datetime import datetime\n",
    "import geopandas as gpd\n",
    "from shapely.geometry import mapping\n",
    "import rioxarray\n",
    "import plotly.graph_objects as go\n",
    "import shutil\n",
    "import numpy as np\n",
    "import statsmodels.stats.api as sms\n",
    "import pandas as pd"
   ]
  },
  {
   "cell_type": "code",
   "execution_count": 2,
   "metadata": {},
   "outputs": [],
   "source": [
    "# Remove previous data\n",
    "shutil.rmtree(os.path.join(get_local_folder(), 'data'))"
   ]
  },
  {
   "cell_type": "code",
   "execution_count": 3,
   "metadata": {},
   "outputs": [],
   "source": [
    "# Remove previous data\n",
    "shutil.rmtree(os.path.join(get_local_folder(), 'shapefiles'))"
   ]
  },
  {
   "cell_type": "code",
   "execution_count": 4,
   "metadata": {},
   "outputs": [],
   "source": [
    "#function to move from 0+360 to -180+180 long\n",
    "def ds_swaplon(ds):\n",
    "    return ds.assign_coords(longitude=(((ds.longitude + 180) % 360) - 180)).sortby('longitude')"
   ]
  },
  {
   "cell_type": "code",
   "execution_count": 5,
   "metadata": {},
   "outputs": [
    {
     "name": "stderr",
     "output_type": "stream",
     "text": [
      "INFO|cams_interfaces: Created folder C:\\Users\\User\\AppData\\Local\\AtmosphericExplorer\\data\\global_greenhouse_gas_inversion\n",
      "INFO|cams_interfaces: Created folder C:\\Users\\User\\AppData\\Local\\AtmosphericExplorer\\data\\global_greenhouse_gas_inversion\\data_1\n",
      "INFO|cams_interfaces: Finished downloading file C:\\Users\\User\\AppData\\Local\\AtmosphericExplorer\\data\\global_greenhouse_gas_inversion\\data_1\\data_1.zip\n",
      "INFO|cams_interfaces: Extracted file C:\\Users\\User\\AppData\\Local\\AtmosphericExplorer\\data\\global_greenhouse_gas_inversion\\data_1\\data_1.zip to folder C:\\Users\\User\\AppData\\Local\\AtmosphericExplorer\\data\\global_greenhouse_gas_inversion\\data_1\n",
      "INFO|cams_interfaces: Updated file_full_path to wildcard path C:\\Users\\User\\AppData\\Local\\AtmosphericExplorer\\data\\global_greenhouse_gas_inversion\\data_1\\*.nc\n",
      "INFO|cams_interfaces: Removed C:\\Users\\User\\AppData\\Local\\AtmosphericExplorer\\data\\global_greenhouse_gas_inversion\\data_1\\data_1.zip\n"
     ]
    }
   ],
   "source": [
    "manager = InversionOptimisedGreenhouseGas(\n",
    "    data_variables='carbon_dioxide',\n",
    "    file_format='zip',\n",
    "    quantity='surface_flux',\n",
    "    input_observations='surface',\n",
    "    time_aggregation='monthly_mean',\n",
    "    year=[\n",
    "        '1985', '1986', '1987',\n",
    "        '1988', '1989', '1990',\n",
    "        '1991', '1992', '1993',\n",
    "        '1994', '1995', '1996',\n",
    "        '1997', '1998', '1999',\n",
    "        '2000', '2001', '2002',\n",
    "        '2003', '2004', '2005',\n",
    "        '2006', '2007', '2008',\n",
    "        '2009', '2010', '2011',\n",
    "        '2012', '2013', '2014',\n",
    "        '2015', '2016', '2017',\n",
    "        '2018', '2019', '2020'\n",
    "    ],\n",
    "    month=[\n",
    "        '01', '02', '03',\n",
    "        '04', '05', '06',\n",
    "        '07', '08', '09',\n",
    "        '10', '11', '12'\n",
    "    ]\n",
    ")\n",
    "manager.download()"
   ]
  },
  {
   "cell_type": "code",
   "execution_count": 6,
   "metadata": {},
   "outputs": [],
   "source": [
    "#sorted: ordina in ordine alfabetico  - globe: dentro è una lista (casting=viene 'converitito' in una lista)\n",
    "files = sorted(glob(manager.file_full_path))"
   ]
  },
  {
   "cell_type": "code",
   "execution_count": 7,
   "metadata": {},
   "outputs": [],
   "source": [
    "#cos'è un genereatore:\n",
    "gen=(i for i in range(10))\n",
    "#lista invece:\n",
    "lista=[i for i in range(10)]\n",
    "\n",
    "#come si scrive la lista [] o il generatore () si chiama list comprehension: permette di definire l'oggetto semplicemente con le parentesi"
   ]
  },
  {
   "cell_type": "code",
   "execution_count": 8,
   "metadata": {},
   "outputs": [
    {
     "name": "stdout",
     "output_type": "stream",
     "text": [
      "0\n",
      "1\n",
      "2\n",
      "3\n",
      "4\n",
      "5\n",
      "6\n",
      "7\n",
      "8\n",
      "9\n"
     ]
    }
   ],
   "source": [
    "#il generatore se lo runni dura solo il tempo del print (se cambi gen con list non è cosi invece) - se lo runni di nuovo non contiene valori\n",
    "for v in gen:\n",
    "    print(v)"
   ]
  },
  {
   "cell_type": "code",
   "execution_count": 9,
   "metadata": {},
   "outputs": [
    {
     "data": {
      "text/plain": [
       "<generator object <genexpr> at 0x00000263E98F98A0>"
      ]
     },
     "execution_count": 9,
     "metadata": {},
     "output_type": "execute_result"
    }
   ],
   "source": [
    "gen"
   ]
  },
  {
   "cell_type": "code",
   "execution_count": 10,
   "metadata": {},
   "outputs": [],
   "source": [
    "# Create dataframe with first file\n",
    "mm = datetime.strptime(files[0].split('_')[-1].split('.')[0], '%Y%m')\n",
    "df = xr.open_dataset(files[0])[['flux_foss']]\n",
    "df = df.expand_dims({'time': [mm]})\n",
    "# Merge remaining files\n",
    "for file in files[1:]:\n",
    "    mm = datetime.strptime(file.split('_')[-1].split('.')[0], '%Y%m')\n",
    "    temp = xr.open_dataset(file)[['flux_foss']]\n",
    "    temp = temp.expand_dims({'time': [mm]})\n",
    "    df = xr.combine_by_coords([df, temp])"
   ]
  },
  {
   "cell_type": "code",
   "execution_count": 11,
   "metadata": {},
   "outputs": [],
   "source": [
    "df = df.rio.write_crs('EPSG:4326')"
   ]
  },
  {
   "cell_type": "code",
   "execution_count": 12,
   "metadata": {},
   "outputs": [
    {
     "name": "stderr",
     "output_type": "stream",
     "text": [
      "DEBUG|shapefile: Created ShapefilesDownloader object with attributes\n",
      "dst_dir: C:\\Users\\User\\AppData\\Local\\AtmosphericExplorer\\shapefiles\n",
      "resolution: 10m\n",
      "info_type: admin\n",
      "depth: 0\n",
      "instance: countries_ita\n",
      "\n",
      "INFO|shapefile: Created folder C:\\Users\\User\\AppData\\Local\\AtmosphericExplorer\\shapefiles to save shapefiles\n",
      "INFO|shapefile: Downloading shapefiles from https://www.naturalearthdata.com/http//www.naturalearthdata.com/download/10m/cultural/ne_10m_admin_0_countries_ita.zip\n",
      "INFO|shapefile: Shapefiles downloaded to file C:\\Users\\User\\AppData\\Local\\AtmosphericExplorer\\shapefiles\\ne_10m_admin_0_countries_ita.zip\n",
      "INFO|shapefile: Shapefile extracted to C:\\Users\\User\\AppData\\Local\\AtmosphericExplorer\\shapefiles\\ne_10m_admin_0_countries_ita\n",
      "INFO|shapefile: Removed file C:\\Users\\User\\AppData\\Local\\AtmosphericExplorer\\shapefiles\\ne_10m_admin_0_countries_ita.zip\n"
     ]
    }
   ],
   "source": [
    "sh_down = ShapefilesDownloader(\n",
    "    resolution='10m',\n",
    "    instance='countries_ita'\n",
    ")\n",
    "sh_down.download_shapefile()"
   ]
  },
  {
   "cell_type": "code",
   "execution_count": 13,
   "metadata": {},
   "outputs": [],
   "source": [
    "sh = gpd.read_file(sh_down.shapefile_full_path, crs='EPSG:4326')"
   ]
  },
  {
   "cell_type": "code",
   "execution_count": 14,
   "metadata": {},
   "outputs": [],
   "source": [
    "#all_touched=True questo parametro include tutti i pixel toccati dal poligono definito, se False include solo i pixel il cui centro è incluso nel poligono\n",
    "#approvato all_touched=True\n",
    "df_clipped = df.rio.clip(sh[sh['ADMIN'] == 'Italy'].geometry.apply(mapping), sh.crs, drop=True, all_touched=True)[['flux_foss']]"
   ]
  },
  {
   "cell_type": "code",
   "execution_count": 15,
   "metadata": {},
   "outputs": [
    {
     "data": {
      "text/plain": [
       "<matplotlib.collections.QuadMesh at 0x263f50d7990>"
      ]
     },
     "execution_count": 15,
     "metadata": {},
     "output_type": "execute_result"
    },
    {
     "data": {
      "image/png": "[encoded data removed]",
      "text/plain": [
       "<Figure size 640x480 with 2 Axes>"
      ]
     },
     "metadata": {},
     "output_type": "display_data"
    }
   ],
   "source": [
    "df_clipped['flux_foss'][0].plot()"
   ]
  },
  {
   "cell_type": "code",
   "execution_count": 16,
   "metadata": {},
   "outputs": [],
   "source": [
    "# Drop all values that are null over all coords, compute the mean of the remining values over long and lat\n",
    "df_clipped = df_clipped.where(~df_clipped['flux_foss'].isnull(), drop=True).sortby('time').mean(dim=['longitude', 'latitude'])"
   ]
  },
  {
   "cell_type": "code",
   "execution_count": 23,
   "metadata": {},
   "outputs": [],
   "source": [
    "da_converted=convert_units_array(df_clipped['flux_foss'], \"carbon_dioxide\")"
   ]
  },
  {
   "cell_type": "code",
   "execution_count": 24,
   "metadata": {},
   "outputs": [
    {
     "data": {
      "text/plain": [
       "<Axes: xlabel='year'>"
      ]
     },
     "execution_count": 24,
     "metadata": {},
     "output_type": "execute_result"
    },
    {
     "data": {
      "image/png": "[encoded data removed]",
      "text/plain": [
       "<Figure size 640x480 with 1 Axes>"
      ]
     },
     "metadata": {},
     "output_type": "display_data"
    }
   ],
   "source": [
    "# Cool but not interactive\n",
    "sns.lineplot(\n",
    "    y=da_converted.values,\n",
    "    x=da_converted.coords['time.year']\n",
    ")"
   ]
  },
  {
   "cell_type": "code",
   "execution_count": 29,
   "metadata": {},
   "outputs": [
    {
     "data": {
      "text/html": [
       "<div>\n",
       "<style scoped>\n",
       "    .dataframe tbody tr th:only-of-type {\n",
       "        vertical-align: middle;\n",
       "    }\n",
       "\n",
       "    .dataframe tbody tr th {\n",
       "        vertical-align: top;\n",
       "    }\n",
       "\n",
       "    .dataframe thead th {\n",
       "        text-align: right;\n",
       "    }\n",
       "</style>\n",
       "<table border=\"1\" class=\"dataframe\">\n",
       "  <thead>\n",
       "    <tr style=\"text-align: right;\">\n",
       "      <th></th>\n",
       "      <th>flux_foss</th>\n",
       "    </tr>\n",
       "    <tr>\n",
       "      <th>time</th>\n",
       "      <th></th>\n",
       "    </tr>\n",
       "  </thead>\n",
       "  <tbody>\n",
       "    <tr>\n",
       "      <th>1985-01-01</th>\n",
       "      <td>7160.248899</td>\n",
       "    </tr>\n",
       "    <tr>\n",
       "      <th>1985-02-01</th>\n",
       "      <td>6226.864074</td>\n",
       "    </tr>\n",
       "    <tr>\n",
       "      <th>1985-03-01</th>\n",
       "      <td>6526.292828</td>\n",
       "    </tr>\n",
       "    <tr>\n",
       "      <th>1985-04-01</th>\n",
       "      <td>5981.680660</td>\n",
       "    </tr>\n",
       "    <tr>\n",
       "      <th>1985-05-01</th>\n",
       "      <td>5714.589633</td>\n",
       "    </tr>\n",
       "    <tr>\n",
       "      <th>...</th>\n",
       "      <td>...</td>\n",
       "    </tr>\n",
       "    <tr>\n",
       "      <th>2020-08-01</th>\n",
       "      <td>5293.708418</td>\n",
       "    </tr>\n",
       "    <tr>\n",
       "      <th>2020-09-01</th>\n",
       "      <td>5331.323236</td>\n",
       "    </tr>\n",
       "    <tr>\n",
       "      <th>2020-10-01</th>\n",
       "      <td>5373.784094</td>\n",
       "    </tr>\n",
       "    <tr>\n",
       "      <th>2020-11-01</th>\n",
       "      <td>5751.818516</td>\n",
       "    </tr>\n",
       "    <tr>\n",
       "      <th>2020-12-01</th>\n",
       "      <td>6331.936626</td>\n",
       "    </tr>\n",
       "  </tbody>\n",
       "</table>\n",
       "<p>432 rows × 1 columns</p>\n",
       "</div>"
      ],
      "text/plain": [
       "              flux_foss\n",
       "time                   \n",
       "1985-01-01  7160.248899\n",
       "1985-02-01  6226.864074\n",
       "1985-03-01  6526.292828\n",
       "1985-04-01  5981.680660\n",
       "1985-05-01  5714.589633\n",
       "...                 ...\n",
       "2020-08-01  5293.708418\n",
       "2020-09-01  5331.323236\n",
       "2020-10-01  5373.784094\n",
       "2020-11-01  5751.818516\n",
       "2020-12-01  6331.936626\n",
       "\n",
       "[432 rows x 1 columns]"
      ]
     },
     "execution_count": 29,
     "metadata": {},
     "output_type": "execute_result"
    }
   ],
   "source": [
    "pd.DataFrame(da_converted.to_pandas(), columns=[\"flux_foss\"])"
   ]
  },
  {
   "cell_type": "code",
   "execution_count": 35,
   "metadata": {},
   "outputs": [],
   "source": [
    "# Xarray doesn't cover all pandas functionalities, we need to convert it to a pandas dataframe\n",
    "unit=da_converted.attrs[\"units\"]\n",
    "df_pandas = pd.DataFrame(da_converted.to_pandas(), columns=[\"flux_foss\"]).reset_index()\n",
    "df_pandas['year'] = df_pandas['time'].dt.year\n",
    "df_pandas = df_pandas.groupby('year').agg(mean=('flux_foss', 'mean'), ci=('flux_foss', lambda d: sms.DescrStatsW(d).tconfint_mean()))\n",
    "df_pandas[['lower', 'upper']] = pd.DataFrame(df_pandas['ci'].to_list(), index=df_pandas.index)"
   ]
  },
  {
   "cell_type": "code",
   "execution_count": 40,
   "metadata": {},
   "outputs": [
    {
     "data": {
      "application/vnd.plotly.v1+json": {
       "config": {
        "plotlyServerURL": "https://plot.ly"
       },
       "data": [
        {
         "fill": "toself",
         "fillcolor": "rgba(0,100,200,0.2)",
         "line": {
          "color": "rgba(0,100,200,0.2)"
         },
         "mode": "lines",
         "showlegend": false,
         "type": "scatter",
         "x": [
          1985,
          1986,
          1987,
          1988,
          1989,
          1990,
          1991,
          1992,
          1993,
          1994,
          1995,
          1996,
          1997,
          1998,
          1999,
          2000,
          2001,
          2002,
          2003,
          2004,
          2005,
          2006,
          2007,
          2008,
          2009,
          2010,
          2011,
          2012,
          2013,
          2014,
          2015,
          2016,
          2017,
          2018,
          2019,
          2020,
          2020,
          2019,
          2018,
          2017,
          2016,
          2015,
          2014,
          2013,
          2012,
          2011,
          2010,
          2009,
          2008,
          2007,
          2006,
          2005,
          2004,
          2003,
          2002,
          2001,
          2000,
          1999,
          1998,
          1997,
          1996,
          1995,
          1994,
          1993,
          1992,
          1991,
          1990,
          1989,
          1988,
          1987,
          1986,
          1985
         ],
         "y": [
          6461.97316168142,
          6423.376460367493,
          6668.125883163182,
          6771.540636793297,
          7055.983267961672,
          7594.2648333720335,
          7545.55869713702,
          7485.993606370233,
          7371.080905890095,
          7272.774907462651,
          7654.796426272611,
          7655.706864045344,
          7755.6915981762795,
          7963.146542015869,
          8058.919832562915,
          8136.8272596742245,
          8205.14898215319,
          8318.487807216443,
          8638.235098006448,
          8764.29528260241,
          8818.287886385891,
          8754.837916206761,
          8692.22574611393,
          8574.594422368818,
          7729.093737402317,
          7983.506052112316,
          7751.532947011119,
          7454.63137143973,
          7010.475758132162,
          6639.936740223251,
          6831.831938256803,
          6830.222337626147,
          6817.237461261536,
          6716.660540650547,
          6444.033853295109,
          5926.789769090474,
          4812.062263367021,
          5727.954073259853,
          5700.920449140084,
          5772.916258220906,
          5793.536942966929,
          5824.9245780080355,
          5682.2474916576175,
          5964.693208472206,
          6325.909481308011,
          6595.141978248488,
          6774.8475819205505,
          6579.415055405859,
          7293.619445016036,
          7422.151827595035,
          7479.151891583239,
          7524.361162454611,
          7490.6901764402055,
          7401.269333387181,
          7150.334807356843,
          7050.1122301189525,
          6979.404943848545,
          6938.441838068446,
          6875.548979734303,
          6708.294484077776,
          6618.0189001349145,
          6634.325753226876,
          6315.470165862941,
          6392.549426494744,
          6494.588885491415,
          6554.077297344599,
          6612.8446079066725,
          6158.565143450152,
          5931.693216068879,
          5854.176700859713,
          5648.472328725074,
          5668.7281373343985
         ]
        },
        {
         "line": {
          "color": "rgb(0,100,200)"
         },
         "mode": "lines",
         "name": "fossile flux",
         "type": "scatter",
         "x": [
          1985,
          1986,
          1987,
          1988,
          1989,
          1990,
          1991,
          1992,
          1993,
          1994,
          1995,
          1996,
          1997,
          1998,
          1999,
          2000,
          2001,
          2002,
          2003,
          2004,
          2005,
          2006,
          2007,
          2008,
          2009,
          2010,
          2011,
          2012,
          2013,
          2014,
          2015,
          2016,
          2017,
          2018,
          2019,
          2020
         ],
         "y": [
          6065.350649507909,
          6035.924394546281,
          6261.1512920114465,
          6351.616926431087,
          6607.274205705911,
          7103.554720639352,
          7049.81799724081,
          6990.2912459308245,
          6881.815166192419,
          6794.122536662796,
          7144.561089749744,
          7136.862882090131,
          7231.993041127028,
          7419.347760875086,
          7498.68083531568,
          7558.116101761385,
          7627.630606136071,
          7734.411307286643,
          8019.7522156968125,
          8127.492729521308,
          8171.324524420251,
          8116.994903895,
          8057.188786854483,
          7934.1069336924265,
          7154.254396404088,
          7379.176817016432,
          7173.337462629804,
          6890.270426373871,
          6487.584483302185,
          6161.092115940434,
          6328.3782581324185,
          6311.879640296538,
          6295.076859741222,
          6208.7904948953155,
          6085.993963277481,
          5369.426016228748
         ]
        }
       ],
       "layout": {
        "template": {
         "data": {
          "bar": [
           {
            "error_x": {
             "color": "#2a3f5f"
            },
            "error_y": {
             "color": "#2a3f5f"
            },
            "marker": {
             "line": {
              "color": "#E5ECF6",
              "width": 0.5
             },
             "pattern": {
              "fillmode": "overlay",
              "size": 10,
              "solidity": 0.2
             }
            },
            "type": "bar"
           }
          ],
          "barpolar": [
           {
            "marker": {
             "line": {
              "color": "#E5ECF6",
              "width": 0.5
             },
             "pattern": {
              "fillmode": "overlay",
              "size": 10,
              "solidity": 0.2
             }
            },
            "type": "barpolar"
           }
          ],
          "carpet": [
           {
            "aaxis": {
             "endlinecolor": "#2a3f5f",
             "gridcolor": "white",
             "linecolor": "white",
             "minorgridcolor": "white",
             "startlinecolor": "#2a3f5f"
            },
            "baxis": {
             "endlinecolor": "#2a3f5f",
             "gridcolor": "white",
             "linecolor": "white",
             "minorgridcolor": "white",
             "startlinecolor": "#2a3f5f"
            },
            "type": "carpet"
           }
          ],
          "choropleth": [
           {
            "colorbar": {
             "outlinewidth": 0,
             "ticks": ""
            },
            "type": "choropleth"
           }
          ],
          "contour": [
           {
            "colorbar": {
             "outlinewidth": 0,
             "ticks": ""
            },
            "colorscale": [
             [
              0,
              "#0d0887"
             ],
             [
              0.1111111111111111,
              "#46039f"
             ],
             [
              0.2222222222222222,
              "#7201a8"
             ],
             [
              0.3333333333333333,
              "#9c179e"
             ],
             [
              0.4444444444444444,
              "#bd3786"
             ],
             [
              0.5555555555555556,
              "#d8576b"
             ],
             [
              0.6666666666666666,
              "#ed7953"
             ],
             [
              0.7777777777777778,
              "#fb9f3a"
             ],
             [
              0.8888888888888888,
              "#fdca26"
             ],
             [
              1,
              "#f0f921"
             ]
            ],
            "type": "contour"
           }
          ],
          "contourcarpet": [
           {
            "colorbar": {
             "outlinewidth": 0,
             "ticks": ""
            },
            "type": "contourcarpet"
           }
          ],
          "heatmap": [
           {
            "colorbar": {
             "outlinewidth": 0,
             "ticks": ""
            },
            "colorscale": [
             [
              0,
              "#0d0887"
             ],
             [
              0.1111111111111111,
              "#46039f"
             ],
             [
              0.2222222222222222,
              "#7201a8"
             ],
             [
              0.3333333333333333,
              "#9c179e"
             ],
             [
              0.4444444444444444,
              "#bd3786"
             ],
             [
              0.5555555555555556,
              "#d8576b"
             ],
             [
              0.6666666666666666,
              "#ed7953"
             ],
             [
              0.7777777777777778,
              "#fb9f3a"
             ],
             [
              0.8888888888888888,
              "#fdca26"
             ],
             [
              1,
              "#f0f921"
             ]
            ],
            "type": "heatmap"
           }
          ],
          "heatmapgl": [
           {
            "colorbar": {
             "outlinewidth": 0,
             "ticks": ""
            },
            "colorscale": [
             [
              0,
              "#0d0887"
             ],
             [
              0.1111111111111111,
              "#46039f"
             ],
             [
              0.2222222222222222,
              "#7201a8"
             ],
             [
              0.3333333333333333,
              "#9c179e"
             ],
             [
              0.4444444444444444,
              "#bd3786"
             ],
             [
              0.5555555555555556,
              "#d8576b"
             ],
             [
              0.6666666666666666,
              "#ed7953"
             ],
             [
              0.7777777777777778,
              "#fb9f3a"
             ],
             [
              0.8888888888888888,
              "#fdca26"
             ],
             [
              1,
              "#f0f921"
             ]
            ],
            "type": "heatmapgl"
           }
          ],
          "histogram": [
           {
            "marker": {
             "pattern": {
              "fillmode": "overlay",
              "size": 10,
              "solidity": 0.2
             }
            },
            "type": "histogram"
           }
          ],
          "histogram2d": [
           {
            "colorbar": {
             "outlinewidth": 0,
             "ticks": ""
            },
            "colorscale": [
             [
              0,
              "#0d0887"
             ],
             [
              0.1111111111111111,
              "#46039f"
             ],
             [
              0.2222222222222222,
              "#7201a8"
             ],
             [
              0.3333333333333333,
              "#9c179e"
             ],
             [
              0.4444444444444444,
              "#bd3786"
             ],
             [
              0.5555555555555556,
              "#d8576b"
             ],
             [
              0.6666666666666666,
              "#ed7953"
             ],
             [
              0.7777777777777778,
              "#fb9f3a"
             ],
             [
              0.8888888888888888,
              "#fdca26"
             ],
             [
              1,
              "#f0f921"
             ]
            ],
            "type": "histogram2d"
           }
          ],
          "histogram2dcontour": [
           {
            "colorbar": {
             "outlinewidth": 0,
             "ticks": ""
            },
            "colorscale": [
             [
              0,
              "#0d0887"
             ],
             [
              0.1111111111111111,
              "#46039f"
             ],
             [
              0.2222222222222222,
              "#7201a8"
             ],
             [
              0.3333333333333333,
              "#9c179e"
             ],
             [
              0.4444444444444444,
              "#bd3786"
             ],
             [
              0.5555555555555556,
              "#d8576b"
             ],
             [
              0.6666666666666666,
              "#ed7953"
             ],
             [
              0.7777777777777778,
              "#fb9f3a"
             ],
             [
              0.8888888888888888,
              "#fdca26"
             ],
             [
              1,
              "#f0f921"
             ]
            ],
            "type": "histogram2dcontour"
           }
          ],
          "mesh3d": [
           {
            "colorbar": {
             "outlinewidth": 0,
             "ticks": ""
            },
            "type": "mesh3d"
           }
          ],
          "parcoords": [
           {
            "line": {
             "colorbar": {
              "outlinewidth": 0,
              "ticks": ""
             }
            },
            "type": "parcoords"
           }
          ],
          "pie": [
           {
            "automargin": true,
            "type": "pie"
           }
          ],
          "scatter": [
           {
            "fillpattern": {
             "fillmode": "overlay",
             "size": 10,
             "solidity": 0.2
            },
            "type": "scatter"
           }
          ],
          "scatter3d": [
           {
            "line": {
             "colorbar": {
              "outlinewidth": 0,
              "ticks": ""
             }
            },
            "marker": {
             "colorbar": {
              "outlinewidth": 0,
              "ticks": ""
             }
            },
            "type": "scatter3d"
           }
          ],
          "scattercarpet": [
           {
            "marker": {
             "colorbar": {
              "outlinewidth": 0,
              "ticks": ""
             }
            },
            "type": "scattercarpet"
           }
          ],
          "scattergeo": [
           {
            "marker": {
             "colorbar": {
              "outlinewidth": 0,
              "ticks": ""
             }
            },
            "type": "scattergeo"
           }
          ],
          "scattergl": [
           {
            "marker": {
             "colorbar": {
              "outlinewidth": 0,
              "ticks": ""
             }
            },
            "type": "scattergl"
           }
          ],
          "scattermapbox": [
           {
            "marker": {
             "colorbar": {
              "outlinewidth": 0,
              "ticks": ""
             }
            },
            "type": "scattermapbox"
           }
          ],
          "scatterpolar": [
           {
            "marker": {
             "colorbar": {
              "outlinewidth": 0,
              "ticks": ""
             }
            },
            "type": "scatterpolar"
           }
          ],
          "scatterpolargl": [
           {
            "marker": {
             "colorbar": {
              "outlinewidth": 0,
              "ticks": ""
             }
            },
            "type": "scatterpolargl"
           }
          ],
          "scatterternary": [
           {
            "marker": {
             "colorbar": {
              "outlinewidth": 0,
              "ticks": ""
             }
            },
            "type": "scatterternary"
           }
          ],
          "surface": [
           {
            "colorbar": {
             "outlinewidth": 0,
             "ticks": ""
            },
            "colorscale": [
             [
              0,
              "#0d0887"
             ],
             [
              0.1111111111111111,
              "#46039f"
             ],
             [
              0.2222222222222222,
              "#7201a8"
             ],
             [
              0.3333333333333333,
              "#9c179e"
             ],
             [
              0.4444444444444444,
              "#bd3786"
             ],
             [
              0.5555555555555556,
              "#d8576b"
             ],
             [
              0.6666666666666666,
              "#ed7953"
             ],
             [
              0.7777777777777778,
              "#fb9f3a"
             ],
             [
              0.8888888888888888,
              "#fdca26"
             ],
             [
              1,
              "#f0f921"
             ]
            ],
            "type": "surface"
           }
          ],
          "table": [
           {
            "cells": {
             "fill": {
              "color": "#EBF0F8"
             },
             "line": {
              "color": "white"
             }
            },
            "header": {
             "fill": {
              "color": "#C8D4E3"
             },
             "line": {
              "color": "white"
             }
            },
            "type": "table"
           }
          ]
         },
         "layout": {
          "annotationdefaults": {
           "arrowcolor": "#2a3f5f",
           "arrowhead": 0,
           "arrowwidth": 1
          },
          "autotypenumbers": "strict",
          "coloraxis": {
           "colorbar": {
            "outlinewidth": 0,
            "ticks": ""
           }
          },
          "colorscale": {
           "diverging": [
            [
             0,
             "#8e0152"
            ],
            [
             0.1,
             "#c51b7d"
            ],
            [
             0.2,
             "#de77ae"
            ],
            [
             0.3,
             "#f1b6da"
            ],
            [
             0.4,
             "#fde0ef"
            ],
            [
             0.5,
             "#f7f7f7"
            ],
            [
             0.6,
             "#e6f5d0"
            ],
            [
             0.7,
             "#b8e186"
            ],
            [
             0.8,
             "#7fbc41"
            ],
            [
             0.9,
             "#4d9221"
            ],
            [
             1,
             "#276419"
            ]
           ],
           "sequential": [
            [
             0,
             "#0d0887"
            ],
            [
             0.1111111111111111,
             "#46039f"
            ],
            [
             0.2222222222222222,
             "#7201a8"
            ],
            [
             0.3333333333333333,
             "#9c179e"
            ],
            [
             0.4444444444444444,
             "#bd3786"
            ],
            [
             0.5555555555555556,
             "#d8576b"
            ],
            [
             0.6666666666666666,
             "#ed7953"
            ],
            [
             0.7777777777777778,
             "#fb9f3a"
            ],
            [
             0.8888888888888888,
             "#fdca26"
            ],
            [
             1,
             "#f0f921"
            ]
           ],
           "sequentialminus": [
            [
             0,
             "#0d0887"
            ],
            [
             0.1111111111111111,
             "#46039f"
            ],
            [
             0.2222222222222222,
             "#7201a8"
            ],
            [
             0.3333333333333333,
             "#9c179e"
            ],
            [
             0.4444444444444444,
             "#bd3786"
            ],
            [
             0.5555555555555556,
             "#d8576b"
            ],
            [
             0.6666666666666666,
             "#ed7953"
            ],
            [
             0.7777777777777778,
             "#fb9f3a"
            ],
            [
             0.8888888888888888,
             "#fdca26"
            ],
            [
             1,
             "#f0f921"
            ]
           ]
          },
          "colorway": [
           "#636efa",
           "#EF553B",
           "#00cc96",
           "#ab63fa",
           "#FFA15A",
           "#19d3f3",
           "#FF6692",
           "#B6E880",
           "#FF97FF",
           "#FECB52"
          ],
          "font": {
           "color": "#2a3f5f"
          },
          "geo": {
           "bgcolor": "white",
           "lakecolor": "white",
           "landcolor": "#E5ECF6",
           "showlakes": true,
           "showland": true,
           "subunitcolor": "white"
          },
          "hoverlabel": {
           "align": "left"
          },
          "hovermode": "closest",
          "mapbox": {
           "style": "light"
          },
          "paper_bgcolor": "white",
          "plot_bgcolor": "#E5ECF6",
          "polar": {
           "angularaxis": {
            "gridcolor": "white",
            "linecolor": "white",
            "ticks": ""
           },
           "bgcolor": "#E5ECF6",
           "radialaxis": {
            "gridcolor": "white",
            "linecolor": "white",
            "ticks": ""
           }
          },
          "scene": {
           "xaxis": {
            "backgroundcolor": "#E5ECF6",
            "gridcolor": "white",
            "gridwidth": 2,
            "linecolor": "white",
            "showbackground": true,
            "ticks": "",
            "zerolinecolor": "white"
           },
           "yaxis": {
            "backgroundcolor": "#E5ECF6",
            "gridcolor": "white",
            "gridwidth": 2,
            "linecolor": "white",
            "showbackground": true,
            "ticks": "",
            "zerolinecolor": "white"
           },
           "zaxis": {
            "backgroundcolor": "#E5ECF6",
            "gridcolor": "white",
            "gridwidth": 2,
            "linecolor": "white",
            "showbackground": true,
            "ticks": "",
            "zerolinecolor": "white"
           }
          },
          "shapedefaults": {
           "line": {
            "color": "#2a3f5f"
           }
          },
          "ternary": {
           "aaxis": {
            "gridcolor": "white",
            "linecolor": "white",
            "ticks": ""
           },
           "baxis": {
            "gridcolor": "white",
            "linecolor": "white",
            "ticks": ""
           },
           "bgcolor": "#E5ECF6",
           "caxis": {
            "gridcolor": "white",
            "linecolor": "white",
            "ticks": ""
           }
          },
          "title": {
           "x": 0.05
          },
          "xaxis": {
           "automargin": true,
           "gridcolor": "white",
           "linecolor": "white",
           "ticks": "",
           "title": {
            "standoff": 15
           },
           "zerolinecolor": "white",
           "zerolinewidth": 2
          },
          "yaxis": {
           "automargin": true,
           "gridcolor": "white",
           "linecolor": "white",
           "ticks": "",
           "title": {
            "standoff": 15
           },
           "zerolinecolor": "white",
           "zerolinewidth": 2
          }
         }
        },
        "title": {
         "automargin": true,
         "font": {
          "size": 19
         },
         "text": "Fossile fluxes in Italy",
         "x": 0.45,
         "y": 0.85,
         "yref": "container"
        },
        "xaxis": {
         "title": {
          "text": "years"
         }
        },
        "yaxis": {
         "title": {
          "text": "ppmv"
         }
        }
       }
      }
     },
     "metadata": {},
     "output_type": "display_data"
    }
   ],
   "source": [
    "# Plotly plot, it's interactive, some tweaking needed for the theme\n",
    "times = df_pandas.index.tolist()\n",
    "times_rev = times[::-1]\n",
    "\n",
    "# Line 1\n",
    "y1 = df_pandas['mean'].to_list()\n",
    "y1_upper = df_pandas['upper'].to_list()\n",
    "y1_lower = df_pandas['lower'].to_list()\n",
    "y1_lower = y1_lower[::-1]\n",
    "\n",
    "fig = go.Figure()\n",
    "fig.add_trace(go.Scatter(\n",
    "    x=times+times_rev,\n",
    "    y=y1_upper+y1_lower,\n",
    "    fill='toself',\n",
    "    fillcolor='rgba(0,100,200,0.2)',\n",
    "    line_color='rgba(0,100,200,0.2)',\n",
    "    showlegend= False\n",
    "))\n",
    "fig.add_trace(go.Scatter(\n",
    "    x=times,\n",
    "    y=y1,\n",
    "    line_color='rgb(0,100,200)',\n",
    "    name=\"fossile flux\"\n",
    "))\n",
    "fig.update_traces(mode='lines')\n",
    "fig.update_xaxes(title='years')\n",
    "fig.update_yaxes(title=unit)\n",
    "fig.update_layout(title= {\"text\":\"Fossile fluxes in Italy\", \"x\":0.45, \"y\": 0.85, \"automargin\":True, \"yref\":\"container\", \"font\":{\"size\":19}})\n",
    "fig.show()"
   ]
  },
  {
   "cell_type": "code",
   "execution_count": null,
   "metadata": {},
   "outputs": [],
   "source": []
  },
  {
   "cell_type": "code",
   "execution_count": null,
   "metadata": {},
   "outputs": [],
   "source": []
  },
  {
   "cell_type": "code",
   "execution_count": 20,
   "metadata": {},
   "outputs": [],
   "source": [
    "# TODO:\n",
    "## 1 - Shiftare lat e long se necessario -> EAC4 va da 0 a 360, ma Inversion è già tra -180+180\n",
    "## 2 - Clip paese -> Capire se funziona, sembra funzionare\n",
    "## 3 - Media annuale -> In realtà ci dovrebbe essere un modo per calcolare il CI su plotly, basta avere diversi valori per anno\n",
    "##                    -> No, quella è seaborn, su plotly va fatto a mano usando ad esempio statsmodels\n",
    "## 4 - Plot con CI al 95% e aggiugere la seconda linea"
   ]
  }
 ],
 "metadata": {
  "kernelspec": {
   "display_name": "atmospheric-explorer",
   "language": "python",
   "name": "python3"
  },
  "language_info": {
   "codemirror_mode": {
    "name": "ipython",
    "version": 3
   },
   "file_extension": ".py",
   "mimetype": "text/x-python",
   "name": "python",
   "nbconvert_exporter": "python",
   "pygments_lexer": "ipython3",
   "version": "3.11.0"
  },
  "orig_nbformat": 4
 },
 "nbformat": 4,
 "nbformat_minor": 2
}
