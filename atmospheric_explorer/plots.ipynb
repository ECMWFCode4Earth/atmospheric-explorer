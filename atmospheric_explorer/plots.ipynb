{
 "cells": [
  {
   "cell_type": "code",
   "execution_count": null,
   "metadata": {},
   "outputs": [],
   "source": [
    "from atmospheric_explorer.cams_interfaces import InversionOptimisedGreenhouseGas, EAC4Instance\n",
    "from atmospheric_explorer.shapefile import ShapefilesDownloader\n",
    "from atmospheric_explorer.utils import get_local_folder\n",
    "from atmospheric_explorer.units_conversion import convert_units_array\n",
    "import plotly.express as px\n",
    "import seaborn as sns\n",
    "import matplotlib.pyplot as plt\n",
    "import os\n",
    "from glob import glob\n",
    "import xarray as xr\n",
    "from datetime import datetime\n",
    "import geopandas as gpd\n",
    "from shapely.geometry import mapping\n",
    "import rioxarray\n",
    "import plotly.graph_objects as go\n",
    "import shutil\n",
    "import numpy as np\n",
    "import statsmodels.stats.api as sms\n",
    "import pandas as pd\n",
    "import cdsapi\n",
    "from atmospheric_explorer.plotting_apis import eac4_hovmoeller_levels_plot\n",
    "from atmospheric_explorer.data_transformations import clip_and_concat_countries, shifting_long"
   ]
  },
  {
   "cell_type": "code",
   "execution_count": null,
   "metadata": {},
   "outputs": [],
   "source": [
    "# Remove previous data\n",
    "shutil.rmtree(os.path.join(get_local_folder(), 'data'))"
   ]
  },
  {
   "cell_type": "code",
   "execution_count": null,
   "metadata": {},
   "outputs": [],
   "source": [
    "# Remove previous data\n",
    "shutil.rmtree(os.path.join(get_local_folder(), 'shapefiles'))"
   ]
  },
  {
   "cell_type": "code",
   "execution_count": null,
   "metadata": {},
   "outputs": [],
   "source": [
    "#function to move from 0+360 to -180+180 long\n",
    "def ds_swaplon(ds):\n",
    "    return ds.assign_coords(longitude=(((ds.longitude + 180) % 360) - 180)).sortby('longitude')"
   ]
  },
  {
   "cell_type": "code",
   "execution_count": null,
   "metadata": {},
   "outputs": [],
   "source": [
    "manager = InversionOptimisedGreenhouseGas(\n",
    "    data_variables='carbon_dioxide',\n",
    "    file_format='zip',\n",
    "    quantity='surface_flux',\n",
    "    input_observations='surface',\n",
    "    time_aggregation='monthly_mean',\n",
    "    year=[\n",
    "        '1985', '1986', '1987',\n",
    "        '1988', '1989', '1990',\n",
    "        '1991', '1992', '1993',\n",
    "        '1994', '1995', '1996',\n",
    "        '1997', '1998', '1999',\n",
    "        '2000', '2001', '2002',\n",
    "        '2003', '2004', '2005',\n",
    "        '2006', '2007', '2008',\n",
    "        '2009', '2010', '2011',\n",
    "        '2012', '2013', '2014',\n",
    "        '2015', '2016', '2017',\n",
    "        '2018', '2019', '2020'\n",
    "    ],\n",
    "    month=[\n",
    "        '01', '02', '03',\n",
    "        '04', '05', '06',\n",
    "        '07', '08', '09',\n",
    "        '10', '11', '12'\n",
    "    ]\n",
    ")\n",
    "manager.download()"
   ]
  },
  {
   "cell_type": "code",
   "execution_count": null,
   "metadata": {},
   "outputs": [],
   "source": [
    "#sorted: ordina in ordine alfabetico  - globe: dentro è una lista (casting=viene 'converitito' in una lista)\n",
    "files = sorted(glob(manager.file_full_path))"
   ]
  },
  {
   "cell_type": "code",
   "execution_count": null,
   "metadata": {},
   "outputs": [],
   "source": [
    "#cos'è un genereatore:\n",
    "gen=(i for i in range(10))\n",
    "#lista invece:\n",
    "lista=[i for i in range(10)]\n",
    "\n",
    "#come si scrive la lista [] o il generatore () si chiama list comprehension: permette di definire l'oggetto semplicemente con le parentesi"
   ]
  },
  {
   "cell_type": "code",
   "execution_count": null,
   "metadata": {},
   "outputs": [],
   "source": [
    "#il generatore se lo runni dura solo il tempo del print (se cambi gen con list non è cosi invece) - se lo runni di nuovo non contiene valori\n",
    "for v in gen:\n",
    "    print(v)"
   ]
  },
  {
   "cell_type": "code",
   "execution_count": null,
   "metadata": {},
   "outputs": [],
   "source": [
    "# Create dataframe with first file\n",
    "mm = datetime.strptime(files[0].split('_')[-1].split('.')[0], '%Y%m')\n",
    "df = xr.open_dataset(files[0])[['flux_foss']]\n",
    "df = df.expand_dims({'time': [mm]})\n",
    "# Merge remaining files\n",
    "# ! This loop replaces xr.open_mfdataset(manager.file_full_path) that does not work (because time coordinate is not included in dataframe)\n",
    "for file in files[1:]:\n",
    "    mm = datetime.strptime(file.split('_')[-1].split('.')[0], '%Y%m')\n",
    "    temp = xr.open_dataset(file)[['flux_foss']]\n",
    "    temp = temp.expand_dims({'time': [mm]})\n",
    "    df = xr.combine_by_coords([df, temp])"
   ]
  },
  {
   "cell_type": "code",
   "execution_count": null,
   "metadata": {},
   "outputs": [],
   "source": [
    "df = df.rio.write_crs('EPSG:4326')"
   ]
  },
  {
   "cell_type": "code",
   "execution_count": null,
   "metadata": {},
   "outputs": [],
   "source": [
    "sh_down = ShapefilesDownloader(\n",
    "    resolution='10m',\n",
    "    instance='countries'\n",
    ")\n",
    "sh_down.download_shapefile()"
   ]
  },
  {
   "cell_type": "code",
   "execution_count": null,
   "metadata": {},
   "outputs": [],
   "source": [
    "sh = gpd.read_file(sh_down.shapefile_full_path, crs='EPSG:4326')"
   ]
  },
  {
   "cell_type": "code",
   "execution_count": null,
   "metadata": {},
   "outputs": [],
   "source": [
    "#all_touched=True questo parametro include tutti i pixel toccati dal poligono definito, se False include solo i pixel il cui centro è incluso nel poligono\n",
    "#approvato all_touched=True\n",
    "df_clipped = df.rio.clip(sh[sh['ADMIN'] == 'Italy'].geometry.apply(mapping), sh.crs, drop=True, all_touched=True)[['flux_foss']]"
   ]
  },
  {
   "cell_type": "code",
   "execution_count": null,
   "metadata": {},
   "outputs": [],
   "source": [
    "df_clipped['flux_foss'][0].plot()"
   ]
  },
  {
   "cell_type": "code",
   "execution_count": null,
   "metadata": {},
   "outputs": [],
   "source": [
    "# Drop all values that are null over all coords, compute the mean of the remaining values over long and lat\n",
    "df_clipped = df_clipped.where(~df_clipped['flux_foss'].isnull(), drop=True).sortby('time').mean(dim=['longitude', 'latitude'])"
   ]
  },
  {
   "cell_type": "code",
   "execution_count": null,
   "metadata": {},
   "outputs": [],
   "source": [
    "da_converted=convert_units_array(df_clipped['flux_foss'], \"carbon_dioxide\")"
   ]
  },
  {
   "cell_type": "code",
   "execution_count": null,
   "metadata": {},
   "outputs": [],
   "source": [
    "# Cool but not interactive\n",
    "sns.lineplot(\n",
    "    y=da_converted.values,\n",
    "    x=da_converted.coords['time.year']\n",
    ")"
   ]
  },
  {
   "cell_type": "code",
   "execution_count": null,
   "metadata": {},
   "outputs": [],
   "source": [
    "# Xarray doesn't cover all pandas functionalities, we need to convert it to a pandas dataframe\n",
    "unit=da_converted.attrs[\"units\"]\n",
    "df_pandas = pd.DataFrame(da_converted.to_pandas(), columns=[\"flux_foss\"]).reset_index()\n",
    "df_pandas['year'] = df_pandas['time'].dt.year\n",
    "df_pandas = df_pandas.groupby('year').agg(mean=('flux_foss', 'mean'), ci=('flux_foss', lambda d: sms.DescrStatsW(d).tconfint_mean()))\n",
    "df_pandas[['lower', 'upper']] = pd.DataFrame(df_pandas['ci'].to_list(), index=df_pandas.index)"
   ]
  },
  {
   "cell_type": "code",
   "execution_count": null,
   "metadata": {},
   "outputs": [],
   "source": [
    "# Plotly plot, it's interactive, some tweaking needed for the theme\n",
    "times = df_pandas.index.tolist()\n",
    "times_rev = times[::-1]\n",
    "\n",
    "# Line 1\n",
    "y1 = df_pandas['mean'].to_list()\n",
    "y1_upper = df_pandas['upper'].to_list()\n",
    "y1_lower = df_pandas['lower'].to_list()\n",
    "y1_lower = y1_lower[::-1]\n",
    "\n",
    "fig = go.Figure()\n",
    "fig.add_trace(go.Scatter(\n",
    "    x=times+times_rev,\n",
    "    y=y1_upper+y1_lower,\n",
    "    fill='toself',\n",
    "    fillcolor='rgba(0,100,200,0.2)',\n",
    "    line_color='rgba(0,100,200,0.2)',\n",
    "    showlegend= False\n",
    "))\n",
    "fig.add_trace(go.Scatter(\n",
    "    x=times,\n",
    "    y=y1,\n",
    "    line_color='rgb(0,100,200)',\n",
    "    name=\"fossile flux\"\n",
    "))\n",
    "fig.update_traces(mode='lines')\n",
    "fig.update_xaxes(title='years')\n",
    "fig.update_yaxes(title=unit)\n",
    "fig.update_layout(title= {\"text\":\"Fossile fluxes in Italy\", \"x\":0.45, \"y\": 0.85, \"automargin\":True, \"yref\":\"container\", \"font\":{\"size\":19}})\n",
    "fig.show()"
   ]
  },
  {
   "cell_type": "code",
   "execution_count": null,
   "metadata": {},
   "outputs": [],
   "source": [
    "# TODO:\n",
    "## 1 - Shiftare lat e long se necessario -> EAC4 va da 0 a 360, ma Inversion è già tra -180+180\n",
    "## 2 - Clip paese -> Capire se funziona, sembra funzionare\n",
    "## 3 - Media annuale -> In realtà ci dovrebbe essere un modo per calcolare il CI su plotly, basta avere diversi valori per anno\n",
    "##                    -> No, quella è seaborn, su plotly va fatto a mano usando ad esempio statsmodels\n",
    "## 4 - Plot con CI al 95% e aggiugere la seconda linea"
   ]
  },
  {
   "cell_type": "code",
   "execution_count": null,
   "metadata": {},
   "outputs": [],
   "source": [
    "manager2 = EAC4Instance(\n",
    "    'total_column_nitrogen_dioxide',\n",
    "    'netcdf',\n",
    "    dates_range = '2018-01-01/2020-01-01',\n",
    "    time_values = '00:00'\n",
    ")\n",
    "manager2.download()"
   ]
  },
  {
   "cell_type": "code",
   "execution_count": null,
   "metadata": {},
   "outputs": [],
   "source": [
    "df2 = xr.open_dataset(manager2.file_full_path)\n",
    "df2"
   ]
  },
  {
   "cell_type": "code",
   "execution_count": null,
   "metadata": {},
   "outputs": [],
   "source": [
    "df2 = df2.rio.write_crs('EPSG:4326')"
   ]
  },
  {
   "cell_type": "code",
   "execution_count": null,
   "metadata": {},
   "outputs": [],
   "source": [
    "#all_touched=True questo parametro include tutti i pixel toccati dal poligono definito, se False include solo i pixel il cui centro è incluso nel poligono\n",
    "#approvato all_touched=True\n",
    "df2_clipped = df2.rio.clip(sh[sh['ADMIN'] == 'Italy'].geometry.apply(mapping), sh.crs, drop=True, all_touched=True)"
   ]
  },
  {
   "cell_type": "code",
   "execution_count": null,
   "metadata": {},
   "outputs": [],
   "source": [
    "df2_agg = df2_clipped.mean(dim=['latitude', 'longitude']).resample(time=\"1MS\", restore_coord_dims=True).mean(dim='time')"
   ]
  },
  {
   "cell_type": "code",
   "execution_count": null,
   "metadata": {},
   "outputs": [],
   "source": [
    "reference_value = df2_agg.mean(dim='time')"
   ]
  },
  {
   "cell_type": "code",
   "execution_count": null,
   "metadata": {},
   "outputs": [],
   "source": [
    "reference_value"
   ]
  },
  {
   "cell_type": "code",
   "execution_count": null,
   "metadata": {},
   "outputs": [],
   "source": [
    "df2_agg"
   ]
  },
  {
   "cell_type": "code",
   "execution_count": null,
   "metadata": {},
   "outputs": [],
   "source": [
    "df2_agg_convert = convert_units_array(df2_agg['tcno2'], 'total_column_nitrogen_dioxide')"
   ]
  },
  {
   "cell_type": "code",
   "execution_count": null,
   "metadata": {},
   "outputs": [],
   "source": [
    "reference_value = df2_agg_convert.mean().values"
   ]
  },
  {
   "cell_type": "code",
   "execution_count": null,
   "metadata": {},
   "outputs": [],
   "source": [
    "df2_agg_anomalies = df2_agg_convert - reference_value\n",
    "df2_agg_anomalies.attrs = df2_agg_convert.attrs"
   ]
  },
  {
   "cell_type": "code",
   "execution_count": null,
   "metadata": {},
   "outputs": [],
   "source": [
    "df2_agg_convert"
   ]
  },
  {
   "cell_type": "code",
   "execution_count": null,
   "metadata": {},
   "outputs": [],
   "source": [
    "fig = px.line(\n",
    "    y=df2_agg_anomalies.values,\n",
    "    x=df2_agg_anomalies.coords['time'],\n",
    "    markers='o'\n",
    ")\n",
    "fig.update_xaxes(title=\"Month\")\n",
    "fig.update_yaxes(title=df2_agg_anomalies.attrs['units'])\n",
    "fig.update_layout(\n",
    "    title={\n",
    "        \"text\": \"Total columns N02 above Italy (anomalies)\",\n",
    "        \"x\": 0.45,\n",
    "        \"y\": 0.95,\n",
    "        \"automargin\": True,\n",
    "        \"yref\": \"container\",\n",
    "        \"font\": {\n",
    "            \"size\":19\n",
    "        }\n",
    "    }\n",
    ")"
   ]
  },
  {
   "attachments": {},
   "cell_type": "markdown",
   "metadata": {},
   "source": [
    "## Third plot"
   ]
  },
  {
   "cell_type": "code",
   "execution_count": null,
   "metadata": {},
   "outputs": [],
   "source": [
    "fig = eac4_hovmoeller_levels_plot(\n",
    "    'ozone',\n",
    "    'go3',\n",
    "    '2021-01-01/2021-04-01',\n",
    "    '00:00',\n",
    "    ['1','5', '10', '50', '100', '250', '500', '1000'],\n",
    "    ['Italy'],\n",
    "    \"Ozone levels above Italy\"\n",
    ")\n",
    "fig.show()"
   ]
  },
  {
   "attachments": {},
   "cell_type": "markdown",
   "metadata": {},
   "source": [
    "## Fourth plot\n",
    "Hovmoeller O3"
   ]
  },
  {
   "cell_type": "code",
   "execution_count": null,
   "metadata": {},
   "outputs": [],
   "source": [
    "o3_manager = EAC4Instance(\n",
    "    'total_column_ozone',\n",
    "    'netcdf',\n",
    "    dates_range = '2020-01-01/2022-12-31',\n",
    "    time_values = '00:00',\n",
    ")\n",
    "o3_manager.download()"
   ]
  },
  {
   "cell_type": "code",
   "execution_count": null,
   "metadata": {},
   "outputs": [],
   "source": [
    "df_o3 = xr.open_dataset(o3_manager.file_full_path)\n",
    "df_o3 = df_o3.rio.write_crs('EPSG:4326')\n",
    "df_o3"
   ]
  },
  {
   "cell_type": "code",
   "execution_count": null,
   "metadata": {},
   "outputs": [],
   "source": [
    "df_o3_agg = df_o3.resample(time=\"1MS\", restore_coord_dims=True).mean(dim='time').mean(dim='longitude')\n",
    "df_o3_convert = convert_units_array(df_o3_agg['gtco3'], 'total_column_ozone')"
   ]
  },
  {
   "cell_type": "code",
   "execution_count": null,
   "metadata": {},
   "outputs": [],
   "source": [
    "df_o3_convert"
   ]
  },
  {
   "cell_type": "code",
   "execution_count": null,
   "metadata": {},
   "outputs": [],
   "source": [
    "my_colorsc=[[0, 'green'], [0.5, 'red'], [1.0, 'rgb(0, 0, 255)']]"
   ]
  },
  {
   "cell_type": "code",
   "execution_count": null,
   "metadata": {},
   "outputs": [],
   "source": [
    "fig = px.imshow(df_o3_convert.T, color_continuous_scale='Jet', origin='lower')\n",
    "fig.show()"
   ]
  },
  {
   "cell_type": "code",
   "execution_count": null,
   "metadata": {},
   "outputs": [],
   "source": [
    "color_scale = px.colors.sequential.Jet\n",
    "num_colors = 16\n",
    "if num_colors > len(color_scale):\n",
    "    interpolated_colors = []\n",
    "    for i in range(num_colors):\n",
    "        index = int(i * (len(color_scale) - 1) / (num_colors - 1))\n",
    "        interpolated_colors.append(color_scale[index])\n",
    "    discrete_colors = interpolated_colors\n",
    "else:\n",
    "    discrete_colors = color_scale\n",
    "\n",
    "# import matplotlib.colors as mcolors\n",
    "# if num_colors > len(color_scale):\n",
    "#     cmap = mcolors.LinearSegmentedColormap.from_list('custom_color_scale', color_scale)\n",
    "#     interpolated_colors = [mcolors.rgb2hex(cmap(i)) for i in np.linspace(0, 1, num_colors)]\n",
    "#     discrete_colors = interpolated_colors\n",
    "# else:\n",
    "#     discrete_colors = color_scale\n",
    "\n",
    "# if num_colors > len(color_scale):\n",
    "#     discrete_colors = []\n",
    "#     for i in range(num_colors):\n",
    "#         ratio = i / (num_colors - 1)\n",
    "#         idx = int(ratio * (len(color_scale) - 1))\n",
    "#         discrete_colors.append(color_scale[idx])\n",
    "# else:\n",
    "#     discrete_colors = color_scale[:num_colors]\n",
    "\n",
    "# import matplotlib.colors as mcolors\n",
    "# cmap = mcolors.LinearSegmentedColormap.from_list('custom_color_scale', color_scale)\n",
    "# interpolated_colors = [mcolors.rgb2hex(cmap(i / (num_colors - 1))) for i in range(num_colors)]\n",
    "\n",
    "\"\"\" import plotly.colors as pcolors\n",
    "if num_colors > len(color_scale):\n",
    "    interpolated_colors = pcolors.interpolate_colorscale(color_scale, num_colors)\n",
    "    discrete_colors = [c for c, _ in interpolated_colors]\n",
    "else:\n",
    "    discrete_colors = color_scale[:num_colors] \"\"\"\n",
    "\n",
    "fig = px.imshow(df_o3_convert.T, color_continuous_scale=discrete_colors)\n",
    "fig.show()"
   ]
  },
  {
   "attachments": {},
   "cell_type": "markdown",
   "metadata": {},
   "source": [
    "## Plot 3\n"
   ]
  },
  {
   "cell_type": "code",
   "execution_count": null,
   "metadata": {},
   "outputs": [],
   "source": [
    "multilevel_manager = EAC4Instance(\n",
    "    'ozone',\n",
    "    'netcdf',\n",
    "    pressure_level =['1','5', '10', '50', '100', '250', '500', '1000'],\n",
    "    dates_range = '2020-01-01/2020-06-30',\n",
    "    time_values = '00:00',\n",
    ")\n",
    "multilevel_manager.download()"
   ]
  },
  {
   "cell_type": "code",
   "execution_count": null,
   "metadata": {},
   "outputs": [],
   "source": [
    "print(multilevel_manager.file_full_path)"
   ]
  },
  {
   "cell_type": "code",
   "execution_count": null,
   "metadata": {},
   "outputs": [],
   "source": [
    "df_ml = xr.open_dataset(multilevel_manager.file_full_path)\n",
    "df_ml = df_ml.rio.write_crs('EPSG:4326')\n",
    "df_ml"
   ]
  },
  {
   "cell_type": "code",
   "execution_count": null,
   "metadata": {},
   "outputs": [],
   "source": [
    "df_ml_shifted=ds_swaplon(df_ml)"
   ]
  },
  {
   "cell_type": "code",
   "execution_count": null,
   "metadata": {},
   "outputs": [],
   "source": [
    "sh_down = ShapefilesDownloader(\n",
    "    resolution='10m',\n",
    "    instance='countries'\n",
    ")\n",
    "sh_down.download_shapefile()"
   ]
  },
  {
   "cell_type": "code",
   "execution_count": null,
   "metadata": {},
   "outputs": [],
   "source": [
    "sh = gpd.read_file(sh_down.shapefile_full_path, crs='EPSG:4326')"
   ]
  },
  {
   "cell_type": "code",
   "execution_count": null,
   "metadata": {},
   "outputs": [],
   "source": [
    "\n",
    "df_ml_clipped = df_ml_shifted.rio.clip(sh[sh['ADMIN'] == 'Italy'].geometry.apply(mapping), sh.crs, drop=True, all_touched=True)"
   ]
  },
  {
   "cell_type": "code",
   "execution_count": null,
   "metadata": {},
   "outputs": [],
   "source": [
    "df_ml_agg = df_ml_shifted.resample(time=\"1W\", restore_coord_dims=True).mean(dim='time').mean(dim='longitude').mean(dim='latitude').sortby(\"level\")\n",
    "df_ml_convert = convert_units_array(df_ml_agg['go3'], 'ozone')"
   ]
  },
  {
   "cell_type": "code",
   "execution_count": null,
   "metadata": {},
   "outputs": [],
   "source": [
    "df_ml_convert"
   ]
  },
  {
   "cell_type": "code",
   "execution_count": null,
   "metadata": {},
   "outputs": [],
   "source": [
    "fig = px.imshow(df_ml_convert.T, color_continuous_scale='RdBu_r', origin='lower')\n",
    "fig.update_yaxes(type='log', autorange='reversed')\n",
    "fig.update_layout(\n",
    "    title={\n",
    "        \"text\": \"Italy Vertical hovmoeller plots of ozone\",\n",
    "        \"x\": 0.45,\n",
    "        \"y\": 0.95,\n",
    "        \"automargin\": True,\n",
    "        \"yref\": \"container\",\n",
    "        \"font\": {\n",
    "            \"size\":19\n",
    "        }\n",
    "    }\n",
    ")\n",
    "fig.show()"
   ]
  }
 ],
 "metadata": {
  "kernelspec": {
   "display_name": "atmospheric-explorer",
   "language": "python",
   "name": "python3"
  },
  "language_info": {
   "codemirror_mode": {
    "name": "ipython",
    "version": 3
   },
   "file_extension": ".py",
   "mimetype": "text/x-python",
   "name": "python",
   "nbconvert_exporter": "python",
   "pygments_lexer": "ipython3",
   "version": "3.11.0"
  },
  "orig_nbformat": 4
 },
 "nbformat": 4,
 "nbformat_minor": 2
}
