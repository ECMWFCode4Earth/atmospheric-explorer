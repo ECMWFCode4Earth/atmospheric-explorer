{
 "cells": [
  {
   "cell_type": "code",
   "execution_count": 1,
   "metadata": {},
   "outputs": [],
   "source": [
    "from atmospheric_explorer.data_interface.cams_interface.cams_interface import CAMSDataInterface\n",
    "from atmospheric_explorer.data_interface.cache import Base, cache_engine, CachingStatus\n",
    "from atmospheric_explorer.data_interface.ghg.ghg_cache import GHGCacheTable\n",
    "from atmospheric_explorer.data_interface.ghg.ghg_parameters import GHGParameters\n",
    "from atmospheric_explorer.data_interface.ghg.ghg_data_interface import GHGDataInterface\n",
    "from atmospheric_explorer.utils import get_local_folder\n",
    "import shutil\n",
    "import os"
   ]
  },
  {
   "cell_type": "code",
   "execution_count": 2,
   "metadata": {},
   "outputs": [],
   "source": [
    "shutil.rmtree(os.path.join(get_local_folder(), 'data'))"
   ]
  },
  {
   "cell_type": "code",
   "execution_count": 3,
   "metadata": {},
   "outputs": [
    {
     "name": "stdout",
     "output_type": "stream",
     "text": [
      "2023-08-07 19:00:38,255 INFO sqlalchemy.engine.Engine BEGIN (implicit)\n",
      "2023-08-07 19:00:38,256 INFO sqlalchemy.engine.Engine PRAGMA main.table_info(\"ghg_cache_table\")\n",
      "2023-08-07 19:00:38,258 INFO sqlalchemy.engine.Engine [raw sql] ()\n",
      "2023-08-07 19:00:38,260 INFO sqlalchemy.engine.Engine \n",
      "DROP TABLE ghg_cache_table\n",
      "2023-08-07 19:00:38,262 INFO sqlalchemy.engine.Engine [no key 0.00147s] ()\n",
      "2023-08-07 19:00:38,269 INFO sqlalchemy.engine.Engine COMMIT\n",
      "2023-08-07 19:00:38,271 INFO sqlalchemy.engine.Engine BEGIN (implicit)\n",
      "2023-08-07 19:00:38,272 INFO sqlalchemy.engine.Engine PRAGMA main.table_info(\"ghg_cache_table\")\n",
      "2023-08-07 19:00:38,272 INFO sqlalchemy.engine.Engine [raw sql] ()\n",
      "2023-08-07 19:00:38,274 INFO sqlalchemy.engine.Engine PRAGMA temp.table_info(\"ghg_cache_table\")\n",
      "2023-08-07 19:00:38,274 INFO sqlalchemy.engine.Engine [raw sql] ()\n",
      "2023-08-07 19:00:38,276 INFO sqlalchemy.engine.Engine \n",
      "CREATE TABLE ghg_cache_table (\n",
      "\tdata_variables VARCHAR(30) NOT NULL, \n",
      "\tquantity VARCHAR(30) NOT NULL, \n",
      "\tinput_observations VARCHAR(30) NOT NULL, \n",
      "\ttime_aggregation VARCHAR(30) NOT NULL, \n",
      "\tyear INTEGER NOT NULL, \n",
      "\tmonth INTEGER NOT NULL, \n",
      "\tversion VARCHAR(10) NOT NULL, \n",
      "\tfiles_path VARCHAR NOT NULL, \n",
      "\tPRIMARY KEY (data_variables, quantity, input_observations, time_aggregation, year, month, version)\n",
      ")\n",
      "\n",
      "\n",
      "2023-08-07 19:00:38,277 INFO sqlalchemy.engine.Engine [no key 0.00128s] ()\n",
      "2023-08-07 19:00:38,282 INFO sqlalchemy.engine.Engine COMMIT\n"
     ]
    }
   ],
   "source": [
    "Base.metadata.drop_all(cache_engine)\n",
    "Base.metadata.create_all(cache_engine)"
   ]
  },
  {
   "cell_type": "code",
   "execution_count": 4,
   "metadata": {},
   "outputs": [
    {
     "name": "stderr",
     "output_type": "stream",
     "text": [
      "2023-08-07 19:00:38,299 INFO Created folder /home/luigibrancati/.atmospheric_explorer/data/global_greenhouse_gas_inversion\n"
     ]
    },
    {
     "name": "stdout",
     "output_type": "stream",
     "text": [
      "2023-08-07 19:00:38,303 INFO sqlalchemy.engine.Engine BEGIN (implicit)\n",
      "2023-08-07 19:00:38,312 INFO sqlalchemy.engine.Engine SELECT ghg_cache_table.data_variables, ghg_cache_table.quantity, ghg_cache_table.input_observations, ghg_cache_table.time_aggregation, ghg_cache_table.year, ghg_cache_table.month, ghg_cache_table.version, ghg_cache_table.files_path \n",
      "FROM ghg_cache_table \n",
      "WHERE ghg_cache_table.data_variables = ? AND ghg_cache_table.quantity = ? AND ghg_cache_table.input_observations = ? AND ghg_cache_table.time_aggregation = ? AND ghg_cache_table.version = ? AND ghg_cache_table.year IN (?, ?) AND ghg_cache_table.month IN (?, ?)\n",
      "2023-08-07 19:00:38,313 INFO sqlalchemy.engine.Engine [generated in 0.00130s] ('nitrous_oxide', 'surface_flux', 'surface', 'monthly_mean', 'latest', 2000, 2001, 1, 2)\n",
      "2023-08-07 19:00:38,315 INFO sqlalchemy.engine.Engine ROLLBACK\n"
     ]
    },
    {
     "name": "stderr",
     "output_type": "stream",
     "text": [
      "2023-08-07 19:00:38,316 DEBUG Cached parameters: []\n",
      "2023-08-07 19:00:38,318 INFO No data points are cached, updating parameters\n",
      "2023-08-07 19:00:38,319 INFO The parameter specified are not fully cached, creating variables to manage files\n",
      "2023-08-07 19:00:38,321 DEBUG Created folder /home/luigibrancati/.atmospheric_explorer/data/global_greenhouse_gas_inversion/data_1\n",
      "2023-08-07 19:00:38,322 INFO Downloading non-cached parameters: GHGParameters(data_variables=nitrous_oxide, quantity=surface_flux, input_observations=surface, time_aggregation=monthly_mean, years=['2000', '2001'], months=['01', '02'], version=latest)\n",
      "2023-08-07 19:00:38,624 INFO Welcome to the CDS\n",
      "2023-08-07 19:00:38,625 INFO Sending request to https://ads.atmosphere.copernicus.eu/api/v2/resources/cams-global-greenhouse-gas-inversion\n",
      "2023-08-07 19:00:38,696 INFO Request is completed\n",
      "2023-08-07 19:00:38,697 INFO Downloading https://download-0001-ads-clone.copernicus-climate.eu/cache-compute-0001/cache/data5/dataset-cams-global-greenhouse-gas-inversion-143c111d-5351-46b7-842b-d42a65efc947.zip to /home/luigibrancati/.atmospheric_explorer/data/global_greenhouse_gas_inversion/data_1/data_1.zip (139.4K)\n",
      "2023-08-07 19:00:39,217 INFO Download rate 268.3K/s\n",
      "2023-08-07 19:00:39,245 INFO Finished downloading file /home/luigibrancati/.atmospheric_explorer/data/global_greenhouse_gas_inversion/data_1/data_1.zip\n",
      "2023-08-07 19:00:39,248 DEBUG Extracted file /home/luigibrancati/.atmospheric_explorer/data/global_greenhouse_gas_inversion/data_1/data_1.zip to folder /home/luigibrancati/.atmospheric_explorer/data/global_greenhouse_gas_inversion/data_1\n",
      "2023-08-07 19:00:39,249 DEBUG Updated file_full_path to wildcard path /home/luigibrancati/.atmospheric_explorer/data/global_greenhouse_gas_inversion/data_1/*.nc\n",
      "2023-08-07 19:00:39,250 DEBUG Removed /home/luigibrancati/.atmospheric_explorer/data/global_greenhouse_gas_inversion/data_1/data_1.zip\n"
     ]
    },
    {
     "name": "stdout",
     "output_type": "stream",
     "text": [
      "2023-08-07 19:00:39,252 INFO sqlalchemy.engine.Engine BEGIN (implicit)\n",
      "2023-08-07 19:00:39,253 INFO sqlalchemy.engine.Engine SELECT DISTINCT ghg_cache_table.files_path \n",
      "FROM ghg_cache_table \n",
      "WHERE ghg_cache_table.data_variables IN (?) AND ghg_cache_table.quantity IN (?) AND ghg_cache_table.input_observations IN (?) AND ghg_cache_table.time_aggregation IN (?) AND ghg_cache_table.version IN (?) AND ghg_cache_table.year IN (?, ?) AND ghg_cache_table.month IN (?, ?)\n",
      "2023-08-07 19:00:39,254 INFO sqlalchemy.engine.Engine [generated in 0.00082s] ('nitrous_oxide', 'surface_flux', 'surface', 'monthly_mean', 'latest', 2000, 2001, 1, 2)\n",
      "2023-08-07 19:00:39,256 INFO sqlalchemy.engine.Engine ROLLBACK\n",
      "2023-08-07 19:00:39,257 INFO sqlalchemy.engine.Engine BEGIN (implicit)\n",
      "2023-08-07 19:00:39,259 INFO sqlalchemy.engine.Engine DELETE FROM ghg_cache_table WHERE ghg_cache_table.data_variables IN (?) AND ghg_cache_table.quantity IN (?) AND ghg_cache_table.input_observations IN (?) AND ghg_cache_table.time_aggregation IN (?) AND ghg_cache_table.version IN (?) AND ghg_cache_table.year IN (?, ?) AND ghg_cache_table.month IN (?, ?)\n",
      "2023-08-07 19:00:39,260 INFO sqlalchemy.engine.Engine [generated in 0.00136s] ('nitrous_oxide', 'surface_flux', 'surface', 'monthly_mean', 'latest', 2000, 2001, 1, 2)\n",
      "2023-08-07 19:00:39,262 INFO sqlalchemy.engine.Engine COMMIT\n",
      "2023-08-07 19:00:39,264 INFO sqlalchemy.engine.Engine BEGIN (implicit)\n",
      "2023-08-07 19:00:39,265 INFO sqlalchemy.engine.Engine INSERT INTO ghg_cache_table (data_variables, quantity, input_observations, time_aggregation, year, month, version, files_path) VALUES (?, ?, ?, ?, ?, ?, ?, ?), (?, ?, ?, ?, ?, ?, ?, ?), (?, ?, ?, ?, ?, ?, ?, ?), (?, ?, ?, ?, ?, ?, ?, ?) ON CONFLICT (data_variables, quantity, input_observations, time_aggregation, year, month, version) DO UPDATE SET files_path = excluded.files_path\n",
      "2023-08-07 19:00:39,266 INFO sqlalchemy.engine.Engine [no key 0.00079s] ('nitrous_oxide', 'surface_flux', 'surface', 'monthly_mean', 2000, 1, 'latest', '/home/luigibrancati/.atmospheric_explorer/data/global_greenhouse_gas_inversion/data_1/*.nc', 'nitrous_oxide', 'surface_flux', 'surface', 'monthly_mean', 2000, 2, 'latest', '/home/luigibrancati/.atmospheric_explorer/data/global_greenhouse_gas_inversion/data_1/*.nc', 'nitrous_oxide', 'surface_flux', 'surface', 'monthly_mean', 2001, 1, 'latest', '/home/luigibrancati/.atmospheric_explorer/data/global_greenhouse_gas_inversion/data_1/*.nc', 'nitrous_oxide', 'surface_flux', 'surface', 'monthly_mean', 2001, 2, 'latest', '/home/luigibrancati/.atmospheric_explorer/data/global_greenhouse_gas_inversion/data_1/*.nc')\n",
      "2023-08-07 19:00:39,268 INFO sqlalchemy.engine.Engine COMMIT\n",
      "2023-08-07 19:00:39,282 INFO sqlalchemy.engine.Engine BEGIN (implicit)\n",
      "2023-08-07 19:00:39,283 INFO sqlalchemy.engine.Engine SELECT ghg_cache_table.data_variables, ghg_cache_table.quantity, ghg_cache_table.input_observations, ghg_cache_table.time_aggregation, ghg_cache_table.year, ghg_cache_table.month, ghg_cache_table.version, ghg_cache_table.files_path \n",
      "FROM ghg_cache_table \n",
      "WHERE ghg_cache_table.data_variables = ? AND ghg_cache_table.quantity = ? AND ghg_cache_table.input_observations = ? AND ghg_cache_table.time_aggregation = ? AND ghg_cache_table.version = ? AND ghg_cache_table.year IN (?, ?) AND ghg_cache_table.month IN (?, ?)\n",
      "2023-08-07 19:00:39,284 INFO sqlalchemy.engine.Engine [cached since 0.9717s ago] ('nitrous_oxide', 'surface_flux', 'surface', 'monthly_mean', 'latest', 2000, 2001, 1, 2)\n",
      "2023-08-07 19:00:39,285 INFO sqlalchemy.engine.Engine ROLLBACK\n"
     ]
    },
    {
     "name": "stderr",
     "output_type": "stream",
     "text": [
      "2023-08-07 19:00:39,285 DEBUG Cached parameters: [\n",
      "'data_variables': nitrous_oxide,\n",
      "'quantity': surface_flux,\n",
      "'input_observations': surface,\n",
      "'time_aggregation': monthly_mean,\n",
      "'year': 2000,\n",
      "'month': 1,\n",
      "'version': latest,\n",
      "'files_path': /home/luigibrancati/.atmospheric_explorer/data/global_greenhouse_gas_inversion/data_1/*.nc,\n",
      ", \n",
      "'data_variables': nitrous_oxide,\n",
      "'quantity': surface_flux,\n",
      "'input_observations': surface,\n",
      "'time_aggregation': monthly_mean,\n",
      "'year': 2000,\n",
      "'month': 2,\n",
      "'version': latest,\n",
      "'files_path': /home/luigibrancati/.atmospheric_explorer/data/global_greenhouse_gas_inversion/data_1/*.nc,\n",
      ", \n",
      "'data_variables': nitrous_oxide,\n",
      "'quantity': surface_flux,\n",
      "'input_observations': surface,\n",
      "'time_aggregation': monthly_mean,\n",
      "'year': 2001,\n",
      "'month': 1,\n",
      "'version': latest,\n",
      "'files_path': /home/luigibrancati/.atmospheric_explorer/data/global_greenhouse_gas_inversion/data_1/*.nc,\n",
      ", \n",
      "'data_variables': nitrous_oxide,\n",
      "'quantity': surface_flux,\n",
      "'input_observations': surface,\n",
      "'time_aggregation': monthly_mean,\n",
      "'year': 2001,\n",
      "'month': 2,\n",
      "'version': latest,\n",
      "'files_path': /home/luigibrancati/.atmospheric_explorer/data/global_greenhouse_gas_inversion/data_1/*.nc,\n",
      "]\n",
      "2023-08-07 19:00:39,287 INFO Some data points are already cached, updating parameters\n",
      "2023-08-07 19:00:39,288 DEBUG Parameters have the same key variables, moving to compute year and month difference\n",
      "2023-08-07 19:00:39,289 DEBUG Parameters are the same\n"
     ]
    }
   ],
   "source": [
    "d1 = GHGDataInterface(\n",
    "    version=\"latest\",\n",
    "    data_variables=\"nitrous_oxide\",\n",
    "    quantity=\"surface_flux\",\n",
    "    input_observations=\"surface\",\n",
    "    time_aggregation=\"monthly_mean\",\n",
    "    years=[\"2000\", \"2001\"],\n",
    "    months=[\"1\", \"2\"],\n",
    ")\n",
    "d1.download()"
   ]
  },
  {
   "cell_type": "code",
   "execution_count": 5,
   "metadata": {},
   "outputs": [
    {
     "name": "stderr",
     "output_type": "stream",
     "text": [
      "2023-08-07 19:00:39,298 INFO Created folder /home/luigibrancati/.atmospheric_explorer/data/global_greenhouse_gas_inversion\n"
     ]
    },
    {
     "name": "stdout",
     "output_type": "stream",
     "text": [
      "2023-08-07 19:00:39,300 INFO sqlalchemy.engine.Engine BEGIN (implicit)\n",
      "2023-08-07 19:00:39,301 INFO sqlalchemy.engine.Engine SELECT ghg_cache_table.data_variables, ghg_cache_table.quantity, ghg_cache_table.input_observations, ghg_cache_table.time_aggregation, ghg_cache_table.year, ghg_cache_table.month, ghg_cache_table.version, ghg_cache_table.files_path \n",
      "FROM ghg_cache_table \n",
      "WHERE ghg_cache_table.data_variables = ? AND ghg_cache_table.quantity = ? AND ghg_cache_table.input_observations = ? AND ghg_cache_table.time_aggregation = ? AND ghg_cache_table.version = ? AND ghg_cache_table.year IN (?, ?, ?) AND ghg_cache_table.month IN (?, ?)\n",
      "2023-08-07 19:00:39,302 INFO sqlalchemy.engine.Engine [cached since 0.9896s ago] ('nitrous_oxide', 'surface_flux', 'surface', 'monthly_mean', 'latest', 2000, 2001, 2005, 1, 2)\n",
      "2023-08-07 19:00:39,303 INFO sqlalchemy.engine.Engine ROLLBACK\n"
     ]
    },
    {
     "name": "stderr",
     "output_type": "stream",
     "text": [
      "2023-08-07 19:00:39,304 DEBUG Cached parameters: [\n",
      "'data_variables': nitrous_oxide,\n",
      "'quantity': surface_flux,\n",
      "'input_observations': surface,\n",
      "'time_aggregation': monthly_mean,\n",
      "'year': 2000,\n",
      "'month': 1,\n",
      "'version': latest,\n",
      "'files_path': /home/luigibrancati/.atmospheric_explorer/data/global_greenhouse_gas_inversion/data_1/*.nc,\n",
      ", \n",
      "'data_variables': nitrous_oxide,\n",
      "'quantity': surface_flux,\n",
      "'input_observations': surface,\n",
      "'time_aggregation': monthly_mean,\n",
      "'year': 2000,\n",
      "'month': 2,\n",
      "'version': latest,\n",
      "'files_path': /home/luigibrancati/.atmospheric_explorer/data/global_greenhouse_gas_inversion/data_1/*.nc,\n",
      ", \n",
      "'data_variables': nitrous_oxide,\n",
      "'quantity': surface_flux,\n",
      "'input_observations': surface,\n",
      "'time_aggregation': monthly_mean,\n",
      "'year': 2001,\n",
      "'month': 1,\n",
      "'version': latest,\n",
      "'files_path': /home/luigibrancati/.atmospheric_explorer/data/global_greenhouse_gas_inversion/data_1/*.nc,\n",
      ", \n",
      "'data_variables': nitrous_oxide,\n",
      "'quantity': surface_flux,\n",
      "'input_observations': surface,\n",
      "'time_aggregation': monthly_mean,\n",
      "'year': 2001,\n",
      "'month': 2,\n",
      "'version': latest,\n",
      "'files_path': /home/luigibrancati/.atmospheric_explorer/data/global_greenhouse_gas_inversion/data_1/*.nc,\n",
      "]\n",
      "2023-08-07 19:00:39,306 INFO Some data points are already cached, updating parameters\n",
      "2023-08-07 19:00:39,307 DEBUG Parameters have the same key variables, moving to compute year and month difference\n",
      "2023-08-07 19:00:39,308 DEBUG Parameters have different years and months, returning an inclusive parameter set\n",
      "2023-08-07 19:00:39,309 INFO The parameter specified are not fully cached, creating variables to manage files\n",
      "2023-08-07 19:00:39,310 DEBUG Created folder /home/luigibrancati/.atmospheric_explorer/data/global_greenhouse_gas_inversion/data_2\n",
      "2023-08-07 19:00:39,311 INFO Downloading non-cached parameters: GHGParameters(data_variables=nitrous_oxide, quantity=surface_flux, input_observations=surface, time_aggregation=monthly_mean, years=['2005'], months=['01', '02'], version=latest)\n",
      "2023-08-07 19:00:39,335 INFO Welcome to the CDS\n",
      "2023-08-07 19:00:39,336 INFO Sending request to https://ads.atmosphere.copernicus.eu/api/v2/resources/cams-global-greenhouse-gas-inversion\n",
      "2023-08-07 19:00:39,402 INFO Request is completed\n",
      "2023-08-07 19:00:39,403 INFO Downloading https://download-0005-ads-clone.copernicus-climate.eu/cache-compute-0005/cache/data7/dataset-cams-global-greenhouse-gas-inversion-439682ec-9b2b-40a3-8f85-25f5ea77e363.zip to /home/luigibrancati/.atmospheric_explorer/data/global_greenhouse_gas_inversion/data_2/data_2.zip (69.8K)\n",
      "2023-08-07 19:00:39,637 INFO Download rate 299.3K/s\n",
      "2023-08-07 19:00:39,708 INFO Finished downloading file /home/luigibrancati/.atmospheric_explorer/data/global_greenhouse_gas_inversion/data_2/data_2.zip\n",
      "2023-08-07 19:00:39,712 DEBUG Extracted file /home/luigibrancati/.atmospheric_explorer/data/global_greenhouse_gas_inversion/data_2/data_2.zip to folder /home/luigibrancati/.atmospheric_explorer/data/global_greenhouse_gas_inversion/data_2\n",
      "2023-08-07 19:00:39,714 DEBUG Updated file_full_path to wildcard path /home/luigibrancati/.atmospheric_explorer/data/global_greenhouse_gas_inversion/data_2/*.nc\n",
      "2023-08-07 19:00:39,715 DEBUG Removed /home/luigibrancati/.atmospheric_explorer/data/global_greenhouse_gas_inversion/data_2/data_2.zip\n"
     ]
    },
    {
     "name": "stdout",
     "output_type": "stream",
     "text": [
      "2023-08-07 19:00:39,717 INFO sqlalchemy.engine.Engine BEGIN (implicit)\n",
      "2023-08-07 19:00:39,718 INFO sqlalchemy.engine.Engine INSERT INTO ghg_cache_table (data_variables, quantity, input_observations, time_aggregation, year, month, version, files_path) VALUES (?, ?, ?, ?, ?, ?, ?, ?), (?, ?, ?, ?, ?, ?, ?, ?) ON CONFLICT (data_variables, quantity, input_observations, time_aggregation, year, month, version) DO UPDATE SET files_path = excluded.files_path\n",
      "2023-08-07 19:00:39,719 INFO sqlalchemy.engine.Engine [no key 0.00072s] ('nitrous_oxide', 'surface_flux', 'surface', 'monthly_mean', 2005, 1, 'latest', '/home/luigibrancati/.atmospheric_explorer/data/global_greenhouse_gas_inversion/data_2/*.nc', 'nitrous_oxide', 'surface_flux', 'surface', 'monthly_mean', 2005, 2, 'latest', '/home/luigibrancati/.atmospheric_explorer/data/global_greenhouse_gas_inversion/data_2/*.nc')\n",
      "2023-08-07 19:00:39,720 INFO sqlalchemy.engine.Engine COMMIT\n",
      "2023-08-07 19:00:39,726 INFO sqlalchemy.engine.Engine BEGIN (implicit)\n",
      "2023-08-07 19:00:39,728 INFO sqlalchemy.engine.Engine SELECT ghg_cache_table.data_variables, ghg_cache_table.quantity, ghg_cache_table.input_observations, ghg_cache_table.time_aggregation, ghg_cache_table.year, ghg_cache_table.month, ghg_cache_table.version, ghg_cache_table.files_path \n",
      "FROM ghg_cache_table \n",
      "WHERE ghg_cache_table.data_variables = ? AND ghg_cache_table.quantity = ? AND ghg_cache_table.input_observations = ? AND ghg_cache_table.time_aggregation = ? AND ghg_cache_table.version = ? AND ghg_cache_table.year IN (?, ?, ?) AND ghg_cache_table.month IN (?, ?)\n",
      "2023-08-07 19:00:39,729 INFO sqlalchemy.engine.Engine [cached since 1.417s ago] ('nitrous_oxide', 'surface_flux', 'surface', 'monthly_mean', 'latest', 2000, 2001, 2005, 1, 2)\n",
      "2023-08-07 19:00:39,730 INFO sqlalchemy.engine.Engine ROLLBACK\n"
     ]
    },
    {
     "name": "stderr",
     "output_type": "stream",
     "text": [
      "2023-08-07 19:00:39,731 DEBUG Cached parameters: [\n",
      "'data_variables': nitrous_oxide,\n",
      "'quantity': surface_flux,\n",
      "'input_observations': surface,\n",
      "'time_aggregation': monthly_mean,\n",
      "'year': 2000,\n",
      "'month': 1,\n",
      "'version': latest,\n",
      "'files_path': /home/luigibrancati/.atmospheric_explorer/data/global_greenhouse_gas_inversion/data_1/*.nc,\n",
      ", \n",
      "'data_variables': nitrous_oxide,\n",
      "'quantity': surface_flux,\n",
      "'input_observations': surface,\n",
      "'time_aggregation': monthly_mean,\n",
      "'year': 2000,\n",
      "'month': 2,\n",
      "'version': latest,\n",
      "'files_path': /home/luigibrancati/.atmospheric_explorer/data/global_greenhouse_gas_inversion/data_1/*.nc,\n",
      ", \n",
      "'data_variables': nitrous_oxide,\n",
      "'quantity': surface_flux,\n",
      "'input_observations': surface,\n",
      "'time_aggregation': monthly_mean,\n",
      "'year': 2001,\n",
      "'month': 1,\n",
      "'version': latest,\n",
      "'files_path': /home/luigibrancati/.atmospheric_explorer/data/global_greenhouse_gas_inversion/data_1/*.nc,\n",
      ", \n",
      "'data_variables': nitrous_oxide,\n",
      "'quantity': surface_flux,\n",
      "'input_observations': surface,\n",
      "'time_aggregation': monthly_mean,\n",
      "'year': 2001,\n",
      "'month': 2,\n",
      "'version': latest,\n",
      "'files_path': /home/luigibrancati/.atmospheric_explorer/data/global_greenhouse_gas_inversion/data_1/*.nc,\n",
      ", \n",
      "'data_variables': nitrous_oxide,\n",
      "'quantity': surface_flux,\n",
      "'input_observations': surface,\n",
      "'time_aggregation': monthly_mean,\n",
      "'year': 2005,\n",
      "'month': 1,\n",
      "'version': latest,\n",
      "'files_path': /home/luigibrancati/.atmospheric_explorer/data/global_greenhouse_gas_inversion/data_2/*.nc,\n",
      ", \n",
      "'data_variables': nitrous_oxide,\n",
      "'quantity': surface_flux,\n",
      "'input_observations': surface,\n",
      "'time_aggregation': monthly_mean,\n",
      "'year': 2005,\n",
      "'month': 2,\n",
      "'version': latest,\n",
      "'files_path': /home/luigibrancati/.atmospheric_explorer/data/global_greenhouse_gas_inversion/data_2/*.nc,\n",
      "]\n",
      "2023-08-07 19:00:39,732 INFO Some data points are already cached, updating parameters\n",
      "2023-08-07 19:00:39,733 DEBUG Parameters have the same key variables, moving to compute year and month difference\n",
      "2023-08-07 19:00:39,734 DEBUG Parameters are the same\n"
     ]
    }
   ],
   "source": [
    "d2 = GHGDataInterface(\n",
    "    version=\"latest\",\n",
    "    data_variables=\"nitrous_oxide\",\n",
    "    quantity=\"surface_flux\",\n",
    "    input_observations=\"surface\",\n",
    "    time_aggregation=\"monthly_mean\",\n",
    "    years=[\"2000\", \"2001\", \"2005\"],\n",
    "    months=[\"1\", \"2\"],\n",
    ")\n",
    "d2.download()"
   ]
  },
  {
   "cell_type": "code",
   "execution_count": 7,
   "metadata": {},
   "outputs": [
    {
     "name": "stderr",
     "output_type": "stream",
     "text": [
      "2023-08-07 19:00:50,228 INFO Created folder /home/luigibrancati/.atmospheric_explorer/data/global_greenhouse_gas_inversion\n"
     ]
    },
    {
     "name": "stdout",
     "output_type": "stream",
     "text": [
      "2023-08-07 19:01:05,292 INFO sqlalchemy.engine.Engine BEGIN (implicit)\n",
      "2023-08-07 19:01:05,295 INFO sqlalchemy.engine.Engine SELECT ghg_cache_table.data_variables, ghg_cache_table.quantity, ghg_cache_table.input_observations, ghg_cache_table.time_aggregation, ghg_cache_table.year, ghg_cache_table.month, ghg_cache_table.version, ghg_cache_table.files_path \n",
      "FROM ghg_cache_table \n",
      "WHERE ghg_cache_table.data_variables = ? AND ghg_cache_table.quantity = ? AND ghg_cache_table.input_observations = ? AND ghg_cache_table.time_aggregation = ? AND ghg_cache_table.version = ? AND ghg_cache_table.year IN (?, ?) AND ghg_cache_table.month IN (?, ?)\n",
      "2023-08-07 19:01:05,297 INFO sqlalchemy.engine.Engine [cached since 26.98s ago] ('nitrous_oxide', 'surface_flux', 'surface', 'monthly_mean', 'latest', 2000, 2004, 1, 2)\n",
      "2023-08-07 19:01:05,301 INFO sqlalchemy.engine.Engine ROLLBACK\n"
     ]
    },
    {
     "name": "stderr",
     "output_type": "stream",
     "text": [
      "2023-08-07 19:01:07,040 DEBUG Cached parameters: [\n",
      "'data_variables': nitrous_oxide,\n",
      "'quantity': surface_flux,\n",
      "'input_observations': surface,\n",
      "'time_aggregation': monthly_mean,\n",
      "'year': 2000,\n",
      "'month': 1,\n",
      "'version': latest,\n",
      "'files_path': /home/luigibrancati/.atmospheric_explorer/data/global_greenhouse_gas_inversion/data_1/*.nc,\n",
      ", \n",
      "'data_variables': nitrous_oxide,\n",
      "'quantity': surface_flux,\n",
      "'input_observations': surface,\n",
      "'time_aggregation': monthly_mean,\n",
      "'year': 2000,\n",
      "'month': 2,\n",
      "'version': latest,\n",
      "'files_path': /home/luigibrancati/.atmospheric_explorer/data/global_greenhouse_gas_inversion/data_1/*.nc,\n",
      "]\n",
      "2023-08-07 19:01:26,792 INFO Some data points are already cached, updating parameters\n",
      "2023-08-07 19:01:31,531 DEBUG Parameters have the same key variables, moving to compute year and month difference\n",
      "2023-08-07 19:01:31,533 DEBUG Parameters have different years and months, returning an inclusive parameter set\n",
      "2023-08-07 19:01:37,335 INFO The parameter specified are not fully cached, creating variables to manage files\n",
      "2023-08-07 19:01:38,038 DEBUG Created folder /home/luigibrancati/.atmospheric_explorer/data/global_greenhouse_gas_inversion/data_3\n",
      "2023-08-07 19:01:38,040 INFO Downloading non-cached parameters: GHGParameters(data_variables=nitrous_oxide, quantity=surface_flux, input_observations=surface, time_aggregation=monthly_mean, years=['2004'], months=['01', '02'], version=latest)\n",
      "2023-08-07 19:01:38,073 INFO Welcome to the CDS\n",
      "2023-08-07 19:01:38,074 INFO Sending request to https://ads.atmosphere.copernicus.eu/api/v2/resources/cams-global-greenhouse-gas-inversion\n",
      "2023-08-07 19:01:38,179 INFO Request is completed\n",
      "2023-08-07 19:01:38,180 INFO Downloading https://download-0005-ads-clone.copernicus-climate.eu/cache-compute-0005/cache/data7/dataset-cams-global-greenhouse-gas-inversion-4326031d-000f-48f6-99a9-55c3042a39e1.zip to /home/luigibrancati/.atmospheric_explorer/data/global_greenhouse_gas_inversion/data_3/data_3.zip (69.9K)\n",
      "2023-08-07 19:01:38,390 INFO Download rate 333.4K/s\n",
      "2023-08-07 19:01:38,425 INFO Finished downloading file /home/luigibrancati/.atmospheric_explorer/data/global_greenhouse_gas_inversion/data_3/data_3.zip\n",
      "2023-08-07 19:01:38,429 DEBUG Extracted file /home/luigibrancati/.atmospheric_explorer/data/global_greenhouse_gas_inversion/data_3/data_3.zip to folder /home/luigibrancati/.atmospheric_explorer/data/global_greenhouse_gas_inversion/data_3\n",
      "2023-08-07 19:01:38,430 DEBUG Updated file_full_path to wildcard path /home/luigibrancati/.atmospheric_explorer/data/global_greenhouse_gas_inversion/data_3/*.nc\n",
      "2023-08-07 19:01:38,432 DEBUG Removed /home/luigibrancati/.atmospheric_explorer/data/global_greenhouse_gas_inversion/data_3/data_3.zip\n"
     ]
    },
    {
     "name": "stdout",
     "output_type": "stream",
     "text": [
      "2023-08-07 19:01:38,437 INFO sqlalchemy.engine.Engine BEGIN (implicit)\n",
      "2023-08-07 19:01:38,445 INFO sqlalchemy.engine.Engine INSERT INTO ghg_cache_table (data_variables, quantity, input_observations, time_aggregation, year, month, version, files_path) VALUES (?, ?, ?, ?, ?, ?, ?, ?), (?, ?, ?, ?, ?, ?, ?, ?) ON CONFLICT (data_variables, quantity, input_observations, time_aggregation, year, month, version) DO UPDATE SET files_path = excluded.files_path\n",
      "2023-08-07 19:01:38,446 INFO sqlalchemy.engine.Engine [no key 0.00222s] ('nitrous_oxide', 'surface_flux', 'surface', 'monthly_mean', 2004, 1, 'latest', '/home/luigibrancati/.atmospheric_explorer/data/global_greenhouse_gas_inversion/data_3/*.nc', 'nitrous_oxide', 'surface_flux', 'surface', 'monthly_mean', 2004, 2, 'latest', '/home/luigibrancati/.atmospheric_explorer/data/global_greenhouse_gas_inversion/data_3/*.nc')\n",
      "2023-08-07 19:01:38,448 INFO sqlalchemy.engine.Engine COMMIT\n",
      "2023-08-07 19:01:38,572 INFO sqlalchemy.engine.Engine BEGIN (implicit)\n",
      "2023-08-07 19:01:38,575 INFO sqlalchemy.engine.Engine SELECT ghg_cache_table.data_variables, ghg_cache_table.quantity, ghg_cache_table.input_observations, ghg_cache_table.time_aggregation, ghg_cache_table.year, ghg_cache_table.month, ghg_cache_table.version, ghg_cache_table.files_path \n",
      "FROM ghg_cache_table \n",
      "WHERE ghg_cache_table.data_variables = ? AND ghg_cache_table.quantity = ? AND ghg_cache_table.input_observations = ? AND ghg_cache_table.time_aggregation = ? AND ghg_cache_table.version = ? AND ghg_cache_table.year IN (?, ?) AND ghg_cache_table.month IN (?, ?)\n",
      "2023-08-07 19:01:38,576 INFO sqlalchemy.engine.Engine [cached since 60.26s ago] ('nitrous_oxide', 'surface_flux', 'surface', 'monthly_mean', 'latest', 2000, 2004, 1, 2)\n",
      "2023-08-07 19:01:38,579 INFO sqlalchemy.engine.Engine ROLLBACK\n"
     ]
    },
    {
     "name": "stderr",
     "output_type": "stream",
     "text": [
      "2023-08-07 19:01:38,580 DEBUG Cached parameters: [\n",
      "'data_variables': nitrous_oxide,\n",
      "'quantity': surface_flux,\n",
      "'input_observations': surface,\n",
      "'time_aggregation': monthly_mean,\n",
      "'year': 2000,\n",
      "'month': 1,\n",
      "'version': latest,\n",
      "'files_path': /home/luigibrancati/.atmospheric_explorer/data/global_greenhouse_gas_inversion/data_1/*.nc,\n",
      ", \n",
      "'data_variables': nitrous_oxide,\n",
      "'quantity': surface_flux,\n",
      "'input_observations': surface,\n",
      "'time_aggregation': monthly_mean,\n",
      "'year': 2000,\n",
      "'month': 2,\n",
      "'version': latest,\n",
      "'files_path': /home/luigibrancati/.atmospheric_explorer/data/global_greenhouse_gas_inversion/data_1/*.nc,\n",
      ", \n",
      "'data_variables': nitrous_oxide,\n",
      "'quantity': surface_flux,\n",
      "'input_observations': surface,\n",
      "'time_aggregation': monthly_mean,\n",
      "'year': 2004,\n",
      "'month': 1,\n",
      "'version': latest,\n",
      "'files_path': /home/luigibrancati/.atmospheric_explorer/data/global_greenhouse_gas_inversion/data_3/*.nc,\n",
      ", \n",
      "'data_variables': nitrous_oxide,\n",
      "'quantity': surface_flux,\n",
      "'input_observations': surface,\n",
      "'time_aggregation': monthly_mean,\n",
      "'year': 2004,\n",
      "'month': 2,\n",
      "'version': latest,\n",
      "'files_path': /home/luigibrancati/.atmospheric_explorer/data/global_greenhouse_gas_inversion/data_3/*.nc,\n",
      "]\n",
      "2023-08-07 19:01:38,583 INFO Some data points are already cached, updating parameters\n",
      "2023-08-07 19:01:38,584 DEBUG Parameters have the same key variables, moving to compute year and month difference\n",
      "2023-08-07 19:01:38,586 DEBUG Parameters are the same\n"
     ]
    }
   ],
   "source": [
    "d3 = GHGDataInterface(\n",
    "    version=\"latest\",\n",
    "    data_variables=\"nitrous_oxide\",\n",
    "    quantity=\"surface_flux\",\n",
    "    input_observations=\"surface\",\n",
    "    time_aggregation=\"monthly_mean\",\n",
    "    years=[\"2000\", \"2004\"],\n",
    "    months=[\"1\", \"2\"],\n",
    ")\n",
    "d3.download()"
   ]
  },
  {
   "cell_type": "code",
   "execution_count": null,
   "metadata": {},
   "outputs": [],
   "source": [
    "print(GHGCacheTable.get_rows())"
   ]
  },
  {
   "cell_type": "code",
   "execution_count": null,
   "metadata": {},
   "outputs": [],
   "source": []
  }
 ],
 "metadata": {
  "kernelspec": {
   "display_name": "atmospheric-explorer",
   "language": "python",
   "name": "python3"
  },
  "language_info": {
   "codemirror_mode": {
    "name": "ipython",
    "version": 3
   },
   "file_extension": ".py",
   "mimetype": "text/x-python",
   "name": "python",
   "nbconvert_exporter": "python",
   "pygments_lexer": "ipython3",
   "version": "3.11.0"
  },
  "orig_nbformat": 4
 },
 "nbformat": 4,
 "nbformat_minor": 2
}
